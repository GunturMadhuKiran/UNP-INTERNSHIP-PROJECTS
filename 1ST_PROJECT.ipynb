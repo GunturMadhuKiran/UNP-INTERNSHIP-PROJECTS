{
  "cells": [
    {
      "cell_type": "code",
      "execution_count": null,
      "metadata": {
        "id": "sHG3xJJKXatm"
      },
      "outputs": [],
      "source": [
        "import numpy as np\n",
        "import pandas as pd\n",
        "import matplotlib.pyplot as plt\n",
        "import seaborn as sns\n",
        "from scipy import stats\n",
        "from sklearn.model_selection import train_test_split\n",
        "from sklearn.metrics import mean_squared_error, r2_score, mean_absolute_error\n",
        "from sklearn.metrics import accuracy_score"
      ]
    },
    {
      "cell_type": "code",
      "execution_count": null,
      "metadata": {
        "colab": {
          "base_uri": "https://localhost:8080/",
          "height": 475
        },
        "id": "tq8jc229YH-o",
        "outputId": "443ec12e-405f-4fca-e575-a3d91c3ef5c5"
      },
      "outputs": [
        {
          "data": {
            "text/html": [
              "\n",
              "  <div id=\"df-36c56b56-873e-4db0-ab69-ffb2eb2f7da6\" class=\"colab-df-container\">\n",
              "    <div>\n",
              "<style scoped>\n",
              "    .dataframe tbody tr th:only-of-type {\n",
              "        vertical-align: middle;\n",
              "    }\n",
              "\n",
              "    .dataframe tbody tr th {\n",
              "        vertical-align: top;\n",
              "    }\n",
              "\n",
              "    .dataframe thead th {\n",
              "        text-align: right;\n",
              "    }\n",
              "</style>\n",
              "<table border=\"1\" class=\"dataframe\">\n",
              "  <thead>\n",
              "    <tr style=\"text-align: right;\">\n",
              "      <th></th>\n",
              "      <th>Cement (component 1)(kg in a m^3 mixture)</th>\n",
              "      <th>Blast Furnace Slag (component 2)(kg in a m^3 mixture)</th>\n",
              "      <th>Fly Ash (component 3)(kg in a m^3 mixture)</th>\n",
              "      <th>Water  (component 4)(kg in a m^3 mixture)</th>\n",
              "      <th>Superplasticizer (component 5)(kg in a m^3 mixture)</th>\n",
              "      <th>Coarse Aggregate  (component 6)(kg in a m^3 mixture)</th>\n",
              "      <th>Fine Aggregate (component 7)(kg in a m^3 mixture)</th>\n",
              "      <th>Age (day)</th>\n",
              "      <th>Concrete compressive strength(MPa, megapascals)</th>\n",
              "    </tr>\n",
              "  </thead>\n",
              "  <tbody>\n",
              "    <tr>\n",
              "      <th>0</th>\n",
              "      <td>540.0</td>\n",
              "      <td>0.0</td>\n",
              "      <td>0.0</td>\n",
              "      <td>162.0</td>\n",
              "      <td>2.5</td>\n",
              "      <td>1040.0</td>\n",
              "      <td>676.0</td>\n",
              "      <td>28</td>\n",
              "      <td>79.986111</td>\n",
              "    </tr>\n",
              "    <tr>\n",
              "      <th>1</th>\n",
              "      <td>540.0</td>\n",
              "      <td>0.0</td>\n",
              "      <td>0.0</td>\n",
              "      <td>162.0</td>\n",
              "      <td>2.5</td>\n",
              "      <td>1055.0</td>\n",
              "      <td>676.0</td>\n",
              "      <td>28</td>\n",
              "      <td>61.887366</td>\n",
              "    </tr>\n",
              "    <tr>\n",
              "      <th>2</th>\n",
              "      <td>332.5</td>\n",
              "      <td>142.5</td>\n",
              "      <td>0.0</td>\n",
              "      <td>228.0</td>\n",
              "      <td>0.0</td>\n",
              "      <td>932.0</td>\n",
              "      <td>594.0</td>\n",
              "      <td>270</td>\n",
              "      <td>40.269535</td>\n",
              "    </tr>\n",
              "    <tr>\n",
              "      <th>3</th>\n",
              "      <td>332.5</td>\n",
              "      <td>142.5</td>\n",
              "      <td>0.0</td>\n",
              "      <td>228.0</td>\n",
              "      <td>0.0</td>\n",
              "      <td>932.0</td>\n",
              "      <td>594.0</td>\n",
              "      <td>365</td>\n",
              "      <td>41.052780</td>\n",
              "    </tr>\n",
              "    <tr>\n",
              "      <th>4</th>\n",
              "      <td>198.6</td>\n",
              "      <td>132.4</td>\n",
              "      <td>0.0</td>\n",
              "      <td>192.0</td>\n",
              "      <td>0.0</td>\n",
              "      <td>978.4</td>\n",
              "      <td>825.5</td>\n",
              "      <td>360</td>\n",
              "      <td>44.296075</td>\n",
              "    </tr>\n",
              "    <tr>\n",
              "      <th>...</th>\n",
              "      <td>...</td>\n",
              "      <td>...</td>\n",
              "      <td>...</td>\n",
              "      <td>...</td>\n",
              "      <td>...</td>\n",
              "      <td>...</td>\n",
              "      <td>...</td>\n",
              "      <td>...</td>\n",
              "      <td>...</td>\n",
              "    </tr>\n",
              "    <tr>\n",
              "      <th>1025</th>\n",
              "      <td>276.4</td>\n",
              "      <td>116.0</td>\n",
              "      <td>90.3</td>\n",
              "      <td>179.6</td>\n",
              "      <td>8.9</td>\n",
              "      <td>870.1</td>\n",
              "      <td>768.3</td>\n",
              "      <td>28</td>\n",
              "      <td>44.284354</td>\n",
              "    </tr>\n",
              "    <tr>\n",
              "      <th>1026</th>\n",
              "      <td>322.2</td>\n",
              "      <td>0.0</td>\n",
              "      <td>115.6</td>\n",
              "      <td>196.0</td>\n",
              "      <td>10.4</td>\n",
              "      <td>817.9</td>\n",
              "      <td>813.4</td>\n",
              "      <td>28</td>\n",
              "      <td>31.178794</td>\n",
              "    </tr>\n",
              "    <tr>\n",
              "      <th>1027</th>\n",
              "      <td>148.5</td>\n",
              "      <td>139.4</td>\n",
              "      <td>108.6</td>\n",
              "      <td>192.7</td>\n",
              "      <td>6.1</td>\n",
              "      <td>892.4</td>\n",
              "      <td>780.0</td>\n",
              "      <td>28</td>\n",
              "      <td>23.696601</td>\n",
              "    </tr>\n",
              "    <tr>\n",
              "      <th>1028</th>\n",
              "      <td>159.1</td>\n",
              "      <td>186.7</td>\n",
              "      <td>0.0</td>\n",
              "      <td>175.6</td>\n",
              "      <td>11.3</td>\n",
              "      <td>989.6</td>\n",
              "      <td>788.9</td>\n",
              "      <td>28</td>\n",
              "      <td>32.768036</td>\n",
              "    </tr>\n",
              "    <tr>\n",
              "      <th>1029</th>\n",
              "      <td>260.9</td>\n",
              "      <td>100.5</td>\n",
              "      <td>78.3</td>\n",
              "      <td>200.6</td>\n",
              "      <td>8.6</td>\n",
              "      <td>864.5</td>\n",
              "      <td>761.5</td>\n",
              "      <td>28</td>\n",
              "      <td>32.401235</td>\n",
              "    </tr>\n",
              "  </tbody>\n",
              "</table>\n",
              "<p>1030 rows × 9 columns</p>\n",
              "</div>\n",
              "    <div class=\"colab-df-buttons\">\n",
              "\n",
              "  <div class=\"colab-df-container\">\n",
              "    <button class=\"colab-df-convert\" onclick=\"convertToInteractive('df-36c56b56-873e-4db0-ab69-ffb2eb2f7da6')\"\n",
              "            title=\"Convert this dataframe to an interactive table.\"\n",
              "            style=\"display:none;\">\n",
              "\n",
              "  <svg xmlns=\"http://www.w3.org/2000/svg\" height=\"24px\" viewBox=\"0 -960 960 960\">\n",
              "    <path d=\"M120-120v-720h720v720H120Zm60-500h600v-160H180v160Zm220 220h160v-160H400v160Zm0 220h160v-160H400v160ZM180-400h160v-160H180v160Zm440 0h160v-160H620v160ZM180-180h160v-160H180v160Zm440 0h160v-160H620v160Z\"/>\n",
              "  </svg>\n",
              "    </button>\n",
              "\n",
              "  <style>\n",
              "    .colab-df-container {\n",
              "      display:flex;\n",
              "      gap: 12px;\n",
              "    }\n",
              "\n",
              "    .colab-df-convert {\n",
              "      background-color: #E8F0FE;\n",
              "      border: none;\n",
              "      border-radius: 50%;\n",
              "      cursor: pointer;\n",
              "      display: none;\n",
              "      fill: #1967D2;\n",
              "      height: 32px;\n",
              "      padding: 0 0 0 0;\n",
              "      width: 32px;\n",
              "    }\n",
              "\n",
              "    .colab-df-convert:hover {\n",
              "      background-color: #E2EBFA;\n",
              "      box-shadow: 0px 1px 2px rgba(60, 64, 67, 0.3), 0px 1px 3px 1px rgba(60, 64, 67, 0.15);\n",
              "      fill: #174EA6;\n",
              "    }\n",
              "\n",
              "    .colab-df-buttons div {\n",
              "      margin-bottom: 4px;\n",
              "    }\n",
              "\n",
              "    [theme=dark] .colab-df-convert {\n",
              "      background-color: #3B4455;\n",
              "      fill: #D2E3FC;\n",
              "    }\n",
              "\n",
              "    [theme=dark] .colab-df-convert:hover {\n",
              "      background-color: #434B5C;\n",
              "      box-shadow: 0px 1px 3px 1px rgba(0, 0, 0, 0.15);\n",
              "      filter: drop-shadow(0px 1px 2px rgba(0, 0, 0, 0.3));\n",
              "      fill: #FFFFFF;\n",
              "    }\n",
              "  </style>\n",
              "\n",
              "    <script>\n",
              "      const buttonEl =\n",
              "        document.querySelector('#df-36c56b56-873e-4db0-ab69-ffb2eb2f7da6 button.colab-df-convert');\n",
              "      buttonEl.style.display =\n",
              "        google.colab.kernel.accessAllowed ? 'block' : 'none';\n",
              "\n",
              "      async function convertToInteractive(key) {\n",
              "        const element = document.querySelector('#df-36c56b56-873e-4db0-ab69-ffb2eb2f7da6');\n",
              "        const dataTable =\n",
              "          await google.colab.kernel.invokeFunction('convertToInteractive',\n",
              "                                                    [key], {});\n",
              "        if (!dataTable) return;\n",
              "\n",
              "        const docLinkHtml = 'Like what you see? Visit the ' +\n",
              "          '<a target=\"_blank\" href=https://colab.research.google.com/notebooks/data_table.ipynb>data table notebook</a>'\n",
              "          + ' to learn more about interactive tables.';\n",
              "        element.innerHTML = '';\n",
              "        dataTable['output_type'] = 'display_data';\n",
              "        await google.colab.output.renderOutput(dataTable, element);\n",
              "        const docLink = document.createElement('div');\n",
              "        docLink.innerHTML = docLinkHtml;\n",
              "        element.appendChild(docLink);\n",
              "      }\n",
              "    </script>\n",
              "  </div>\n",
              "\n",
              "\n",
              "<div id=\"df-034fdf52-f3f6-4f66-a80a-2984b1709eb9\">\n",
              "  <button class=\"colab-df-quickchart\" onclick=\"quickchart('df-034fdf52-f3f6-4f66-a80a-2984b1709eb9')\"\n",
              "            title=\"Suggest charts\"\n",
              "            style=\"display:none;\">\n",
              "\n",
              "<svg xmlns=\"http://www.w3.org/2000/svg\" height=\"24px\"viewBox=\"0 0 24 24\"\n",
              "     width=\"24px\">\n",
              "    <g>\n",
              "        <path d=\"M19 3H5c-1.1 0-2 .9-2 2v14c0 1.1.9 2 2 2h14c1.1 0 2-.9 2-2V5c0-1.1-.9-2-2-2zM9 17H7v-7h2v7zm4 0h-2V7h2v10zm4 0h-2v-4h2v4z\"/>\n",
              "    </g>\n",
              "</svg>\n",
              "  </button>\n",
              "\n",
              "<style>\n",
              "  .colab-df-quickchart {\n",
              "      --bg-color: #E8F0FE;\n",
              "      --fill-color: #1967D2;\n",
              "      --hover-bg-color: #E2EBFA;\n",
              "      --hover-fill-color: #174EA6;\n",
              "      --disabled-fill-color: #AAA;\n",
              "      --disabled-bg-color: #DDD;\n",
              "  }\n",
              "\n",
              "  [theme=dark] .colab-df-quickchart {\n",
              "      --bg-color: #3B4455;\n",
              "      --fill-color: #D2E3FC;\n",
              "      --hover-bg-color: #434B5C;\n",
              "      --hover-fill-color: #FFFFFF;\n",
              "      --disabled-bg-color: #3B4455;\n",
              "      --disabled-fill-color: #666;\n",
              "  }\n",
              "\n",
              "  .colab-df-quickchart {\n",
              "    background-color: var(--bg-color);\n",
              "    border: none;\n",
              "    border-radius: 50%;\n",
              "    cursor: pointer;\n",
              "    display: none;\n",
              "    fill: var(--fill-color);\n",
              "    height: 32px;\n",
              "    padding: 0;\n",
              "    width: 32px;\n",
              "  }\n",
              "\n",
              "  .colab-df-quickchart:hover {\n",
              "    background-color: var(--hover-bg-color);\n",
              "    box-shadow: 0 1px 2px rgba(60, 64, 67, 0.3), 0 1px 3px 1px rgba(60, 64, 67, 0.15);\n",
              "    fill: var(--button-hover-fill-color);\n",
              "  }\n",
              "\n",
              "  .colab-df-quickchart-complete:disabled,\n",
              "  .colab-df-quickchart-complete:disabled:hover {\n",
              "    background-color: var(--disabled-bg-color);\n",
              "    fill: var(--disabled-fill-color);\n",
              "    box-shadow: none;\n",
              "  }\n",
              "\n",
              "  .colab-df-spinner {\n",
              "    border: 2px solid var(--fill-color);\n",
              "    border-color: transparent;\n",
              "    border-bottom-color: var(--fill-color);\n",
              "    animation:\n",
              "      spin 1s steps(1) infinite;\n",
              "  }\n",
              "\n",
              "  @keyframes spin {\n",
              "    0% {\n",
              "      border-color: transparent;\n",
              "      border-bottom-color: var(--fill-color);\n",
              "      border-left-color: var(--fill-color);\n",
              "    }\n",
              "    20% {\n",
              "      border-color: transparent;\n",
              "      border-left-color: var(--fill-color);\n",
              "      border-top-color: var(--fill-color);\n",
              "    }\n",
              "    30% {\n",
              "      border-color: transparent;\n",
              "      border-left-color: var(--fill-color);\n",
              "      border-top-color: var(--fill-color);\n",
              "      border-right-color: var(--fill-color);\n",
              "    }\n",
              "    40% {\n",
              "      border-color: transparent;\n",
              "      border-right-color: var(--fill-color);\n",
              "      border-top-color: var(--fill-color);\n",
              "    }\n",
              "    60% {\n",
              "      border-color: transparent;\n",
              "      border-right-color: var(--fill-color);\n",
              "    }\n",
              "    80% {\n",
              "      border-color: transparent;\n",
              "      border-right-color: var(--fill-color);\n",
              "      border-bottom-color: var(--fill-color);\n",
              "    }\n",
              "    90% {\n",
              "      border-color: transparent;\n",
              "      border-bottom-color: var(--fill-color);\n",
              "    }\n",
              "  }\n",
              "</style>\n",
              "\n",
              "  <script>\n",
              "    async function quickchart(key) {\n",
              "      const quickchartButtonEl =\n",
              "        document.querySelector('#' + key + ' button');\n",
              "      quickchartButtonEl.disabled = true;  // To prevent multiple clicks.\n",
              "      quickchartButtonEl.classList.add('colab-df-spinner');\n",
              "      try {\n",
              "        const charts = await google.colab.kernel.invokeFunction(\n",
              "            'suggestCharts', [key], {});\n",
              "      } catch (error) {\n",
              "        console.error('Error during call to suggestCharts:', error);\n",
              "      }\n",
              "      quickchartButtonEl.classList.remove('colab-df-spinner');\n",
              "      quickchartButtonEl.classList.add('colab-df-quickchart-complete');\n",
              "    }\n",
              "    (() => {\n",
              "      let quickchartButtonEl =\n",
              "        document.querySelector('#df-034fdf52-f3f6-4f66-a80a-2984b1709eb9 button');\n",
              "      quickchartButtonEl.style.display =\n",
              "        google.colab.kernel.accessAllowed ? 'block' : 'none';\n",
              "    })();\n",
              "  </script>\n",
              "</div>\n",
              "    </div>\n",
              "  </div>\n"
            ],
            "text/plain": [
              "      Cement (component 1)(kg in a m^3 mixture)  \\\n",
              "0                                         540.0   \n",
              "1                                         540.0   \n",
              "2                                         332.5   \n",
              "3                                         332.5   \n",
              "4                                         198.6   \n",
              "...                                         ...   \n",
              "1025                                      276.4   \n",
              "1026                                      322.2   \n",
              "1027                                      148.5   \n",
              "1028                                      159.1   \n",
              "1029                                      260.9   \n",
              "\n",
              "      Blast Furnace Slag (component 2)(kg in a m^3 mixture)  \\\n",
              "0                                                   0.0       \n",
              "1                                                   0.0       \n",
              "2                                                 142.5       \n",
              "3                                                 142.5       \n",
              "4                                                 132.4       \n",
              "...                                                 ...       \n",
              "1025                                              116.0       \n",
              "1026                                                0.0       \n",
              "1027                                              139.4       \n",
              "1028                                              186.7       \n",
              "1029                                              100.5       \n",
              "\n",
              "      Fly Ash (component 3)(kg in a m^3 mixture)  \\\n",
              "0                                            0.0   \n",
              "1                                            0.0   \n",
              "2                                            0.0   \n",
              "3                                            0.0   \n",
              "4                                            0.0   \n",
              "...                                          ...   \n",
              "1025                                        90.3   \n",
              "1026                                       115.6   \n",
              "1027                                       108.6   \n",
              "1028                                         0.0   \n",
              "1029                                        78.3   \n",
              "\n",
              "      Water  (component 4)(kg in a m^3 mixture)  \\\n",
              "0                                         162.0   \n",
              "1                                         162.0   \n",
              "2                                         228.0   \n",
              "3                                         228.0   \n",
              "4                                         192.0   \n",
              "...                                         ...   \n",
              "1025                                      179.6   \n",
              "1026                                      196.0   \n",
              "1027                                      192.7   \n",
              "1028                                      175.6   \n",
              "1029                                      200.6   \n",
              "\n",
              "      Superplasticizer (component 5)(kg in a m^3 mixture)  \\\n",
              "0                                                   2.5     \n",
              "1                                                   2.5     \n",
              "2                                                   0.0     \n",
              "3                                                   0.0     \n",
              "4                                                   0.0     \n",
              "...                                                 ...     \n",
              "1025                                                8.9     \n",
              "1026                                               10.4     \n",
              "1027                                                6.1     \n",
              "1028                                               11.3     \n",
              "1029                                                8.6     \n",
              "\n",
              "      Coarse Aggregate  (component 6)(kg in a m^3 mixture)  \\\n",
              "0                                                1040.0      \n",
              "1                                                1055.0      \n",
              "2                                                 932.0      \n",
              "3                                                 932.0      \n",
              "4                                                 978.4      \n",
              "...                                                 ...      \n",
              "1025                                              870.1      \n",
              "1026                                              817.9      \n",
              "1027                                              892.4      \n",
              "1028                                              989.6      \n",
              "1029                                              864.5      \n",
              "\n",
              "      Fine Aggregate (component 7)(kg in a m^3 mixture)  Age (day)  \\\n",
              "0                                                 676.0         28   \n",
              "1                                                 676.0         28   \n",
              "2                                                 594.0        270   \n",
              "3                                                 594.0        365   \n",
              "4                                                 825.5        360   \n",
              "...                                                 ...        ...   \n",
              "1025                                              768.3         28   \n",
              "1026                                              813.4         28   \n",
              "1027                                              780.0         28   \n",
              "1028                                              788.9         28   \n",
              "1029                                              761.5         28   \n",
              "\n",
              "      Concrete compressive strength(MPa, megapascals)   \n",
              "0                                            79.986111  \n",
              "1                                            61.887366  \n",
              "2                                            40.269535  \n",
              "3                                            41.052780  \n",
              "4                                            44.296075  \n",
              "...                                                ...  \n",
              "1025                                         44.284354  \n",
              "1026                                         31.178794  \n",
              "1027                                         23.696601  \n",
              "1028                                         32.768036  \n",
              "1029                                         32.401235  \n",
              "\n",
              "[1030 rows x 9 columns]"
            ]
          },
          "execution_count": 2,
          "metadata": {},
          "output_type": "execute_result"
        }
      ],
      "source": [
        "df = pd.read_excel(\"/content/Concrete_Data.xls\")\n",
        "df"
      ]
    },
    {
      "cell_type": "code",
      "execution_count": null,
      "metadata": {
        "id": "4xjc9YKcYJuY"
      },
      "outputs": [],
      "source": [
        "df.columns=[\"Cement\",\"BlastFurnaceSlag\",\"FlyAsh\",\"Water\",\"Superplasticizer\",\"CoarseAggregate\",\"FineAggregate\",\"Age\",\"strength\"]"
      ]
    },
    {
      "cell_type": "code",
      "execution_count": null,
      "metadata": {
        "colab": {
          "base_uri": "https://localhost:8080/",
          "height": 206
        },
        "id": "JFQ67gn_Y3mo",
        "outputId": "4558cd10-e4a0-486b-f4d0-84928b8db5b9"
      },
      "outputs": [
        {
          "data": {
            "text/html": [
              "\n",
              "  <div id=\"df-45fe2d6b-cf82-4669-ba10-cb1e788786bc\" class=\"colab-df-container\">\n",
              "    <div>\n",
              "<style scoped>\n",
              "    .dataframe tbody tr th:only-of-type {\n",
              "        vertical-align: middle;\n",
              "    }\n",
              "\n",
              "    .dataframe tbody tr th {\n",
              "        vertical-align: top;\n",
              "    }\n",
              "\n",
              "    .dataframe thead th {\n",
              "        text-align: right;\n",
              "    }\n",
              "</style>\n",
              "<table border=\"1\" class=\"dataframe\">\n",
              "  <thead>\n",
              "    <tr style=\"text-align: right;\">\n",
              "      <th></th>\n",
              "      <th>Cement</th>\n",
              "      <th>BlastFurnaceSlag</th>\n",
              "      <th>FlyAsh</th>\n",
              "      <th>Water</th>\n",
              "      <th>Superplasticizer</th>\n",
              "      <th>CoarseAggregate</th>\n",
              "      <th>FineAggregate</th>\n",
              "      <th>Age</th>\n",
              "      <th>strength</th>\n",
              "    </tr>\n",
              "  </thead>\n",
              "  <tbody>\n",
              "    <tr>\n",
              "      <th>0</th>\n",
              "      <td>540.0</td>\n",
              "      <td>0.0</td>\n",
              "      <td>0.0</td>\n",
              "      <td>162.0</td>\n",
              "      <td>2.5</td>\n",
              "      <td>1040.0</td>\n",
              "      <td>676.0</td>\n",
              "      <td>28</td>\n",
              "      <td>79.986111</td>\n",
              "    </tr>\n",
              "    <tr>\n",
              "      <th>1</th>\n",
              "      <td>540.0</td>\n",
              "      <td>0.0</td>\n",
              "      <td>0.0</td>\n",
              "      <td>162.0</td>\n",
              "      <td>2.5</td>\n",
              "      <td>1055.0</td>\n",
              "      <td>676.0</td>\n",
              "      <td>28</td>\n",
              "      <td>61.887366</td>\n",
              "    </tr>\n",
              "    <tr>\n",
              "      <th>2</th>\n",
              "      <td>332.5</td>\n",
              "      <td>142.5</td>\n",
              "      <td>0.0</td>\n",
              "      <td>228.0</td>\n",
              "      <td>0.0</td>\n",
              "      <td>932.0</td>\n",
              "      <td>594.0</td>\n",
              "      <td>270</td>\n",
              "      <td>40.269535</td>\n",
              "    </tr>\n",
              "    <tr>\n",
              "      <th>3</th>\n",
              "      <td>332.5</td>\n",
              "      <td>142.5</td>\n",
              "      <td>0.0</td>\n",
              "      <td>228.0</td>\n",
              "      <td>0.0</td>\n",
              "      <td>932.0</td>\n",
              "      <td>594.0</td>\n",
              "      <td>365</td>\n",
              "      <td>41.052780</td>\n",
              "    </tr>\n",
              "    <tr>\n",
              "      <th>4</th>\n",
              "      <td>198.6</td>\n",
              "      <td>132.4</td>\n",
              "      <td>0.0</td>\n",
              "      <td>192.0</td>\n",
              "      <td>0.0</td>\n",
              "      <td>978.4</td>\n",
              "      <td>825.5</td>\n",
              "      <td>360</td>\n",
              "      <td>44.296075</td>\n",
              "    </tr>\n",
              "  </tbody>\n",
              "</table>\n",
              "</div>\n",
              "    <div class=\"colab-df-buttons\">\n",
              "\n",
              "  <div class=\"colab-df-container\">\n",
              "    <button class=\"colab-df-convert\" onclick=\"convertToInteractive('df-45fe2d6b-cf82-4669-ba10-cb1e788786bc')\"\n",
              "            title=\"Convert this dataframe to an interactive table.\"\n",
              "            style=\"display:none;\">\n",
              "\n",
              "  <svg xmlns=\"http://www.w3.org/2000/svg\" height=\"24px\" viewBox=\"0 -960 960 960\">\n",
              "    <path d=\"M120-120v-720h720v720H120Zm60-500h600v-160H180v160Zm220 220h160v-160H400v160Zm0 220h160v-160H400v160ZM180-400h160v-160H180v160Zm440 0h160v-160H620v160ZM180-180h160v-160H180v160Zm440 0h160v-160H620v160Z\"/>\n",
              "  </svg>\n",
              "    </button>\n",
              "\n",
              "  <style>\n",
              "    .colab-df-container {\n",
              "      display:flex;\n",
              "      gap: 12px;\n",
              "    }\n",
              "\n",
              "    .colab-df-convert {\n",
              "      background-color: #E8F0FE;\n",
              "      border: none;\n",
              "      border-radius: 50%;\n",
              "      cursor: pointer;\n",
              "      display: none;\n",
              "      fill: #1967D2;\n",
              "      height: 32px;\n",
              "      padding: 0 0 0 0;\n",
              "      width: 32px;\n",
              "    }\n",
              "\n",
              "    .colab-df-convert:hover {\n",
              "      background-color: #E2EBFA;\n",
              "      box-shadow: 0px 1px 2px rgba(60, 64, 67, 0.3), 0px 1px 3px 1px rgba(60, 64, 67, 0.15);\n",
              "      fill: #174EA6;\n",
              "    }\n",
              "\n",
              "    .colab-df-buttons div {\n",
              "      margin-bottom: 4px;\n",
              "    }\n",
              "\n",
              "    [theme=dark] .colab-df-convert {\n",
              "      background-color: #3B4455;\n",
              "      fill: #D2E3FC;\n",
              "    }\n",
              "\n",
              "    [theme=dark] .colab-df-convert:hover {\n",
              "      background-color: #434B5C;\n",
              "      box-shadow: 0px 1px 3px 1px rgba(0, 0, 0, 0.15);\n",
              "      filter: drop-shadow(0px 1px 2px rgba(0, 0, 0, 0.3));\n",
              "      fill: #FFFFFF;\n",
              "    }\n",
              "  </style>\n",
              "\n",
              "    <script>\n",
              "      const buttonEl =\n",
              "        document.querySelector('#df-45fe2d6b-cf82-4669-ba10-cb1e788786bc button.colab-df-convert');\n",
              "      buttonEl.style.display =\n",
              "        google.colab.kernel.accessAllowed ? 'block' : 'none';\n",
              "\n",
              "      async function convertToInteractive(key) {\n",
              "        const element = document.querySelector('#df-45fe2d6b-cf82-4669-ba10-cb1e788786bc');\n",
              "        const dataTable =\n",
              "          await google.colab.kernel.invokeFunction('convertToInteractive',\n",
              "                                                    [key], {});\n",
              "        if (!dataTable) return;\n",
              "\n",
              "        const docLinkHtml = 'Like what you see? Visit the ' +\n",
              "          '<a target=\"_blank\" href=https://colab.research.google.com/notebooks/data_table.ipynb>data table notebook</a>'\n",
              "          + ' to learn more about interactive tables.';\n",
              "        element.innerHTML = '';\n",
              "        dataTable['output_type'] = 'display_data';\n",
              "        await google.colab.output.renderOutput(dataTable, element);\n",
              "        const docLink = document.createElement('div');\n",
              "        docLink.innerHTML = docLinkHtml;\n",
              "        element.appendChild(docLink);\n",
              "      }\n",
              "    </script>\n",
              "  </div>\n",
              "\n",
              "\n",
              "<div id=\"df-a3be0f22-74a9-40d1-8071-8f76d87dc864\">\n",
              "  <button class=\"colab-df-quickchart\" onclick=\"quickchart('df-a3be0f22-74a9-40d1-8071-8f76d87dc864')\"\n",
              "            title=\"Suggest charts\"\n",
              "            style=\"display:none;\">\n",
              "\n",
              "<svg xmlns=\"http://www.w3.org/2000/svg\" height=\"24px\"viewBox=\"0 0 24 24\"\n",
              "     width=\"24px\">\n",
              "    <g>\n",
              "        <path d=\"M19 3H5c-1.1 0-2 .9-2 2v14c0 1.1.9 2 2 2h14c1.1 0 2-.9 2-2V5c0-1.1-.9-2-2-2zM9 17H7v-7h2v7zm4 0h-2V7h2v10zm4 0h-2v-4h2v4z\"/>\n",
              "    </g>\n",
              "</svg>\n",
              "  </button>\n",
              "\n",
              "<style>\n",
              "  .colab-df-quickchart {\n",
              "      --bg-color: #E8F0FE;\n",
              "      --fill-color: #1967D2;\n",
              "      --hover-bg-color: #E2EBFA;\n",
              "      --hover-fill-color: #174EA6;\n",
              "      --disabled-fill-color: #AAA;\n",
              "      --disabled-bg-color: #DDD;\n",
              "  }\n",
              "\n",
              "  [theme=dark] .colab-df-quickchart {\n",
              "      --bg-color: #3B4455;\n",
              "      --fill-color: #D2E3FC;\n",
              "      --hover-bg-color: #434B5C;\n",
              "      --hover-fill-color: #FFFFFF;\n",
              "      --disabled-bg-color: #3B4455;\n",
              "      --disabled-fill-color: #666;\n",
              "  }\n",
              "\n",
              "  .colab-df-quickchart {\n",
              "    background-color: var(--bg-color);\n",
              "    border: none;\n",
              "    border-radius: 50%;\n",
              "    cursor: pointer;\n",
              "    display: none;\n",
              "    fill: var(--fill-color);\n",
              "    height: 32px;\n",
              "    padding: 0;\n",
              "    width: 32px;\n",
              "  }\n",
              "\n",
              "  .colab-df-quickchart:hover {\n",
              "    background-color: var(--hover-bg-color);\n",
              "    box-shadow: 0 1px 2px rgba(60, 64, 67, 0.3), 0 1px 3px 1px rgba(60, 64, 67, 0.15);\n",
              "    fill: var(--button-hover-fill-color);\n",
              "  }\n",
              "\n",
              "  .colab-df-quickchart-complete:disabled,\n",
              "  .colab-df-quickchart-complete:disabled:hover {\n",
              "    background-color: var(--disabled-bg-color);\n",
              "    fill: var(--disabled-fill-color);\n",
              "    box-shadow: none;\n",
              "  }\n",
              "\n",
              "  .colab-df-spinner {\n",
              "    border: 2px solid var(--fill-color);\n",
              "    border-color: transparent;\n",
              "    border-bottom-color: var(--fill-color);\n",
              "    animation:\n",
              "      spin 1s steps(1) infinite;\n",
              "  }\n",
              "\n",
              "  @keyframes spin {\n",
              "    0% {\n",
              "      border-color: transparent;\n",
              "      border-bottom-color: var(--fill-color);\n",
              "      border-left-color: var(--fill-color);\n",
              "    }\n",
              "    20% {\n",
              "      border-color: transparent;\n",
              "      border-left-color: var(--fill-color);\n",
              "      border-top-color: var(--fill-color);\n",
              "    }\n",
              "    30% {\n",
              "      border-color: transparent;\n",
              "      border-left-color: var(--fill-color);\n",
              "      border-top-color: var(--fill-color);\n",
              "      border-right-color: var(--fill-color);\n",
              "    }\n",
              "    40% {\n",
              "      border-color: transparent;\n",
              "      border-right-color: var(--fill-color);\n",
              "      border-top-color: var(--fill-color);\n",
              "    }\n",
              "    60% {\n",
              "      border-color: transparent;\n",
              "      border-right-color: var(--fill-color);\n",
              "    }\n",
              "    80% {\n",
              "      border-color: transparent;\n",
              "      border-right-color: var(--fill-color);\n",
              "      border-bottom-color: var(--fill-color);\n",
              "    }\n",
              "    90% {\n",
              "      border-color: transparent;\n",
              "      border-bottom-color: var(--fill-color);\n",
              "    }\n",
              "  }\n",
              "</style>\n",
              "\n",
              "  <script>\n",
              "    async function quickchart(key) {\n",
              "      const quickchartButtonEl =\n",
              "        document.querySelector('#' + key + ' button');\n",
              "      quickchartButtonEl.disabled = true;  // To prevent multiple clicks.\n",
              "      quickchartButtonEl.classList.add('colab-df-spinner');\n",
              "      try {\n",
              "        const charts = await google.colab.kernel.invokeFunction(\n",
              "            'suggestCharts', [key], {});\n",
              "      } catch (error) {\n",
              "        console.error('Error during call to suggestCharts:', error);\n",
              "      }\n",
              "      quickchartButtonEl.classList.remove('colab-df-spinner');\n",
              "      quickchartButtonEl.classList.add('colab-df-quickchart-complete');\n",
              "    }\n",
              "    (() => {\n",
              "      let quickchartButtonEl =\n",
              "        document.querySelector('#df-a3be0f22-74a9-40d1-8071-8f76d87dc864 button');\n",
              "      quickchartButtonEl.style.display =\n",
              "        google.colab.kernel.accessAllowed ? 'block' : 'none';\n",
              "    })();\n",
              "  </script>\n",
              "</div>\n",
              "    </div>\n",
              "  </div>\n"
            ],
            "text/plain": [
              "   Cement  BlastFurnaceSlag  FlyAsh  Water  Superplasticizer  CoarseAggregate  \\\n",
              "0   540.0               0.0     0.0  162.0               2.5           1040.0   \n",
              "1   540.0               0.0     0.0  162.0               2.5           1055.0   \n",
              "2   332.5             142.5     0.0  228.0               0.0            932.0   \n",
              "3   332.5             142.5     0.0  228.0               0.0            932.0   \n",
              "4   198.6             132.4     0.0  192.0               0.0            978.4   \n",
              "\n",
              "   FineAggregate  Age   strength  \n",
              "0          676.0   28  79.986111  \n",
              "1          676.0   28  61.887366  \n",
              "2          594.0  270  40.269535  \n",
              "3          594.0  365  41.052780  \n",
              "4          825.5  360  44.296075  "
            ]
          },
          "execution_count": 4,
          "metadata": {},
          "output_type": "execute_result"
        }
      ],
      "source": [
        "df.head()"
      ]
    },
    {
      "cell_type": "markdown",
      "metadata": {
        "id": "0fN4tZ9cVtO3"
      },
      "source": [
        "EDA"
      ]
    },
    {
      "cell_type": "markdown",
      "metadata": {
        "id": "UJAEYUD8VwLn"
      },
      "source": [
        "1. How to check how many rows and columns are present in the dataset?"
      ]
    },
    {
      "cell_type": "code",
      "execution_count": null,
      "metadata": {
        "colab": {
          "base_uri": "https://localhost:8080/"
        },
        "id": "ta6lBMxvZL24",
        "outputId": "c023ca4d-7808-4547-b265-4f928dde5d62"
      },
      "outputs": [
        {
          "data": {
            "text/plain": [
              "(1030, 9)"
            ]
          },
          "execution_count": 5,
          "metadata": {},
          "output_type": "execute_result"
        }
      ],
      "source": [
        "df.shape"
      ]
    },
    {
      "cell_type": "markdown",
      "metadata": {
        "id": "X4tiGLXTWIi-"
      },
      "source": [
        "2. How to check are there any null values in the data set?"
      ]
    },
    {
      "cell_type": "code",
      "execution_count": null,
      "metadata": {
        "colab": {
          "base_uri": "https://localhost:8080/"
        },
        "id": "8xONEz8vZfgn",
        "outputId": "0f02fa84-4a38-4543-961c-f7142ab85164"
      },
      "outputs": [
        {
          "data": {
            "text/plain": [
              "Cement              0\n",
              "BlastFurnaceSlag    0\n",
              "FlyAsh              0\n",
              "Water               0\n",
              "Superplasticizer    0\n",
              "CoarseAggregate     0\n",
              "FineAggregate       0\n",
              "Age                 0\n",
              "strength            0\n",
              "dtype: int64"
            ]
          },
          "execution_count": 6,
          "metadata": {},
          "output_type": "execute_result"
        }
      ],
      "source": [
        "df.isnull().sum()"
      ]
    },
    {
      "cell_type": "markdown",
      "metadata": {
        "id": "-JSJtF-PWx_r"
      },
      "source": [
        "3. How to identify the duplicate values in a dataframe?"
      ]
    },
    {
      "cell_type": "code",
      "execution_count": null,
      "metadata": {
        "colab": {
          "base_uri": "https://localhost:8080/"
        },
        "id": "ToJT7dSDZzOn",
        "outputId": "e484ebe0-f7de-4441-a324-fab1c1bd051a"
      },
      "outputs": [
        {
          "data": {
            "text/plain": [
              "25"
            ]
          },
          "execution_count": 7,
          "metadata": {},
          "output_type": "execute_result"
        }
      ],
      "source": [
        "df.duplicated().sum()"
      ]
    },
    {
      "cell_type": "markdown",
      "metadata": {
        "id": "kkObw9xVX9nP"
      },
      "source": [
        "4. How to overcome the duplicate values?"
      ]
    },
    {
      "cell_type": "code",
      "execution_count": null,
      "metadata": {
        "colab": {
          "base_uri": "https://localhost:8080/",
          "height": 423
        },
        "id": "li_zaYMjXGR7",
        "outputId": "6fe8da59-091b-4e21-9e53-d5b74127848a"
      },
      "outputs": [
        {
          "data": {
            "text/html": [
              "\n",
              "  <div id=\"df-8c592edc-740c-4743-b7b9-3fd9ccbe9d1e\" class=\"colab-df-container\">\n",
              "    <div>\n",
              "<style scoped>\n",
              "    .dataframe tbody tr th:only-of-type {\n",
              "        vertical-align: middle;\n",
              "    }\n",
              "\n",
              "    .dataframe tbody tr th {\n",
              "        vertical-align: top;\n",
              "    }\n",
              "\n",
              "    .dataframe thead th {\n",
              "        text-align: right;\n",
              "    }\n",
              "</style>\n",
              "<table border=\"1\" class=\"dataframe\">\n",
              "  <thead>\n",
              "    <tr style=\"text-align: right;\">\n",
              "      <th></th>\n",
              "      <th>Cement</th>\n",
              "      <th>BlastFurnaceSlag</th>\n",
              "      <th>FlyAsh</th>\n",
              "      <th>Water</th>\n",
              "      <th>Superplasticizer</th>\n",
              "      <th>CoarseAggregate</th>\n",
              "      <th>FineAggregate</th>\n",
              "      <th>Age</th>\n",
              "      <th>strength</th>\n",
              "    </tr>\n",
              "  </thead>\n",
              "  <tbody>\n",
              "    <tr>\n",
              "      <th>0</th>\n",
              "      <td>540.0</td>\n",
              "      <td>0.0</td>\n",
              "      <td>0.0</td>\n",
              "      <td>162.0</td>\n",
              "      <td>2.5</td>\n",
              "      <td>1040.0</td>\n",
              "      <td>676.0</td>\n",
              "      <td>28</td>\n",
              "      <td>79.986111</td>\n",
              "    </tr>\n",
              "    <tr>\n",
              "      <th>1</th>\n",
              "      <td>540.0</td>\n",
              "      <td>0.0</td>\n",
              "      <td>0.0</td>\n",
              "      <td>162.0</td>\n",
              "      <td>2.5</td>\n",
              "      <td>1055.0</td>\n",
              "      <td>676.0</td>\n",
              "      <td>28</td>\n",
              "      <td>61.887366</td>\n",
              "    </tr>\n",
              "    <tr>\n",
              "      <th>2</th>\n",
              "      <td>332.5</td>\n",
              "      <td>142.5</td>\n",
              "      <td>0.0</td>\n",
              "      <td>228.0</td>\n",
              "      <td>0.0</td>\n",
              "      <td>932.0</td>\n",
              "      <td>594.0</td>\n",
              "      <td>270</td>\n",
              "      <td>40.269535</td>\n",
              "    </tr>\n",
              "    <tr>\n",
              "      <th>3</th>\n",
              "      <td>332.5</td>\n",
              "      <td>142.5</td>\n",
              "      <td>0.0</td>\n",
              "      <td>228.0</td>\n",
              "      <td>0.0</td>\n",
              "      <td>932.0</td>\n",
              "      <td>594.0</td>\n",
              "      <td>365</td>\n",
              "      <td>41.052780</td>\n",
              "    </tr>\n",
              "    <tr>\n",
              "      <th>4</th>\n",
              "      <td>198.6</td>\n",
              "      <td>132.4</td>\n",
              "      <td>0.0</td>\n",
              "      <td>192.0</td>\n",
              "      <td>0.0</td>\n",
              "      <td>978.4</td>\n",
              "      <td>825.5</td>\n",
              "      <td>360</td>\n",
              "      <td>44.296075</td>\n",
              "    </tr>\n",
              "    <tr>\n",
              "      <th>...</th>\n",
              "      <td>...</td>\n",
              "      <td>...</td>\n",
              "      <td>...</td>\n",
              "      <td>...</td>\n",
              "      <td>...</td>\n",
              "      <td>...</td>\n",
              "      <td>...</td>\n",
              "      <td>...</td>\n",
              "      <td>...</td>\n",
              "    </tr>\n",
              "    <tr>\n",
              "      <th>1025</th>\n",
              "      <td>276.4</td>\n",
              "      <td>116.0</td>\n",
              "      <td>90.3</td>\n",
              "      <td>179.6</td>\n",
              "      <td>8.9</td>\n",
              "      <td>870.1</td>\n",
              "      <td>768.3</td>\n",
              "      <td>28</td>\n",
              "      <td>44.284354</td>\n",
              "    </tr>\n",
              "    <tr>\n",
              "      <th>1026</th>\n",
              "      <td>322.2</td>\n",
              "      <td>0.0</td>\n",
              "      <td>115.6</td>\n",
              "      <td>196.0</td>\n",
              "      <td>10.4</td>\n",
              "      <td>817.9</td>\n",
              "      <td>813.4</td>\n",
              "      <td>28</td>\n",
              "      <td>31.178794</td>\n",
              "    </tr>\n",
              "    <tr>\n",
              "      <th>1027</th>\n",
              "      <td>148.5</td>\n",
              "      <td>139.4</td>\n",
              "      <td>108.6</td>\n",
              "      <td>192.7</td>\n",
              "      <td>6.1</td>\n",
              "      <td>892.4</td>\n",
              "      <td>780.0</td>\n",
              "      <td>28</td>\n",
              "      <td>23.696601</td>\n",
              "    </tr>\n",
              "    <tr>\n",
              "      <th>1028</th>\n",
              "      <td>159.1</td>\n",
              "      <td>186.7</td>\n",
              "      <td>0.0</td>\n",
              "      <td>175.6</td>\n",
              "      <td>11.3</td>\n",
              "      <td>989.6</td>\n",
              "      <td>788.9</td>\n",
              "      <td>28</td>\n",
              "      <td>32.768036</td>\n",
              "    </tr>\n",
              "    <tr>\n",
              "      <th>1029</th>\n",
              "      <td>260.9</td>\n",
              "      <td>100.5</td>\n",
              "      <td>78.3</td>\n",
              "      <td>200.6</td>\n",
              "      <td>8.6</td>\n",
              "      <td>864.5</td>\n",
              "      <td>761.5</td>\n",
              "      <td>28</td>\n",
              "      <td>32.401235</td>\n",
              "    </tr>\n",
              "  </tbody>\n",
              "</table>\n",
              "<p>1005 rows × 9 columns</p>\n",
              "</div>\n",
              "    <div class=\"colab-df-buttons\">\n",
              "\n",
              "  <div class=\"colab-df-container\">\n",
              "    <button class=\"colab-df-convert\" onclick=\"convertToInteractive('df-8c592edc-740c-4743-b7b9-3fd9ccbe9d1e')\"\n",
              "            title=\"Convert this dataframe to an interactive table.\"\n",
              "            style=\"display:none;\">\n",
              "\n",
              "  <svg xmlns=\"http://www.w3.org/2000/svg\" height=\"24px\" viewBox=\"0 -960 960 960\">\n",
              "    <path d=\"M120-120v-720h720v720H120Zm60-500h600v-160H180v160Zm220 220h160v-160H400v160Zm0 220h160v-160H400v160ZM180-400h160v-160H180v160Zm440 0h160v-160H620v160ZM180-180h160v-160H180v160Zm440 0h160v-160H620v160Z\"/>\n",
              "  </svg>\n",
              "    </button>\n",
              "\n",
              "  <style>\n",
              "    .colab-df-container {\n",
              "      display:flex;\n",
              "      gap: 12px;\n",
              "    }\n",
              "\n",
              "    .colab-df-convert {\n",
              "      background-color: #E8F0FE;\n",
              "      border: none;\n",
              "      border-radius: 50%;\n",
              "      cursor: pointer;\n",
              "      display: none;\n",
              "      fill: #1967D2;\n",
              "      height: 32px;\n",
              "      padding: 0 0 0 0;\n",
              "      width: 32px;\n",
              "    }\n",
              "\n",
              "    .colab-df-convert:hover {\n",
              "      background-color: #E2EBFA;\n",
              "      box-shadow: 0px 1px 2px rgba(60, 64, 67, 0.3), 0px 1px 3px 1px rgba(60, 64, 67, 0.15);\n",
              "      fill: #174EA6;\n",
              "    }\n",
              "\n",
              "    .colab-df-buttons div {\n",
              "      margin-bottom: 4px;\n",
              "    }\n",
              "\n",
              "    [theme=dark] .colab-df-convert {\n",
              "      background-color: #3B4455;\n",
              "      fill: #D2E3FC;\n",
              "    }\n",
              "\n",
              "    [theme=dark] .colab-df-convert:hover {\n",
              "      background-color: #434B5C;\n",
              "      box-shadow: 0px 1px 3px 1px rgba(0, 0, 0, 0.15);\n",
              "      filter: drop-shadow(0px 1px 2px rgba(0, 0, 0, 0.3));\n",
              "      fill: #FFFFFF;\n",
              "    }\n",
              "  </style>\n",
              "\n",
              "    <script>\n",
              "      const buttonEl =\n",
              "        document.querySelector('#df-8c592edc-740c-4743-b7b9-3fd9ccbe9d1e button.colab-df-convert');\n",
              "      buttonEl.style.display =\n",
              "        google.colab.kernel.accessAllowed ? 'block' : 'none';\n",
              "\n",
              "      async function convertToInteractive(key) {\n",
              "        const element = document.querySelector('#df-8c592edc-740c-4743-b7b9-3fd9ccbe9d1e');\n",
              "        const dataTable =\n",
              "          await google.colab.kernel.invokeFunction('convertToInteractive',\n",
              "                                                    [key], {});\n",
              "        if (!dataTable) return;\n",
              "\n",
              "        const docLinkHtml = 'Like what you see? Visit the ' +\n",
              "          '<a target=\"_blank\" href=https://colab.research.google.com/notebooks/data_table.ipynb>data table notebook</a>'\n",
              "          + ' to learn more about interactive tables.';\n",
              "        element.innerHTML = '';\n",
              "        dataTable['output_type'] = 'display_data';\n",
              "        await google.colab.output.renderOutput(dataTable, element);\n",
              "        const docLink = document.createElement('div');\n",
              "        docLink.innerHTML = docLinkHtml;\n",
              "        element.appendChild(docLink);\n",
              "      }\n",
              "    </script>\n",
              "  </div>\n",
              "\n",
              "\n",
              "<div id=\"df-3c5e0570-3080-463c-9435-5b9d363b61e4\">\n",
              "  <button class=\"colab-df-quickchart\" onclick=\"quickchart('df-3c5e0570-3080-463c-9435-5b9d363b61e4')\"\n",
              "            title=\"Suggest charts\"\n",
              "            style=\"display:none;\">\n",
              "\n",
              "<svg xmlns=\"http://www.w3.org/2000/svg\" height=\"24px\"viewBox=\"0 0 24 24\"\n",
              "     width=\"24px\">\n",
              "    <g>\n",
              "        <path d=\"M19 3H5c-1.1 0-2 .9-2 2v14c0 1.1.9 2 2 2h14c1.1 0 2-.9 2-2V5c0-1.1-.9-2-2-2zM9 17H7v-7h2v7zm4 0h-2V7h2v10zm4 0h-2v-4h2v4z\"/>\n",
              "    </g>\n",
              "</svg>\n",
              "  </button>\n",
              "\n",
              "<style>\n",
              "  .colab-df-quickchart {\n",
              "      --bg-color: #E8F0FE;\n",
              "      --fill-color: #1967D2;\n",
              "      --hover-bg-color: #E2EBFA;\n",
              "      --hover-fill-color: #174EA6;\n",
              "      --disabled-fill-color: #AAA;\n",
              "      --disabled-bg-color: #DDD;\n",
              "  }\n",
              "\n",
              "  [theme=dark] .colab-df-quickchart {\n",
              "      --bg-color: #3B4455;\n",
              "      --fill-color: #D2E3FC;\n",
              "      --hover-bg-color: #434B5C;\n",
              "      --hover-fill-color: #FFFFFF;\n",
              "      --disabled-bg-color: #3B4455;\n",
              "      --disabled-fill-color: #666;\n",
              "  }\n",
              "\n",
              "  .colab-df-quickchart {\n",
              "    background-color: var(--bg-color);\n",
              "    border: none;\n",
              "    border-radius: 50%;\n",
              "    cursor: pointer;\n",
              "    display: none;\n",
              "    fill: var(--fill-color);\n",
              "    height: 32px;\n",
              "    padding: 0;\n",
              "    width: 32px;\n",
              "  }\n",
              "\n",
              "  .colab-df-quickchart:hover {\n",
              "    background-color: var(--hover-bg-color);\n",
              "    box-shadow: 0 1px 2px rgba(60, 64, 67, 0.3), 0 1px 3px 1px rgba(60, 64, 67, 0.15);\n",
              "    fill: var(--button-hover-fill-color);\n",
              "  }\n",
              "\n",
              "  .colab-df-quickchart-complete:disabled,\n",
              "  .colab-df-quickchart-complete:disabled:hover {\n",
              "    background-color: var(--disabled-bg-color);\n",
              "    fill: var(--disabled-fill-color);\n",
              "    box-shadow: none;\n",
              "  }\n",
              "\n",
              "  .colab-df-spinner {\n",
              "    border: 2px solid var(--fill-color);\n",
              "    border-color: transparent;\n",
              "    border-bottom-color: var(--fill-color);\n",
              "    animation:\n",
              "      spin 1s steps(1) infinite;\n",
              "  }\n",
              "\n",
              "  @keyframes spin {\n",
              "    0% {\n",
              "      border-color: transparent;\n",
              "      border-bottom-color: var(--fill-color);\n",
              "      border-left-color: var(--fill-color);\n",
              "    }\n",
              "    20% {\n",
              "      border-color: transparent;\n",
              "      border-left-color: var(--fill-color);\n",
              "      border-top-color: var(--fill-color);\n",
              "    }\n",
              "    30% {\n",
              "      border-color: transparent;\n",
              "      border-left-color: var(--fill-color);\n",
              "      border-top-color: var(--fill-color);\n",
              "      border-right-color: var(--fill-color);\n",
              "    }\n",
              "    40% {\n",
              "      border-color: transparent;\n",
              "      border-right-color: var(--fill-color);\n",
              "      border-top-color: var(--fill-color);\n",
              "    }\n",
              "    60% {\n",
              "      border-color: transparent;\n",
              "      border-right-color: var(--fill-color);\n",
              "    }\n",
              "    80% {\n",
              "      border-color: transparent;\n",
              "      border-right-color: var(--fill-color);\n",
              "      border-bottom-color: var(--fill-color);\n",
              "    }\n",
              "    90% {\n",
              "      border-color: transparent;\n",
              "      border-bottom-color: var(--fill-color);\n",
              "    }\n",
              "  }\n",
              "</style>\n",
              "\n",
              "  <script>\n",
              "    async function quickchart(key) {\n",
              "      const quickchartButtonEl =\n",
              "        document.querySelector('#' + key + ' button');\n",
              "      quickchartButtonEl.disabled = true;  // To prevent multiple clicks.\n",
              "      quickchartButtonEl.classList.add('colab-df-spinner');\n",
              "      try {\n",
              "        const charts = await google.colab.kernel.invokeFunction(\n",
              "            'suggestCharts', [key], {});\n",
              "      } catch (error) {\n",
              "        console.error('Error during call to suggestCharts:', error);\n",
              "      }\n",
              "      quickchartButtonEl.classList.remove('colab-df-spinner');\n",
              "      quickchartButtonEl.classList.add('colab-df-quickchart-complete');\n",
              "    }\n",
              "    (() => {\n",
              "      let quickchartButtonEl =\n",
              "        document.querySelector('#df-3c5e0570-3080-463c-9435-5b9d363b61e4 button');\n",
              "      quickchartButtonEl.style.display =\n",
              "        google.colab.kernel.accessAllowed ? 'block' : 'none';\n",
              "    })();\n",
              "  </script>\n",
              "</div>\n",
              "    </div>\n",
              "  </div>\n"
            ],
            "text/plain": [
              "      Cement  BlastFurnaceSlag  FlyAsh  Water  Superplasticizer  \\\n",
              "0      540.0               0.0     0.0  162.0               2.5   \n",
              "1      540.0               0.0     0.0  162.0               2.5   \n",
              "2      332.5             142.5     0.0  228.0               0.0   \n",
              "3      332.5             142.5     0.0  228.0               0.0   \n",
              "4      198.6             132.4     0.0  192.0               0.0   \n",
              "...      ...               ...     ...    ...               ...   \n",
              "1025   276.4             116.0    90.3  179.6               8.9   \n",
              "1026   322.2               0.0   115.6  196.0              10.4   \n",
              "1027   148.5             139.4   108.6  192.7               6.1   \n",
              "1028   159.1             186.7     0.0  175.6              11.3   \n",
              "1029   260.9             100.5    78.3  200.6               8.6   \n",
              "\n",
              "      CoarseAggregate  FineAggregate  Age   strength  \n",
              "0              1040.0          676.0   28  79.986111  \n",
              "1              1055.0          676.0   28  61.887366  \n",
              "2               932.0          594.0  270  40.269535  \n",
              "3               932.0          594.0  365  41.052780  \n",
              "4               978.4          825.5  360  44.296075  \n",
              "...               ...            ...  ...        ...  \n",
              "1025            870.1          768.3   28  44.284354  \n",
              "1026            817.9          813.4   28  31.178794  \n",
              "1027            892.4          780.0   28  23.696601  \n",
              "1028            989.6          788.9   28  32.768036  \n",
              "1029            864.5          761.5   28  32.401235  \n",
              "\n",
              "[1005 rows x 9 columns]"
            ]
          },
          "execution_count": 8,
          "metadata": {},
          "output_type": "execute_result"
        }
      ],
      "source": [
        "df.drop_duplicates(inplace=True)\n",
        "df"
      ]
    },
    {
      "cell_type": "markdown",
      "metadata": {
        "id": "5JnbYDsWYV3t"
      },
      "source": [
        "5. Code for getting the summary of dataframe."
      ]
    },
    {
      "cell_type": "code",
      "execution_count": null,
      "metadata": {
        "colab": {
          "base_uri": "https://localhost:8080/"
        },
        "id": "sAc_aU-sZ4rX",
        "outputId": "9acbb5d3-bdfc-4a6c-d257-dd8400b2e218"
      },
      "outputs": [
        {
          "name": "stdout",
          "output_type": "stream",
          "text": [
            "<class 'pandas.core.frame.DataFrame'>\n",
            "Int64Index: 1005 entries, 0 to 1029\n",
            "Data columns (total 9 columns):\n",
            " #   Column            Non-Null Count  Dtype  \n",
            "---  ------            --------------  -----  \n",
            " 0   Cement            1005 non-null   float64\n",
            " 1   BlastFurnaceSlag  1005 non-null   float64\n",
            " 2   FlyAsh            1005 non-null   float64\n",
            " 3   Water             1005 non-null   float64\n",
            " 4   Superplasticizer  1005 non-null   float64\n",
            " 5   CoarseAggregate   1005 non-null   float64\n",
            " 6   FineAggregate     1005 non-null   float64\n",
            " 7   Age               1005 non-null   int64  \n",
            " 8   strength          1005 non-null   float64\n",
            "dtypes: float64(8), int64(1)\n",
            "memory usage: 78.5 KB\n"
          ]
        }
      ],
      "source": [
        "df.info()"
      ]
    },
    {
      "cell_type": "code",
      "execution_count": null,
      "metadata": {
        "colab": {
          "base_uri": "https://localhost:8080/",
          "height": 300
        },
        "id": "Av9SckgFaBgH",
        "outputId": "24c724de-1614-4318-b8ff-b1aa60a59317"
      },
      "outputs": [
        {
          "data": {
            "text/html": [
              "\n",
              "  <div id=\"df-476bbc93-e49d-4507-9900-d4680516d365\" class=\"colab-df-container\">\n",
              "    <div>\n",
              "<style scoped>\n",
              "    .dataframe tbody tr th:only-of-type {\n",
              "        vertical-align: middle;\n",
              "    }\n",
              "\n",
              "    .dataframe tbody tr th {\n",
              "        vertical-align: top;\n",
              "    }\n",
              "\n",
              "    .dataframe thead th {\n",
              "        text-align: right;\n",
              "    }\n",
              "</style>\n",
              "<table border=\"1\" class=\"dataframe\">\n",
              "  <thead>\n",
              "    <tr style=\"text-align: right;\">\n",
              "      <th></th>\n",
              "      <th>Cement</th>\n",
              "      <th>BlastFurnaceSlag</th>\n",
              "      <th>FlyAsh</th>\n",
              "      <th>Water</th>\n",
              "      <th>Superplasticizer</th>\n",
              "      <th>CoarseAggregate</th>\n",
              "      <th>FineAggregate</th>\n",
              "      <th>Age</th>\n",
              "      <th>strength</th>\n",
              "    </tr>\n",
              "  </thead>\n",
              "  <tbody>\n",
              "    <tr>\n",
              "      <th>count</th>\n",
              "      <td>1005.000000</td>\n",
              "      <td>1005.000000</td>\n",
              "      <td>1005.000000</td>\n",
              "      <td>1005.000000</td>\n",
              "      <td>1005.000000</td>\n",
              "      <td>1005.000000</td>\n",
              "      <td>1005.000000</td>\n",
              "      <td>1005.000000</td>\n",
              "      <td>1005.000000</td>\n",
              "    </tr>\n",
              "    <tr>\n",
              "      <th>mean</th>\n",
              "      <td>278.629055</td>\n",
              "      <td>72.043134</td>\n",
              "      <td>55.535075</td>\n",
              "      <td>182.074378</td>\n",
              "      <td>6.031647</td>\n",
              "      <td>974.376468</td>\n",
              "      <td>772.686617</td>\n",
              "      <td>45.856716</td>\n",
              "      <td>35.250273</td>\n",
              "    </tr>\n",
              "    <tr>\n",
              "      <th>std</th>\n",
              "      <td>104.345003</td>\n",
              "      <td>86.170555</td>\n",
              "      <td>64.207448</td>\n",
              "      <td>21.340740</td>\n",
              "      <td>5.919559</td>\n",
              "      <td>77.579534</td>\n",
              "      <td>80.339851</td>\n",
              "      <td>63.734692</td>\n",
              "      <td>16.284808</td>\n",
              "    </tr>\n",
              "    <tr>\n",
              "      <th>min</th>\n",
              "      <td>102.000000</td>\n",
              "      <td>0.000000</td>\n",
              "      <td>0.000000</td>\n",
              "      <td>121.750000</td>\n",
              "      <td>0.000000</td>\n",
              "      <td>801.000000</td>\n",
              "      <td>594.000000</td>\n",
              "      <td>1.000000</td>\n",
              "      <td>2.331808</td>\n",
              "    </tr>\n",
              "    <tr>\n",
              "      <th>25%</th>\n",
              "      <td>190.680000</td>\n",
              "      <td>0.000000</td>\n",
              "      <td>0.000000</td>\n",
              "      <td>166.610000</td>\n",
              "      <td>0.000000</td>\n",
              "      <td>932.000000</td>\n",
              "      <td>724.300000</td>\n",
              "      <td>7.000000</td>\n",
              "      <td>23.523542</td>\n",
              "    </tr>\n",
              "    <tr>\n",
              "      <th>50%</th>\n",
              "      <td>265.000000</td>\n",
              "      <td>20.000000</td>\n",
              "      <td>0.000000</td>\n",
              "      <td>185.700000</td>\n",
              "      <td>6.100000</td>\n",
              "      <td>968.000000</td>\n",
              "      <td>780.000000</td>\n",
              "      <td>28.000000</td>\n",
              "      <td>33.798114</td>\n",
              "    </tr>\n",
              "    <tr>\n",
              "      <th>75%</th>\n",
              "      <td>349.000000</td>\n",
              "      <td>142.500000</td>\n",
              "      <td>118.270000</td>\n",
              "      <td>192.940000</td>\n",
              "      <td>10.000000</td>\n",
              "      <td>1031.000000</td>\n",
              "      <td>822.200000</td>\n",
              "      <td>56.000000</td>\n",
              "      <td>44.868340</td>\n",
              "    </tr>\n",
              "    <tr>\n",
              "      <th>max</th>\n",
              "      <td>540.000000</td>\n",
              "      <td>359.400000</td>\n",
              "      <td>200.100000</td>\n",
              "      <td>247.000000</td>\n",
              "      <td>32.200000</td>\n",
              "      <td>1145.000000</td>\n",
              "      <td>992.600000</td>\n",
              "      <td>365.000000</td>\n",
              "      <td>82.599225</td>\n",
              "    </tr>\n",
              "  </tbody>\n",
              "</table>\n",
              "</div>\n",
              "    <div class=\"colab-df-buttons\">\n",
              "\n",
              "  <div class=\"colab-df-container\">\n",
              "    <button class=\"colab-df-convert\" onclick=\"convertToInteractive('df-476bbc93-e49d-4507-9900-d4680516d365')\"\n",
              "            title=\"Convert this dataframe to an interactive table.\"\n",
              "            style=\"display:none;\">\n",
              "\n",
              "  <svg xmlns=\"http://www.w3.org/2000/svg\" height=\"24px\" viewBox=\"0 -960 960 960\">\n",
              "    <path d=\"M120-120v-720h720v720H120Zm60-500h600v-160H180v160Zm220 220h160v-160H400v160Zm0 220h160v-160H400v160ZM180-400h160v-160H180v160Zm440 0h160v-160H620v160ZM180-180h160v-160H180v160Zm440 0h160v-160H620v160Z\"/>\n",
              "  </svg>\n",
              "    </button>\n",
              "\n",
              "  <style>\n",
              "    .colab-df-container {\n",
              "      display:flex;\n",
              "      gap: 12px;\n",
              "    }\n",
              "\n",
              "    .colab-df-convert {\n",
              "      background-color: #E8F0FE;\n",
              "      border: none;\n",
              "      border-radius: 50%;\n",
              "      cursor: pointer;\n",
              "      display: none;\n",
              "      fill: #1967D2;\n",
              "      height: 32px;\n",
              "      padding: 0 0 0 0;\n",
              "      width: 32px;\n",
              "    }\n",
              "\n",
              "    .colab-df-convert:hover {\n",
              "      background-color: #E2EBFA;\n",
              "      box-shadow: 0px 1px 2px rgba(60, 64, 67, 0.3), 0px 1px 3px 1px rgba(60, 64, 67, 0.15);\n",
              "      fill: #174EA6;\n",
              "    }\n",
              "\n",
              "    .colab-df-buttons div {\n",
              "      margin-bottom: 4px;\n",
              "    }\n",
              "\n",
              "    [theme=dark] .colab-df-convert {\n",
              "      background-color: #3B4455;\n",
              "      fill: #D2E3FC;\n",
              "    }\n",
              "\n",
              "    [theme=dark] .colab-df-convert:hover {\n",
              "      background-color: #434B5C;\n",
              "      box-shadow: 0px 1px 3px 1px rgba(0, 0, 0, 0.15);\n",
              "      filter: drop-shadow(0px 1px 2px rgba(0, 0, 0, 0.3));\n",
              "      fill: #FFFFFF;\n",
              "    }\n",
              "  </style>\n",
              "\n",
              "    <script>\n",
              "      const buttonEl =\n",
              "        document.querySelector('#df-476bbc93-e49d-4507-9900-d4680516d365 button.colab-df-convert');\n",
              "      buttonEl.style.display =\n",
              "        google.colab.kernel.accessAllowed ? 'block' : 'none';\n",
              "\n",
              "      async function convertToInteractive(key) {\n",
              "        const element = document.querySelector('#df-476bbc93-e49d-4507-9900-d4680516d365');\n",
              "        const dataTable =\n",
              "          await google.colab.kernel.invokeFunction('convertToInteractive',\n",
              "                                                    [key], {});\n",
              "        if (!dataTable) return;\n",
              "\n",
              "        const docLinkHtml = 'Like what you see? Visit the ' +\n",
              "          '<a target=\"_blank\" href=https://colab.research.google.com/notebooks/data_table.ipynb>data table notebook</a>'\n",
              "          + ' to learn more about interactive tables.';\n",
              "        element.innerHTML = '';\n",
              "        dataTable['output_type'] = 'display_data';\n",
              "        await google.colab.output.renderOutput(dataTable, element);\n",
              "        const docLink = document.createElement('div');\n",
              "        docLink.innerHTML = docLinkHtml;\n",
              "        element.appendChild(docLink);\n",
              "      }\n",
              "    </script>\n",
              "  </div>\n",
              "\n",
              "\n",
              "<div id=\"df-54fab9b0-195f-4254-8071-ac62794cb724\">\n",
              "  <button class=\"colab-df-quickchart\" onclick=\"quickchart('df-54fab9b0-195f-4254-8071-ac62794cb724')\"\n",
              "            title=\"Suggest charts\"\n",
              "            style=\"display:none;\">\n",
              "\n",
              "<svg xmlns=\"http://www.w3.org/2000/svg\" height=\"24px\"viewBox=\"0 0 24 24\"\n",
              "     width=\"24px\">\n",
              "    <g>\n",
              "        <path d=\"M19 3H5c-1.1 0-2 .9-2 2v14c0 1.1.9 2 2 2h14c1.1 0 2-.9 2-2V5c0-1.1-.9-2-2-2zM9 17H7v-7h2v7zm4 0h-2V7h2v10zm4 0h-2v-4h2v4z\"/>\n",
              "    </g>\n",
              "</svg>\n",
              "  </button>\n",
              "\n",
              "<style>\n",
              "  .colab-df-quickchart {\n",
              "      --bg-color: #E8F0FE;\n",
              "      --fill-color: #1967D2;\n",
              "      --hover-bg-color: #E2EBFA;\n",
              "      --hover-fill-color: #174EA6;\n",
              "      --disabled-fill-color: #AAA;\n",
              "      --disabled-bg-color: #DDD;\n",
              "  }\n",
              "\n",
              "  [theme=dark] .colab-df-quickchart {\n",
              "      --bg-color: #3B4455;\n",
              "      --fill-color: #D2E3FC;\n",
              "      --hover-bg-color: #434B5C;\n",
              "      --hover-fill-color: #FFFFFF;\n",
              "      --disabled-bg-color: #3B4455;\n",
              "      --disabled-fill-color: #666;\n",
              "  }\n",
              "\n",
              "  .colab-df-quickchart {\n",
              "    background-color: var(--bg-color);\n",
              "    border: none;\n",
              "    border-radius: 50%;\n",
              "    cursor: pointer;\n",
              "    display: none;\n",
              "    fill: var(--fill-color);\n",
              "    height: 32px;\n",
              "    padding: 0;\n",
              "    width: 32px;\n",
              "  }\n",
              "\n",
              "  .colab-df-quickchart:hover {\n",
              "    background-color: var(--hover-bg-color);\n",
              "    box-shadow: 0 1px 2px rgba(60, 64, 67, 0.3), 0 1px 3px 1px rgba(60, 64, 67, 0.15);\n",
              "    fill: var(--button-hover-fill-color);\n",
              "  }\n",
              "\n",
              "  .colab-df-quickchart-complete:disabled,\n",
              "  .colab-df-quickchart-complete:disabled:hover {\n",
              "    background-color: var(--disabled-bg-color);\n",
              "    fill: var(--disabled-fill-color);\n",
              "    box-shadow: none;\n",
              "  }\n",
              "\n",
              "  .colab-df-spinner {\n",
              "    border: 2px solid var(--fill-color);\n",
              "    border-color: transparent;\n",
              "    border-bottom-color: var(--fill-color);\n",
              "    animation:\n",
              "      spin 1s steps(1) infinite;\n",
              "  }\n",
              "\n",
              "  @keyframes spin {\n",
              "    0% {\n",
              "      border-color: transparent;\n",
              "      border-bottom-color: var(--fill-color);\n",
              "      border-left-color: var(--fill-color);\n",
              "    }\n",
              "    20% {\n",
              "      border-color: transparent;\n",
              "      border-left-color: var(--fill-color);\n",
              "      border-top-color: var(--fill-color);\n",
              "    }\n",
              "    30% {\n",
              "      border-color: transparent;\n",
              "      border-left-color: var(--fill-color);\n",
              "      border-top-color: var(--fill-color);\n",
              "      border-right-color: var(--fill-color);\n",
              "    }\n",
              "    40% {\n",
              "      border-color: transparent;\n",
              "      border-right-color: var(--fill-color);\n",
              "      border-top-color: var(--fill-color);\n",
              "    }\n",
              "    60% {\n",
              "      border-color: transparent;\n",
              "      border-right-color: var(--fill-color);\n",
              "    }\n",
              "    80% {\n",
              "      border-color: transparent;\n",
              "      border-right-color: var(--fill-color);\n",
              "      border-bottom-color: var(--fill-color);\n",
              "    }\n",
              "    90% {\n",
              "      border-color: transparent;\n",
              "      border-bottom-color: var(--fill-color);\n",
              "    }\n",
              "  }\n",
              "</style>\n",
              "\n",
              "  <script>\n",
              "    async function quickchart(key) {\n",
              "      const quickchartButtonEl =\n",
              "        document.querySelector('#' + key + ' button');\n",
              "      quickchartButtonEl.disabled = true;  // To prevent multiple clicks.\n",
              "      quickchartButtonEl.classList.add('colab-df-spinner');\n",
              "      try {\n",
              "        const charts = await google.colab.kernel.invokeFunction(\n",
              "            'suggestCharts', [key], {});\n",
              "      } catch (error) {\n",
              "        console.error('Error during call to suggestCharts:', error);\n",
              "      }\n",
              "      quickchartButtonEl.classList.remove('colab-df-spinner');\n",
              "      quickchartButtonEl.classList.add('colab-df-quickchart-complete');\n",
              "    }\n",
              "    (() => {\n",
              "      let quickchartButtonEl =\n",
              "        document.querySelector('#df-54fab9b0-195f-4254-8071-ac62794cb724 button');\n",
              "      quickchartButtonEl.style.display =\n",
              "        google.colab.kernel.accessAllowed ? 'block' : 'none';\n",
              "    })();\n",
              "  </script>\n",
              "</div>\n",
              "    </div>\n",
              "  </div>\n"
            ],
            "text/plain": [
              "            Cement  BlastFurnaceSlag       FlyAsh        Water  \\\n",
              "count  1005.000000       1005.000000  1005.000000  1005.000000   \n",
              "mean    278.629055         72.043134    55.535075   182.074378   \n",
              "std     104.345003         86.170555    64.207448    21.340740   \n",
              "min     102.000000          0.000000     0.000000   121.750000   \n",
              "25%     190.680000          0.000000     0.000000   166.610000   \n",
              "50%     265.000000         20.000000     0.000000   185.700000   \n",
              "75%     349.000000        142.500000   118.270000   192.940000   \n",
              "max     540.000000        359.400000   200.100000   247.000000   \n",
              "\n",
              "       Superplasticizer  CoarseAggregate  FineAggregate          Age  \\\n",
              "count       1005.000000      1005.000000    1005.000000  1005.000000   \n",
              "mean           6.031647       974.376468     772.686617    45.856716   \n",
              "std            5.919559        77.579534      80.339851    63.734692   \n",
              "min            0.000000       801.000000     594.000000     1.000000   \n",
              "25%            0.000000       932.000000     724.300000     7.000000   \n",
              "50%            6.100000       968.000000     780.000000    28.000000   \n",
              "75%           10.000000      1031.000000     822.200000    56.000000   \n",
              "max           32.200000      1145.000000     992.600000   365.000000   \n",
              "\n",
              "          strength  \n",
              "count  1005.000000  \n",
              "mean     35.250273  \n",
              "std      16.284808  \n",
              "min       2.331808  \n",
              "25%      23.523542  \n",
              "50%      33.798114  \n",
              "75%      44.868340  \n",
              "max      82.599225  "
            ]
          },
          "execution_count": 10,
          "metadata": {},
          "output_type": "execute_result"
        }
      ],
      "source": [
        "df.describe()"
      ]
    },
    {
      "cell_type": "markdown",
      "metadata": {
        "id": "jqoOb0iEakhX"
      },
      "source": [
        "DATA VISUALISATION"
      ]
    },
    {
      "cell_type": "code",
      "execution_count": null,
      "metadata": {
        "colab": {
          "base_uri": "https://localhost:8080/"
        },
        "id": "78R8Fp_namvI",
        "outputId": "491a1a05-54fb-41de-871d-1d21c7e3db81"
      },
      "outputs": [
        {
          "data": {
            "text/plain": [
              "strength            1.000000\n",
              "Cement              0.488283\n",
              "Superplasticizer    0.344225\n",
              "Age                 0.337371\n",
              "BlastFurnaceSlag    0.103370\n",
              "FlyAsh             -0.080648\n",
              "CoarseAggregate    -0.144710\n",
              "FineAggregate      -0.186457\n",
              "Water              -0.269606\n",
              "Name: strength, dtype: float64"
            ]
          },
          "execution_count": 11,
          "metadata": {},
          "output_type": "execute_result"
        }
      ],
      "source": [
        "corr = df.corr()\n",
        "corr['strength'].sort_values(ascending = False)"
      ]
    },
    {
      "cell_type": "code",
      "execution_count": null,
      "metadata": {
        "colab": {
          "base_uri": "https://localhost:8080/",
          "height": 796
        },
        "id": "4WaAN1Q8C9jx",
        "outputId": "e27f6809-ef65-4c6a-85c1-4460d7a3bed2"
      },
      "outputs": [
        {
          "name": "stderr",
          "output_type": "stream",
          "text": [
            "<ipython-input-12-5ae9e03dc42c>:3: UserWarning: \n",
            "\n",
            "`distplot` is a deprecated function and will be removed in seaborn v0.14.0.\n",
            "\n",
            "Please adapt your code to use either `displot` (a figure-level function with\n",
            "similar flexibility) or `histplot` (an axes-level function for histograms).\n",
            "\n",
            "For a guide to updating your code to use the new functions, please see\n",
            "https://gist.github.com/mwaskom/de44147ed2974457ad6372750bbe5751\n",
            "\n",
            "  sns.distplot(df['Cement'])\n"
          ]
        },
        {
          "data": {
            "image/png": "[encoded data removed]",
            "text/plain": [
              "<Figure size 1500x1500 with 2 Axes>"
            ]
          },
          "metadata": {},
          "output_type": "display_data"
        }
      ],
      "source": [
        "plt.figure(figsize=[15,15])\n",
        "plt.subplot(221)\n",
        "sns.distplot(df['Cement'])\n",
        "plt.subplot(222)\n",
        "sns.scatterplot(x='Cement', y='strength',data=df)\n",
        "plt.show()"
      ]
    },
    {
      "cell_type": "code",
      "execution_count": null,
      "metadata": {
        "colab": {
          "base_uri": "https://localhost:8080/",
          "height": 796
        },
        "id": "5-y6UV9ufei0",
        "outputId": "be427ed0-5ce4-4536-d5fb-a0a79821b408"
      },
      "outputs": [
        {
          "name": "stderr",
          "output_type": "stream",
          "text": [
            "<ipython-input-13-0dc2b963fcd0>:3: UserWarning: \n",
            "\n",
            "`distplot` is a deprecated function and will be removed in seaborn v0.14.0.\n",
            "\n",
            "Please adapt your code to use either `displot` (a figure-level function with\n",
            "similar flexibility) or `histplot` (an axes-level function for histograms).\n",
            "\n",
            "For a guide to updating your code to use the new functions, please see\n",
            "https://gist.github.com/mwaskom/de44147ed2974457ad6372750bbe5751\n",
            "\n",
            "  sns.distplot(df['Water'])\n"
          ]
        },
        {
          "data": {
            "image/png": "[encoded data removed]",
            "text/plain": [
              "<Figure size 1500x1500 with 2 Axes>"
            ]
          },
          "metadata": {},
          "output_type": "display_data"
        }
      ],
      "source": [
        "plt.figure(figsize=[15,15])\n",
        "plt.subplot(221)\n",
        "sns.distplot(df['Water'])\n",
        "plt.subplot(222)\n",
        "sns.scatterplot(x='Water',y='strength',data=df)\n",
        "plt.show()"
      ]
    },
    {
      "cell_type": "code",
      "execution_count": null,
      "metadata": {
        "colab": {
          "base_uri": "https://localhost:8080/",
          "height": 796
        },
        "id": "Z21Ifp5gfqVf",
        "outputId": "d47f459a-5f91-495a-888b-84947fcb1f97"
      },
      "outputs": [
        {
          "name": "stderr",
          "output_type": "stream",
          "text": [
            "<ipython-input-14-2349935779dc>:3: UserWarning: \n",
            "\n",
            "`distplot` is a deprecated function and will be removed in seaborn v0.14.0.\n",
            "\n",
            "Please adapt your code to use either `displot` (a figure-level function with\n",
            "similar flexibility) or `histplot` (an axes-level function for histograms).\n",
            "\n",
            "For a guide to updating your code to use the new functions, please see\n",
            "https://gist.github.com/mwaskom/de44147ed2974457ad6372750bbe5751\n",
            "\n",
            "  sns.distplot(df['Superplasticizer'])\n"
          ]
        },
        {
          "data": {
            "image/png": "[encoded data removed]",
            "text/plain": [
              "<Figure size 1500x1500 with 2 Axes>"
            ]
          },
          "metadata": {},
          "output_type": "display_data"
        }
      ],
      "source": [
        "plt.figure(figsize=[15,15])\n",
        "plt.subplot(221)\n",
        "sns.distplot(df['Superplasticizer'])\n",
        "plt.subplot(222)\n",
        "sns.scatterplot(x='Superplasticizer',y='strength',data=df)\n",
        "plt.show()"
      ]
    },
    {
      "cell_type": "code",
      "execution_count": null,
      "metadata": {
        "colab": {
          "base_uri": "https://localhost:8080/",
          "height": 605
        },
        "id": "Ugr7YDBkGZBg",
        "outputId": "7a99d0c5-f450-4863-ef45-65a5bd2a9719"
      },
      "outputs": [
        {
          "data": {
            "image/png": "[encoded data removed]",
            "text/plain": [
              "<Figure size 1500x1500 with 1 Axes>"
            ]
          },
          "metadata": {},
          "output_type": "display_data"
        }
      ],
      "source": [
        "plt.figure(figsize=[15,15])\n",
        "plt.subplot(221)\n",
        "sns.boxplot(x='Age',y='strength',data=df)\n",
        "plt.show()"
      ]
    },
    {
      "cell_type": "code",
      "execution_count": null,
      "metadata": {
        "id": "zbmsaV4Fw0ee"
      },
      "outputs": [],
      "source": [
        "#sns.pairplot(df)\n",
        "#plt.show()"
      ]
    },
    {
      "cell_type": "code",
      "execution_count": null,
      "metadata": {
        "colab": {
          "base_uri": "https://localhost:8080/",
          "height": 943
        },
        "id": "5aijFrcSMnuz",
        "outputId": "2d27b161-d9c4-4be3-cdf2-6f37376fbab6"
      },
      "outputs": [
        {
          "data": {
            "image/png": "[encoded data removed]",
            "text/plain": [
              "<Figure size 1000x1000 with 2 Axes>"
            ]
          },
          "metadata": {},
          "output_type": "display_data"
        }
      ],
      "source": [
        "plt.figure(figsize=(10,10))\n",
        "sns.heatmap(df.corr(),annot=True)\n",
        "plt.show()"
      ]
    },
    {
      "cell_type": "markdown",
      "metadata": {
        "id": "B2OmqG_hdBW7"
      },
      "source": [
        "MODEL BUILDING\n"
      ]
    },
    {
      "cell_type": "markdown",
      "metadata": {
        "id": "cKU6RrGKM8Vw"
      },
      "source": [
        "1. LINEAR REGRESSION"
      ]
    },
    {
      "cell_type": "code",
      "execution_count": null,
      "metadata": {
        "id": "sKQqtD2CYskK"
      },
      "outputs": [],
      "source": [
        "X = df.drop('strength', axis=1)\n",
        "y = df['strength']"
      ]
    },
    {
      "cell_type": "code",
      "execution_count": null,
      "metadata": {
        "id": "P0dCYeNnYiwo"
      },
      "outputs": [],
      "source": [
        "X_train, X_test, y_train, y_test = train_test_split(X, y, test_size=0.20, random_state=42)"
      ]
    },
    {
      "cell_type": "code",
      "execution_count": null,
      "metadata": {
        "id": "952Oo6d_Hn_K"
      },
      "outputs": [],
      "source": [
        "from sklearn.linear_model import LinearRegression"
      ]
    },
    {
      "cell_type": "code",
      "execution_count": null,
      "metadata": {
        "id": "GV60YMOJUCgw"
      },
      "outputs": [],
      "source": [
        "#Creating a linear regression model\n",
        "model = LinearRegression()"
      ]
    },
    {
      "cell_type": "code",
      "execution_count": null,
      "metadata": {
        "colab": {
          "base_uri": "https://localhost:8080/",
          "height": 74
        },
        "id": "N9NLxd26UNXT",
        "outputId": "b1723d8b-cda7-4bad-83d4-17fa8d65bfe1"
      },
      "outputs": [
        {
          "data": {
            "text/html": [
              "<style>#sk-container-id-1 {color: black;background-color: white;}#sk-container-id-1 pre{padding: 0;}#sk-container-id-1 div.sk-toggleable {background-color: white;}#sk-container-id-1 label.sk-toggleable__label {cursor: pointer;display: block;width: 100%;margin-bottom: 0;padding: 0.3em;box-sizing: border-box;text-align: center;}#sk-container-id-1 label.sk-toggleable__label-arrow:before {content: \"▸\";float: left;margin-right: 0.25em;color: #696969;}#sk-container-id-1 label.sk-toggleable__label-arrow:hover:before {color: black;}#sk-container-id-1 div.sk-estimator:hover label.sk-toggleable__label-arrow:before {color: black;}#sk-container-id-1 div.sk-toggleable__content {max-height: 0;max-width: 0;overflow: hidden;text-align: left;background-color: #f0f8ff;}#sk-container-id-1 div.sk-toggleable__content pre {margin: 0.2em;color: black;border-radius: 0.25em;background-color: #f0f8ff;}#sk-container-id-1 input.sk-toggleable__control:checked~div.sk-toggleable__content {max-height: 200px;max-width: 100%;overflow: auto;}#sk-container-id-1 input.sk-toggleable__control:checked~label.sk-toggleable__label-arrow:before {content: \"▾\";}#sk-container-id-1 div.sk-estimator input.sk-toggleable__control:checked~label.sk-toggleable__label {background-color: #d4ebff;}#sk-container-id-1 div.sk-label input.sk-toggleable__control:checked~label.sk-toggleable__label {background-color: #d4ebff;}#sk-container-id-1 input.sk-hidden--visually {border: 0;clip: rect(1px 1px 1px 1px);clip: rect(1px, 1px, 1px, 1px);height: 1px;margin: -1px;overflow: hidden;padding: 0;position: absolute;width: 1px;}#sk-container-id-1 div.sk-estimator {font-family: monospace;background-color: #f0f8ff;border: 1px dotted black;border-radius: 0.25em;box-sizing: border-box;margin-bottom: 0.5em;}#sk-container-id-1 div.sk-estimator:hover {background-color: #d4ebff;}#sk-container-id-1 div.sk-parallel-item::after {content: \"\";width: 100%;border-bottom: 1px solid gray;flex-grow: 1;}#sk-container-id-1 div.sk-label:hover label.sk-toggleable__label {background-color: #d4ebff;}#sk-container-id-1 div.sk-serial::before {content: \"\";position: absolute;border-left: 1px solid gray;box-sizing: border-box;top: 0;bottom: 0;left: 50%;z-index: 0;}#sk-container-id-1 div.sk-serial {display: flex;flex-direction: column;align-items: center;background-color: white;padding-right: 0.2em;padding-left: 0.2em;position: relative;}#sk-container-id-1 div.sk-item {position: relative;z-index: 1;}#sk-container-id-1 div.sk-parallel {display: flex;align-items: stretch;justify-content: center;background-color: white;position: relative;}#sk-container-id-1 div.sk-item::before, #sk-container-id-1 div.sk-parallel-item::before {content: \"\";position: absolute;border-left: 1px solid gray;box-sizing: border-box;top: 0;bottom: 0;left: 50%;z-index: -1;}#sk-container-id-1 div.sk-parallel-item {display: flex;flex-direction: column;z-index: 1;position: relative;background-color: white;}#sk-container-id-1 div.sk-parallel-item:first-child::after {align-self: flex-end;width: 50%;}#sk-container-id-1 div.sk-parallel-item:last-child::after {align-self: flex-start;width: 50%;}#sk-container-id-1 div.sk-parallel-item:only-child::after {width: 0;}#sk-container-id-1 div.sk-dashed-wrapped {border: 1px dashed gray;margin: 0 0.4em 0.5em 0.4em;box-sizing: border-box;padding-bottom: 0.4em;background-color: white;}#sk-container-id-1 div.sk-label label {font-family: monospace;font-weight: bold;display: inline-block;line-height: 1.2em;}#sk-container-id-1 div.sk-label-container {text-align: center;}#sk-container-id-1 div.sk-container {/* jupyter's `normalize.less` sets `[hidden] { display: none; }` but bootstrap.min.css set `[hidden] { display: none !important; }` so we also need the `!important` here to be able to override the default hidden behavior on the sphinx rendered scikit-learn.org. See: https://github.com/scikit-learn/scikit-learn/issues/21755 */display: inline-block !important;position: relative;}#sk-container-id-1 div.sk-text-repr-fallback {display: none;}</style><div id=\"sk-container-id-1\" class=\"sk-top-container\"><div class=\"sk-text-repr-fallback\"><pre>LinearRegression()</pre><b>In a Jupyter environment, please rerun this cell to show the HTML representation or trust the notebook. <br />On GitHub, the HTML representation is unable to render, please try loading this page with nbviewer.org.</b></div><div class=\"sk-container\" hidden><div class=\"sk-item\"><div class=\"sk-estimator sk-toggleable\"><input class=\"sk-toggleable__control sk-hidden--visually\" id=\"sk-estimator-id-1\" type=\"checkbox\" checked><label for=\"sk-estimator-id-1\" class=\"sk-toggleable__label sk-toggleable__label-arrow\">LinearRegression</label><div class=\"sk-toggleable__content\"><pre>LinearRegression()</pre></div></div></div></div></div>"
            ],
            "text/plain": [
              "LinearRegression()"
            ]
          },
          "execution_count": 22,
          "metadata": {},
          "output_type": "execute_result"
        }
      ],
      "source": [
        "#Fitting the model to the training data\n",
        "model.fit(X_train, y_train)"
      ]
    },
    {
      "cell_type": "code",
      "execution_count": null,
      "metadata": {
        "id": "h9N25DX-UP1U"
      },
      "outputs": [],
      "source": [
        "#Making predictions on the test data\n",
        "y_pred = model.predict(X_test)"
      ]
    },
    {
      "cell_type": "code",
      "execution_count": null,
      "metadata": {
        "colab": {
          "base_uri": "https://localhost:8080/"
        },
        "id": "QRQiiKh9vcYC",
        "outputId": "b06774da-0007-43e3-d9b1-def80d4d27f3"
      },
      "outputs": [
        {
          "name": "stdout",
          "output_type": "stream",
          "text": [
            "Mean Squared Error: 125.265338276725\n",
            "Mean Absolute Error: 8.896027820458997\n",
            "Root Mean Squared Error: 11.19219988548833\n",
            "R-squared (R²): 0.580108901995383\n"
          ]
        }
      ],
      "source": [
        "# Calculate Mean Squared Error (MSE)\n",
        "mse = mean_squared_error(y_test, y_pred)\n",
        "# Calculate Mean Absolute Error (MAE)\n",
        "mae1 = mean_absolute_error(y_test, y_pred)\n",
        "# Calculate Root Mean Squared Error (RMSE)\n",
        "rmse = np.sqrt(mean_squared_error(y_test, y_pred))\n",
        "# Calculate R-squared (R²)\n",
        "r_squared = r2_score(y_test, y_pred)\n",
        "print(\"Mean Squared Error:\", mse)\n",
        "print(\"Mean Absolute Error:\", mae1)\n",
        "print(\"Root Mean Squared Error:\", rmse)\n",
        "print(\"R-squared (R²):\", r_squared)"
      ]
    },
    {
      "cell_type": "markdown",
      "metadata": {
        "id": "N669eHWyI1SN"
      },
      "source": [
        "2. RANDOM FOREST REGRESSOR"
      ]
    },
    {
      "cell_type": "code",
      "execution_count": null,
      "metadata": {
        "id": "lOezmo0AIOCX"
      },
      "outputs": [],
      "source": [
        "from sklearn.ensemble import RandomForestRegressor"
      ]
    },
    {
      "cell_type": "code",
      "execution_count": null,
      "metadata": {
        "id": "t8RD1NSIIcpb"
      },
      "outputs": [],
      "source": [
        "# Create a random forest regression model\n",
        "model = RandomForestRegressor()"
      ]
    },
    {
      "cell_type": "code",
      "execution_count": null,
      "metadata": {
        "colab": {
          "base_uri": "https://localhost:8080/",
          "height": 74
        },
        "id": "n9DLXirPIdZv",
        "outputId": "effa60c9-7e88-4ec3-e34f-5f195a9189bf"
      },
      "outputs": [
        {
          "data": {
            "text/html": [
              "<style>#sk-container-id-2 {color: black;background-color: white;}#sk-container-id-2 pre{padding: 0;}#sk-container-id-2 div.sk-toggleable {background-color: white;}#sk-container-id-2 label.sk-toggleable__label {cursor: pointer;display: block;width: 100%;margin-bottom: 0;padding: 0.3em;box-sizing: border-box;text-align: center;}#sk-container-id-2 label.sk-toggleable__label-arrow:before {content: \"▸\";float: left;margin-right: 0.25em;color: #696969;}#sk-container-id-2 label.sk-toggleable__label-arrow:hover:before {color: black;}#sk-container-id-2 div.sk-estimator:hover label.sk-toggleable__label-arrow:before {color: black;}#sk-container-id-2 div.sk-toggleable__content {max-height: 0;max-width: 0;overflow: hidden;text-align: left;background-color: #f0f8ff;}#sk-container-id-2 div.sk-toggleable__content pre {margin: 0.2em;color: black;border-radius: 0.25em;background-color: #f0f8ff;}#sk-container-id-2 input.sk-toggleable__control:checked~div.sk-toggleable__content {max-height: 200px;max-width: 100%;overflow: auto;}#sk-container-id-2 input.sk-toggleable__control:checked~label.sk-toggleable__label-arrow:before {content: \"▾\";}#sk-container-id-2 div.sk-estimator input.sk-toggleable__control:checked~label.sk-toggleable__label {background-color: #d4ebff;}#sk-container-id-2 div.sk-label input.sk-toggleable__control:checked~label.sk-toggleable__label {background-color: #d4ebff;}#sk-container-id-2 input.sk-hidden--visually {border: 0;clip: rect(1px 1px 1px 1px);clip: rect(1px, 1px, 1px, 1px);height: 1px;margin: -1px;overflow: hidden;padding: 0;position: absolute;width: 1px;}#sk-container-id-2 div.sk-estimator {font-family: monospace;background-color: #f0f8ff;border: 1px dotted black;border-radius: 0.25em;box-sizing: border-box;margin-bottom: 0.5em;}#sk-container-id-2 div.sk-estimator:hover {background-color: #d4ebff;}#sk-container-id-2 div.sk-parallel-item::after {content: \"\";width: 100%;border-bottom: 1px solid gray;flex-grow: 1;}#sk-container-id-2 div.sk-label:hover label.sk-toggleable__label {background-color: #d4ebff;}#sk-container-id-2 div.sk-serial::before {content: \"\";position: absolute;border-left: 1px solid gray;box-sizing: border-box;top: 0;bottom: 0;left: 50%;z-index: 0;}#sk-container-id-2 div.sk-serial {display: flex;flex-direction: column;align-items: center;background-color: white;padding-right: 0.2em;padding-left: 0.2em;position: relative;}#sk-container-id-2 div.sk-item {position: relative;z-index: 1;}#sk-container-id-2 div.sk-parallel {display: flex;align-items: stretch;justify-content: center;background-color: white;position: relative;}#sk-container-id-2 div.sk-item::before, #sk-container-id-2 div.sk-parallel-item::before {content: \"\";position: absolute;border-left: 1px solid gray;box-sizing: border-box;top: 0;bottom: 0;left: 50%;z-index: -1;}#sk-container-id-2 div.sk-parallel-item {display: flex;flex-direction: column;z-index: 1;position: relative;background-color: white;}#sk-container-id-2 div.sk-parallel-item:first-child::after {align-self: flex-end;width: 50%;}#sk-container-id-2 div.sk-parallel-item:last-child::after {align-self: flex-start;width: 50%;}#sk-container-id-2 div.sk-parallel-item:only-child::after {width: 0;}#sk-container-id-2 div.sk-dashed-wrapped {border: 1px dashed gray;margin: 0 0.4em 0.5em 0.4em;box-sizing: border-box;padding-bottom: 0.4em;background-color: white;}#sk-container-id-2 div.sk-label label {font-family: monospace;font-weight: bold;display: inline-block;line-height: 1.2em;}#sk-container-id-2 div.sk-label-container {text-align: center;}#sk-container-id-2 div.sk-container {/* jupyter's `normalize.less` sets `[hidden] { display: none; }` but bootstrap.min.css set `[hidden] { display: none !important; }` so we also need the `!important` here to be able to override the default hidden behavior on the sphinx rendered scikit-learn.org. See: https://github.com/scikit-learn/scikit-learn/issues/21755 */display: inline-block !important;position: relative;}#sk-container-id-2 div.sk-text-repr-fallback {display: none;}</style><div id=\"sk-container-id-2\" class=\"sk-top-container\"><div class=\"sk-text-repr-fallback\"><pre>RandomForestRegressor()</pre><b>In a Jupyter environment, please rerun this cell to show the HTML representation or trust the notebook. <br />On GitHub, the HTML representation is unable to render, please try loading this page with nbviewer.org.</b></div><div class=\"sk-container\" hidden><div class=\"sk-item\"><div class=\"sk-estimator sk-toggleable\"><input class=\"sk-toggleable__control sk-hidden--visually\" id=\"sk-estimator-id-2\" type=\"checkbox\" checked><label for=\"sk-estimator-id-2\" class=\"sk-toggleable__label sk-toggleable__label-arrow\">RandomForestRegressor</label><div class=\"sk-toggleable__content\"><pre>RandomForestRegressor()</pre></div></div></div></div></div>"
            ],
            "text/plain": [
              "RandomForestRegressor()"
            ]
          },
          "execution_count": 27,
          "metadata": {},
          "output_type": "execute_result"
        }
      ],
      "source": [
        "# Fit the model to the training data\n",
        "model.fit(X_train, y_train)"
      ]
    },
    {
      "cell_type": "code",
      "execution_count": null,
      "metadata": {
        "id": "XB1mR-3aIhoB"
      },
      "outputs": [],
      "source": [
        "# Make predictions on the test data\n",
        "y_pred = model.predict(X_test)"
      ]
    },
    {
      "cell_type": "code",
      "execution_count": null,
      "metadata": {
        "colab": {
          "base_uri": "https://localhost:8080/"
        },
        "id": "n2ntc0TlvXfv",
        "outputId": "0cc2e041-e273-43c6-91ec-a332befcae9b"
      },
      "outputs": [
        {
          "name": "stdout",
          "output_type": "stream",
          "text": [
            "Mean Squared Error: 26.350377174504075\n",
            "Mean Absolute Error: 3.4890318381016554\n",
            "Root Mean Squared Error: 5.133261845503703\n",
            "R-squared (R²): 0.9116731814494758\n"
          ]
        }
      ],
      "source": [
        "# Calculate Mean Squared Error (MSE)\n",
        "mse = mean_squared_error(y_test, y_pred)\n",
        "# Calculate Mean Absolute Error (MAE)\n",
        "mae2 = mean_absolute_error(y_test, y_pred)\n",
        "# Calculate Root Mean Squared Error (RMSE)\n",
        "rmse = np.sqrt(mean_squared_error(y_test, y_pred))\n",
        "# Calculate R-squared (R²)\n",
        "r_squared = r2_score(y_test, y_pred)\n",
        "print(\"Mean Squared Error:\", mse)\n",
        "print(\"Mean Absolute Error:\", mae2)\n",
        "print(\"Root Mean Squared Error:\", rmse)\n",
        "print(\"R-squared (R²):\", r_squared)"
      ]
    },
    {
      "cell_type": "markdown",
      "metadata": {
        "id": "Is3woDi573go"
      },
      "source": [
        "3. KNN REGRESSOR"
      ]
    },
    {
      "cell_type": "code",
      "execution_count": null,
      "metadata": {
        "id": "8jYUAAjL72vF"
      },
      "outputs": [],
      "source": [
        "from sklearn.neighbors import KNeighborsRegressor"
      ]
    },
    {
      "cell_type": "code",
      "execution_count": null,
      "metadata": {
        "id": "-Gi5SksD8C7s"
      },
      "outputs": [],
      "source": [
        "model = KNeighborsRegressor(n_neighbors=5)"
      ]
    },
    {
      "cell_type": "code",
      "execution_count": null,
      "metadata": {
        "colab": {
          "base_uri": "https://localhost:8080/",
          "height": 74
        },
        "id": "bBG5ehZQ8Fa_",
        "outputId": "f7685499-bd53-4e56-eee6-f2897ae4d46b"
      },
      "outputs": [
        {
          "data": {
            "text/html": [
              "<style>#sk-container-id-3 {color: black;background-color: white;}#sk-container-id-3 pre{padding: 0;}#sk-container-id-3 div.sk-toggleable {background-color: white;}#sk-container-id-3 label.sk-toggleable__label {cursor: pointer;display: block;width: 100%;margin-bottom: 0;padding: 0.3em;box-sizing: border-box;text-align: center;}#sk-container-id-3 label.sk-toggleable__label-arrow:before {content: \"▸\";float: left;margin-right: 0.25em;color: #696969;}#sk-container-id-3 label.sk-toggleable__label-arrow:hover:before {color: black;}#sk-container-id-3 div.sk-estimator:hover label.sk-toggleable__label-arrow:before {color: black;}#sk-container-id-3 div.sk-toggleable__content {max-height: 0;max-width: 0;overflow: hidden;text-align: left;background-color: #f0f8ff;}#sk-container-id-3 div.sk-toggleable__content pre {margin: 0.2em;color: black;border-radius: 0.25em;background-color: #f0f8ff;}#sk-container-id-3 input.sk-toggleable__control:checked~div.sk-toggleable__content {max-height: 200px;max-width: 100%;overflow: auto;}#sk-container-id-3 input.sk-toggleable__control:checked~label.sk-toggleable__label-arrow:before {content: \"▾\";}#sk-container-id-3 div.sk-estimator input.sk-toggleable__control:checked~label.sk-toggleable__label {background-color: #d4ebff;}#sk-container-id-3 div.sk-label input.sk-toggleable__control:checked~label.sk-toggleable__label {background-color: #d4ebff;}#sk-container-id-3 input.sk-hidden--visually {border: 0;clip: rect(1px 1px 1px 1px);clip: rect(1px, 1px, 1px, 1px);height: 1px;margin: -1px;overflow: hidden;padding: 0;position: absolute;width: 1px;}#sk-container-id-3 div.sk-estimator {font-family: monospace;background-color: #f0f8ff;border: 1px dotted black;border-radius: 0.25em;box-sizing: border-box;margin-bottom: 0.5em;}#sk-container-id-3 div.sk-estimator:hover {background-color: #d4ebff;}#sk-container-id-3 div.sk-parallel-item::after {content: \"\";width: 100%;border-bottom: 1px solid gray;flex-grow: 1;}#sk-container-id-3 div.sk-label:hover label.sk-toggleable__label {background-color: #d4ebff;}#sk-container-id-3 div.sk-serial::before {content: \"\";position: absolute;border-left: 1px solid gray;box-sizing: border-box;top: 0;bottom: 0;left: 50%;z-index: 0;}#sk-container-id-3 div.sk-serial {display: flex;flex-direction: column;align-items: center;background-color: white;padding-right: 0.2em;padding-left: 0.2em;position: relative;}#sk-container-id-3 div.sk-item {position: relative;z-index: 1;}#sk-container-id-3 div.sk-parallel {display: flex;align-items: stretch;justify-content: center;background-color: white;position: relative;}#sk-container-id-3 div.sk-item::before, #sk-container-id-3 div.sk-parallel-item::before {content: \"\";position: absolute;border-left: 1px solid gray;box-sizing: border-box;top: 0;bottom: 0;left: 50%;z-index: -1;}#sk-container-id-3 div.sk-parallel-item {display: flex;flex-direction: column;z-index: 1;position: relative;background-color: white;}#sk-container-id-3 div.sk-parallel-item:first-child::after {align-self: flex-end;width: 50%;}#sk-container-id-3 div.sk-parallel-item:last-child::after {align-self: flex-start;width: 50%;}#sk-container-id-3 div.sk-parallel-item:only-child::after {width: 0;}#sk-container-id-3 div.sk-dashed-wrapped {border: 1px dashed gray;margin: 0 0.4em 0.5em 0.4em;box-sizing: border-box;padding-bottom: 0.4em;background-color: white;}#sk-container-id-3 div.sk-label label {font-family: monospace;font-weight: bold;display: inline-block;line-height: 1.2em;}#sk-container-id-3 div.sk-label-container {text-align: center;}#sk-container-id-3 div.sk-container {/* jupyter's `normalize.less` sets `[hidden] { display: none; }` but bootstrap.min.css set `[hidden] { display: none !important; }` so we also need the `!important` here to be able to override the default hidden behavior on the sphinx rendered scikit-learn.org. See: https://github.com/scikit-learn/scikit-learn/issues/21755 */display: inline-block !important;position: relative;}#sk-container-id-3 div.sk-text-repr-fallback {display: none;}</style><div id=\"sk-container-id-3\" class=\"sk-top-container\"><div class=\"sk-text-repr-fallback\"><pre>KNeighborsRegressor()</pre><b>In a Jupyter environment, please rerun this cell to show the HTML representation or trust the notebook. <br />On GitHub, the HTML representation is unable to render, please try loading this page with nbviewer.org.</b></div><div class=\"sk-container\" hidden><div class=\"sk-item\"><div class=\"sk-estimator sk-toggleable\"><input class=\"sk-toggleable__control sk-hidden--visually\" id=\"sk-estimator-id-3\" type=\"checkbox\" checked><label for=\"sk-estimator-id-3\" class=\"sk-toggleable__label sk-toggleable__label-arrow\">KNeighborsRegressor</label><div class=\"sk-toggleable__content\"><pre>KNeighborsRegressor()</pre></div></div></div></div></div>"
            ],
            "text/plain": [
              "KNeighborsRegressor()"
            ]
          },
          "execution_count": 32,
          "metadata": {},
          "output_type": "execute_result"
        }
      ],
      "source": [
        "model.fit(X_train, y_train)"
      ]
    },
    {
      "cell_type": "code",
      "execution_count": null,
      "metadata": {
        "id": "KaOBL_v88fm3"
      },
      "outputs": [],
      "source": [
        "y_pred = model.predict(X_test)"
      ]
    },
    {
      "cell_type": "code",
      "execution_count": null,
      "metadata": {
        "colab": {
          "base_uri": "https://localhost:8080/"
        },
        "id": "bNZk9GWXu-xg",
        "outputId": "601e3fec-d495-4d38-c71a-ebdf0b6ef772"
      },
      "outputs": [
        {
          "name": "stdout",
          "output_type": "stream",
          "text": [
            "Mean Squared Error: 89.59711037466813\n",
            "Mean Absolute Error: 7.233026334203217\n",
            "Root Mean Squared Error: 9.465575015532238\n",
            "R-squared (R²): 0.6996692814563655\n"
          ]
        }
      ],
      "source": [
        "# Calculate Mean Squared Error (MSE)\n",
        "mse = mean_squared_error(y_test, y_pred)\n",
        "# Calculate Mean Absolute Error (MAE)\n",
        "mae3 = mean_absolute_error(y_test, y_pred)\n",
        "# Calculate Root Mean Squared Error (RMSE)\n",
        "rmse = np.sqrt(mean_squared_error(y_test, y_pred))\n",
        "# Calculate R-squared (R²)\n",
        "r_squared = r2_score(y_test, y_pred)\n",
        "print(\"Mean Squared Error:\", mse)\n",
        "print(\"Mean Absolute Error:\", mae3)\n",
        "print(\"Root Mean Squared Error:\", rmse)\n",
        "print(\"R-squared (R²):\", r_squared)"
      ]
    },
    {
      "cell_type": "markdown",
      "metadata": {
        "id": "1KOUmq5v-TXh"
      },
      "source": [
        "4. SUPPORT VECTOR REGRESSOR"
      ]
    },
    {
      "cell_type": "code",
      "execution_count": null,
      "metadata": {
        "id": "eIUM-jtz-zac"
      },
      "outputs": [],
      "source": [
        "from sklearn.svm import SVR"
      ]
    },
    {
      "cell_type": "code",
      "execution_count": null,
      "metadata": {
        "id": "KKieyX_6AqQB"
      },
      "outputs": [],
      "source": [
        "model = SVR()"
      ]
    },
    {
      "cell_type": "code",
      "execution_count": null,
      "metadata": {
        "colab": {
          "base_uri": "https://localhost:8080/",
          "height": 74
        },
        "id": "m58hQAD1AtRE",
        "outputId": "741e3542-3382-44bc-c9f1-e4b283f2da17"
      },
      "outputs": [
        {
          "data": {
            "text/html": [
              "<style>#sk-container-id-4 {color: black;background-color: white;}#sk-container-id-4 pre{padding: 0;}#sk-container-id-4 div.sk-toggleable {background-color: white;}#sk-container-id-4 label.sk-toggleable__label {cursor: pointer;display: block;width: 100%;margin-bottom: 0;padding: 0.3em;box-sizing: border-box;text-align: center;}#sk-container-id-4 label.sk-toggleable__label-arrow:before {content: \"▸\";float: left;margin-right: 0.25em;color: #696969;}#sk-container-id-4 label.sk-toggleable__label-arrow:hover:before {color: black;}#sk-container-id-4 div.sk-estimator:hover label.sk-toggleable__label-arrow:before {color: black;}#sk-container-id-4 div.sk-toggleable__content {max-height: 0;max-width: 0;overflow: hidden;text-align: left;background-color: #f0f8ff;}#sk-container-id-4 div.sk-toggleable__content pre {margin: 0.2em;color: black;border-radius: 0.25em;background-color: #f0f8ff;}#sk-container-id-4 input.sk-toggleable__control:checked~div.sk-toggleable__content {max-height: 200px;max-width: 100%;overflow: auto;}#sk-container-id-4 input.sk-toggleable__control:checked~label.sk-toggleable__label-arrow:before {content: \"▾\";}#sk-container-id-4 div.sk-estimator input.sk-toggleable__control:checked~label.sk-toggleable__label {background-color: #d4ebff;}#sk-container-id-4 div.sk-label input.sk-toggleable__control:checked~label.sk-toggleable__label {background-color: #d4ebff;}#sk-container-id-4 input.sk-hidden--visually {border: 0;clip: rect(1px 1px 1px 1px);clip: rect(1px, 1px, 1px, 1px);height: 1px;margin: -1px;overflow: hidden;padding: 0;position: absolute;width: 1px;}#sk-container-id-4 div.sk-estimator {font-family: monospace;background-color: #f0f8ff;border: 1px dotted black;border-radius: 0.25em;box-sizing: border-box;margin-bottom: 0.5em;}#sk-container-id-4 div.sk-estimator:hover {background-color: #d4ebff;}#sk-container-id-4 div.sk-parallel-item::after {content: \"\";width: 100%;border-bottom: 1px solid gray;flex-grow: 1;}#sk-container-id-4 div.sk-label:hover label.sk-toggleable__label {background-color: #d4ebff;}#sk-container-id-4 div.sk-serial::before {content: \"\";position: absolute;border-left: 1px solid gray;box-sizing: border-box;top: 0;bottom: 0;left: 50%;z-index: 0;}#sk-container-id-4 div.sk-serial {display: flex;flex-direction: column;align-items: center;background-color: white;padding-right: 0.2em;padding-left: 0.2em;position: relative;}#sk-container-id-4 div.sk-item {position: relative;z-index: 1;}#sk-container-id-4 div.sk-parallel {display: flex;align-items: stretch;justify-content: center;background-color: white;position: relative;}#sk-container-id-4 div.sk-item::before, #sk-container-id-4 div.sk-parallel-item::before {content: \"\";position: absolute;border-left: 1px solid gray;box-sizing: border-box;top: 0;bottom: 0;left: 50%;z-index: -1;}#sk-container-id-4 div.sk-parallel-item {display: flex;flex-direction: column;z-index: 1;position: relative;background-color: white;}#sk-container-id-4 div.sk-parallel-item:first-child::after {align-self: flex-end;width: 50%;}#sk-container-id-4 div.sk-parallel-item:last-child::after {align-self: flex-start;width: 50%;}#sk-container-id-4 div.sk-parallel-item:only-child::after {width: 0;}#sk-container-id-4 div.sk-dashed-wrapped {border: 1px dashed gray;margin: 0 0.4em 0.5em 0.4em;box-sizing: border-box;padding-bottom: 0.4em;background-color: white;}#sk-container-id-4 div.sk-label label {font-family: monospace;font-weight: bold;display: inline-block;line-height: 1.2em;}#sk-container-id-4 div.sk-label-container {text-align: center;}#sk-container-id-4 div.sk-container {/* jupyter's `normalize.less` sets `[hidden] { display: none; }` but bootstrap.min.css set `[hidden] { display: none !important; }` so we also need the `!important` here to be able to override the default hidden behavior on the sphinx rendered scikit-learn.org. See: https://github.com/scikit-learn/scikit-learn/issues/21755 */display: inline-block !important;position: relative;}#sk-container-id-4 div.sk-text-repr-fallback {display: none;}</style><div id=\"sk-container-id-4\" class=\"sk-top-container\"><div class=\"sk-text-repr-fallback\"><pre>SVR()</pre><b>In a Jupyter environment, please rerun this cell to show the HTML representation or trust the notebook. <br />On GitHub, the HTML representation is unable to render, please try loading this page with nbviewer.org.</b></div><div class=\"sk-container\" hidden><div class=\"sk-item\"><div class=\"sk-estimator sk-toggleable\"><input class=\"sk-toggleable__control sk-hidden--visually\" id=\"sk-estimator-id-4\" type=\"checkbox\" checked><label for=\"sk-estimator-id-4\" class=\"sk-toggleable__label sk-toggleable__label-arrow\">SVR</label><div class=\"sk-toggleable__content\"><pre>SVR()</pre></div></div></div></div></div>"
            ],
            "text/plain": [
              "SVR()"
            ]
          },
          "execution_count": 37,
          "metadata": {},
          "output_type": "execute_result"
        }
      ],
      "source": [
        "model.fit(X_train, y_train)"
      ]
    },
    {
      "cell_type": "code",
      "execution_count": null,
      "metadata": {
        "id": "xN0Y7KqaAv2i"
      },
      "outputs": [],
      "source": [
        "y_pred = model.predict(X_test)"
      ]
    },
    {
      "cell_type": "code",
      "execution_count": null,
      "metadata": {
        "colab": {
          "base_uri": "https://localhost:8080/"
        },
        "id": "ZF4xrvNurJxy",
        "outputId": "f9ee6f22-50e9-4079-cd80-7c242aa3de19"
      },
      "outputs": [
        {
          "name": "stdout",
          "output_type": "stream",
          "text": [
            "Mean Squared Error: 238.03118187441322\n",
            "Mean Absolute Error: 12.311563862046931\n",
            "Root Mean Squared Error: 15.428259197797178\n",
            "R-squared (R²): 0.20211627820147926\n"
          ]
        }
      ],
      "source": [
        "# Calculate Mean Squared Error (MSE)\n",
        "mse = mean_squared_error(y_test, y_pred)\n",
        "# Calculate Mean Absolute Error (MAE)\n",
        "mae4 = mean_absolute_error(y_test, y_pred)\n",
        "# Calculate Root Mean Squared Error (RMSE)\n",
        "rmse = np.sqrt(mean_squared_error(y_test, y_pred))\n",
        "# Calculate R-squared (R²)\n",
        "r_squared = r2_score(y_test, y_pred)\n",
        "print(\"Mean Squared Error:\", mse)\n",
        "print(\"Mean Absolute Error:\", mae4)\n",
        "print(\"Root Mean Squared Error:\", rmse)\n",
        "print(\"R-squared (R²):\", r_squared)"
      ]
    },
    {
      "cell_type": "markdown",
      "metadata": {
        "id": "d2sIsFDab5MJ"
      },
      "source": [
        "5. GRADIENT BOOSTING"
      ]
    },
    {
      "cell_type": "code",
      "execution_count": null,
      "metadata": {
        "id": "u2CVtHYkb00y"
      },
      "outputs": [],
      "source": [
        "# Split the data into training and testing sets\n",
        "from sklearn.ensemble import GradientBoostingRegressor"
      ]
    },
    {
      "cell_type": "code",
      "execution_count": null,
      "metadata": {
        "colab": {
          "base_uri": "https://localhost:8080/",
          "height": 74
        },
        "id": "0lbMyE7scBjE",
        "outputId": "f22dc80c-730c-4443-8e41-c497d428004d"
      },
      "outputs": [
        {
          "data": {
            "text/html": [
              "<style>#sk-container-id-5 {color: black;background-color: white;}#sk-container-id-5 pre{padding: 0;}#sk-container-id-5 div.sk-toggleable {background-color: white;}#sk-container-id-5 label.sk-toggleable__label {cursor: pointer;display: block;width: 100%;margin-bottom: 0;padding: 0.3em;box-sizing: border-box;text-align: center;}#sk-container-id-5 label.sk-toggleable__label-arrow:before {content: \"▸\";float: left;margin-right: 0.25em;color: #696969;}#sk-container-id-5 label.sk-toggleable__label-arrow:hover:before {color: black;}#sk-container-id-5 div.sk-estimator:hover label.sk-toggleable__label-arrow:before {color: black;}#sk-container-id-5 div.sk-toggleable__content {max-height: 0;max-width: 0;overflow: hidden;text-align: left;background-color: #f0f8ff;}#sk-container-id-5 div.sk-toggleable__content pre {margin: 0.2em;color: black;border-radius: 0.25em;background-color: #f0f8ff;}#sk-container-id-5 input.sk-toggleable__control:checked~div.sk-toggleable__content {max-height: 200px;max-width: 100%;overflow: auto;}#sk-container-id-5 input.sk-toggleable__control:checked~label.sk-toggleable__label-arrow:before {content: \"▾\";}#sk-container-id-5 div.sk-estimator input.sk-toggleable__control:checked~label.sk-toggleable__label {background-color: #d4ebff;}#sk-container-id-5 div.sk-label input.sk-toggleable__control:checked~label.sk-toggleable__label {background-color: #d4ebff;}#sk-container-id-5 input.sk-hidden--visually {border: 0;clip: rect(1px 1px 1px 1px);clip: rect(1px, 1px, 1px, 1px);height: 1px;margin: -1px;overflow: hidden;padding: 0;position: absolute;width: 1px;}#sk-container-id-5 div.sk-estimator {font-family: monospace;background-color: #f0f8ff;border: 1px dotted black;border-radius: 0.25em;box-sizing: border-box;margin-bottom: 0.5em;}#sk-container-id-5 div.sk-estimator:hover {background-color: #d4ebff;}#sk-container-id-5 div.sk-parallel-item::after {content: \"\";width: 100%;border-bottom: 1px solid gray;flex-grow: 1;}#sk-container-id-5 div.sk-label:hover label.sk-toggleable__label {background-color: #d4ebff;}#sk-container-id-5 div.sk-serial::before {content: \"\";position: absolute;border-left: 1px solid gray;box-sizing: border-box;top: 0;bottom: 0;left: 50%;z-index: 0;}#sk-container-id-5 div.sk-serial {display: flex;flex-direction: column;align-items: center;background-color: white;padding-right: 0.2em;padding-left: 0.2em;position: relative;}#sk-container-id-5 div.sk-item {position: relative;z-index: 1;}#sk-container-id-5 div.sk-parallel {display: flex;align-items: stretch;justify-content: center;background-color: white;position: relative;}#sk-container-id-5 div.sk-item::before, #sk-container-id-5 div.sk-parallel-item::before {content: \"\";position: absolute;border-left: 1px solid gray;box-sizing: border-box;top: 0;bottom: 0;left: 50%;z-index: -1;}#sk-container-id-5 div.sk-parallel-item {display: flex;flex-direction: column;z-index: 1;position: relative;background-color: white;}#sk-container-id-5 div.sk-parallel-item:first-child::after {align-self: flex-end;width: 50%;}#sk-container-id-5 div.sk-parallel-item:last-child::after {align-self: flex-start;width: 50%;}#sk-container-id-5 div.sk-parallel-item:only-child::after {width: 0;}#sk-container-id-5 div.sk-dashed-wrapped {border: 1px dashed gray;margin: 0 0.4em 0.5em 0.4em;box-sizing: border-box;padding-bottom: 0.4em;background-color: white;}#sk-container-id-5 div.sk-label label {font-family: monospace;font-weight: bold;display: inline-block;line-height: 1.2em;}#sk-container-id-5 div.sk-label-container {text-align: center;}#sk-container-id-5 div.sk-container {/* jupyter's `normalize.less` sets `[hidden] { display: none; }` but bootstrap.min.css set `[hidden] { display: none !important; }` so we also need the `!important` here to be able to override the default hidden behavior on the sphinx rendered scikit-learn.org. See: https://github.com/scikit-learn/scikit-learn/issues/21755 */display: inline-block !important;position: relative;}#sk-container-id-5 div.sk-text-repr-fallback {display: none;}</style><div id=\"sk-container-id-5\" class=\"sk-top-container\"><div class=\"sk-text-repr-fallback\"><pre>GradientBoostingRegressor()</pre><b>In a Jupyter environment, please rerun this cell to show the HTML representation or trust the notebook. <br />On GitHub, the HTML representation is unable to render, please try loading this page with nbviewer.org.</b></div><div class=\"sk-container\" hidden><div class=\"sk-item\"><div class=\"sk-estimator sk-toggleable\"><input class=\"sk-toggleable__control sk-hidden--visually\" id=\"sk-estimator-id-5\" type=\"checkbox\" checked><label for=\"sk-estimator-id-5\" class=\"sk-toggleable__label sk-toggleable__label-arrow\">GradientBoostingRegressor</label><div class=\"sk-toggleable__content\"><pre>GradientBoostingRegressor()</pre></div></div></div></div></div>"
            ],
            "text/plain": [
              "GradientBoostingRegressor()"
            ]
          },
          "execution_count": 41,
          "metadata": {},
          "output_type": "execute_result"
        }
      ],
      "source": [
        "# Create a Gradient Boosting Regressor model with desired hyperparameters\n",
        "gbr = GradientBoostingRegressor(n_estimators=100, learning_rate=0.1, max_depth=3)\n",
        "gbr.fit(X_train, y_train)"
      ]
    },
    {
      "cell_type": "code",
      "execution_count": null,
      "metadata": {
        "colab": {
          "base_uri": "https://localhost:8080/"
        },
        "id": "xwPs-QRPcQ3S",
        "outputId": "55c33bd9-c6da-49c8-c050-7d5b0f9d8018"
      },
      "outputs": [
        {
          "data": {
            "text/plain": [
              "array([25.17646875, 24.96499246, 22.52590537, 37.92288629, 45.83023594,\n",
              "       31.33189331, 21.99459149, 22.70576564, 32.48945008, 33.02548698,\n",
              "       28.07135852, 29.68193255, 39.10333617, 43.95371755, 33.88824148,\n",
              "       16.04085485, 36.50097238, 51.12616215, 46.65157599, 36.58119562,\n",
              "       35.54027447,  9.79078005, 42.9175691 , 32.03426875,  7.68682228,\n",
              "       35.58055793, 58.50811802, 34.180739  , 18.88523034, 50.4018831 ,\n",
              "       42.74517844, 48.58159055, 51.53611808, 46.37438198, 14.47986293,\n",
              "       41.66610815, 46.05640889, 45.90075662, 41.92493258, 78.9001692 ,\n",
              "       38.3925206 , 31.58270659, 41.29959809, 47.41048026, 54.83771855,\n",
              "       50.74321764, 60.43103025, 25.23005673, 54.66434051, 37.9955686 ,\n",
              "       21.21980749, 52.12812526, 37.02894798,  7.86240578, 30.99993226,\n",
              "       34.60735109, 55.11742963, 12.43622863, 35.41400081, 50.30372117,\n",
              "       34.89845245, 37.7554558 , 37.55425181, 32.00304274, 45.17566539,\n",
              "       55.12247558, 38.12143649, 37.47021593, 55.73279   , 52.50656186,\n",
              "       60.31102913, 35.13488851, 28.78349368, 36.95911216, 13.27584436,\n",
              "       10.63598468, 30.09181527, 15.99277036, 39.81527147, 22.70821755,\n",
              "       41.70096644, 23.71753986, 35.41400081, 38.68184433, 25.78620907,\n",
              "       17.73230257, 28.52585293, 40.75784078, 30.55818281, 26.11139209,\n",
              "       34.97254576, 18.42486618, 34.23673987, 46.07165497, 13.73012127,\n",
              "       41.50442833, 40.32360413, 47.92372781, 42.00908625, 49.30362296,\n",
              "       57.25208239, 22.72601907, 11.15963628, 21.35396014, 16.5969209 ,\n",
              "       18.30478741, 34.81057936, 40.86406438, 18.61990382, 22.95481832,\n",
              "       21.85859341, 56.97803432, 10.900896  , 46.16460598, 60.65032272,\n",
              "       40.36548596, 53.04877317, 26.10068619, 24.58775798, 32.47050574,\n",
              "       72.43705941, 31.39356023, 27.06887334, 24.98264909, 23.89917597,\n",
              "       45.21461301, 32.84990834, 35.94150738, 55.71597861, 68.73613963,\n",
              "       13.72909797,  4.07936981, 27.25197411, 54.7538788 , 42.70712901,\n",
              "       36.4206293 , 13.35191067, 48.82344589, 15.11260067, 49.76661895,\n",
              "       34.31092026, 42.190157  , 44.72148594, 11.86010725, 41.15159999,\n",
              "       33.73204603, 38.25670442, 34.27728381, 27.47528511, 60.6615929 ,\n",
              "       50.58948459, 15.42234945, 33.76088825, 16.39788311, 35.49504125,\n",
              "       49.3786597 , 34.89845245, 22.6717183 , 48.68935473, 50.30372117,\n",
              "       37.10512224,  7.47360588, 11.83466552, 13.52987076, 14.9920619 ,\n",
              "       34.09931208, 32.66042137, 35.49890997, 43.2769573 , 26.67446634,\n",
              "       49.65903181, 40.90310834, 11.36798097, 15.79854239, 60.01714885,\n",
              "       35.76167512, 35.17444166, 36.61236752, 25.80974827, 13.79968579,\n",
              "       34.18577057, 31.66735136, 50.2772171 ,  7.46283915, 29.11865404,\n",
              "       36.41140516, 71.99846422, 71.91196211, 58.71805763, 11.32413258,\n",
              "       24.62639438, 31.97409711, 31.42915503, 19.71818229, 60.34296724,\n",
              "       17.79950539, 42.9175691 , 31.97409711, 62.49014189, 17.71033911,\n",
              "       15.16420821])"
            ]
          },
          "execution_count": 42,
          "metadata": {},
          "output_type": "execute_result"
        }
      ],
      "source": [
        "y_pred = gbr.predict(X_test)\n",
        "y_pred"
      ]
    },
    {
      "cell_type": "code",
      "execution_count": null,
      "metadata": {
        "colab": {
          "base_uri": "https://localhost:8080/"
        },
        "id": "cX8-VTYBcXRy",
        "outputId": "1414a3c2-9f20-4ddd-f329-05d79bafb8f6"
      },
      "outputs": [
        {
          "name": "stdout",
          "output_type": "stream",
          "text": [
            "Mean Absolute Error: 4.090659140360406\n",
            "Mean Squared Error: 30.43872933982858\n",
            "Root Mean Squared Error: 5.517130534963676\n",
            "R-squared (R²): 0.8979689700263976\n"
          ]
        }
      ],
      "source": [
        "# Calculate Mean Absolute Error (MAE)\n",
        "mae5 = mean_absolute_error(y_test, y_pred)\n",
        "\n",
        "# Calculate Mean Squared Error (MSE)\n",
        "mse = mean_squared_error(y_test, y_pred)\n",
        "\n",
        "# Calculate Root Mean Squared Error (RMSE)\n",
        "rmse = np.sqrt(mse)\n",
        "\n",
        "# Calculate R-squared (R²)\n",
        "r_squared = r2_score(y_test, y_pred)\n",
        "\n",
        "print(\"Mean Absolute Error:\", mae5)\n",
        "print(\"Mean Squared Error:\", mse)\n",
        "print(\"Root Mean Squared Error:\", rmse)\n",
        "print(\"R-squared (R²):\", r_squared)"
      ]
    },
    {
      "cell_type": "markdown",
      "metadata": {
        "id": "cGwcTuE5ejpq"
      },
      "source": [
        "6. DECISION TREE REGRESSOR"
      ]
    },
    {
      "cell_type": "code",
      "execution_count": null,
      "metadata": {
        "id": "J022IDBveiZR"
      },
      "outputs": [],
      "source": [
        "from sklearn.tree import DecisionTreeRegressor"
      ]
    },
    {
      "cell_type": "code",
      "execution_count": null,
      "metadata": {
        "colab": {
          "base_uri": "https://localhost:8080/",
          "height": 74
        },
        "id": "o58RAuyefHtq",
        "outputId": "1f84d4d2-c82c-4da0-e128-48c316d80e85"
      },
      "outputs": [
        {
          "data": {
            "text/html": [
              "<style>#sk-container-id-6 {color: black;background-color: white;}#sk-container-id-6 pre{padding: 0;}#sk-container-id-6 div.sk-toggleable {background-color: white;}#sk-container-id-6 label.sk-toggleable__label {cursor: pointer;display: block;width: 100%;margin-bottom: 0;padding: 0.3em;box-sizing: border-box;text-align: center;}#sk-container-id-6 label.sk-toggleable__label-arrow:before {content: \"▸\";float: left;margin-right: 0.25em;color: #696969;}#sk-container-id-6 label.sk-toggleable__label-arrow:hover:before {color: black;}#sk-container-id-6 div.sk-estimator:hover label.sk-toggleable__label-arrow:before {color: black;}#sk-container-id-6 div.sk-toggleable__content {max-height: 0;max-width: 0;overflow: hidden;text-align: left;background-color: #f0f8ff;}#sk-container-id-6 div.sk-toggleable__content pre {margin: 0.2em;color: black;border-radius: 0.25em;background-color: #f0f8ff;}#sk-container-id-6 input.sk-toggleable__control:checked~div.sk-toggleable__content {max-height: 200px;max-width: 100%;overflow: auto;}#sk-container-id-6 input.sk-toggleable__control:checked~label.sk-toggleable__label-arrow:before {content: \"▾\";}#sk-container-id-6 div.sk-estimator input.sk-toggleable__control:checked~label.sk-toggleable__label {background-color: #d4ebff;}#sk-container-id-6 div.sk-label input.sk-toggleable__control:checked~label.sk-toggleable__label {background-color: #d4ebff;}#sk-container-id-6 input.sk-hidden--visually {border: 0;clip: rect(1px 1px 1px 1px);clip: rect(1px, 1px, 1px, 1px);height: 1px;margin: -1px;overflow: hidden;padding: 0;position: absolute;width: 1px;}#sk-container-id-6 div.sk-estimator {font-family: monospace;background-color: #f0f8ff;border: 1px dotted black;border-radius: 0.25em;box-sizing: border-box;margin-bottom: 0.5em;}#sk-container-id-6 div.sk-estimator:hover {background-color: #d4ebff;}#sk-container-id-6 div.sk-parallel-item::after {content: \"\";width: 100%;border-bottom: 1px solid gray;flex-grow: 1;}#sk-container-id-6 div.sk-label:hover label.sk-toggleable__label {background-color: #d4ebff;}#sk-container-id-6 div.sk-serial::before {content: \"\";position: absolute;border-left: 1px solid gray;box-sizing: border-box;top: 0;bottom: 0;left: 50%;z-index: 0;}#sk-container-id-6 div.sk-serial {display: flex;flex-direction: column;align-items: center;background-color: white;padding-right: 0.2em;padding-left: 0.2em;position: relative;}#sk-container-id-6 div.sk-item {position: relative;z-index: 1;}#sk-container-id-6 div.sk-parallel {display: flex;align-items: stretch;justify-content: center;background-color: white;position: relative;}#sk-container-id-6 div.sk-item::before, #sk-container-id-6 div.sk-parallel-item::before {content: \"\";position: absolute;border-left: 1px solid gray;box-sizing: border-box;top: 0;bottom: 0;left: 50%;z-index: -1;}#sk-container-id-6 div.sk-parallel-item {display: flex;flex-direction: column;z-index: 1;position: relative;background-color: white;}#sk-container-id-6 div.sk-parallel-item:first-child::after {align-self: flex-end;width: 50%;}#sk-container-id-6 div.sk-parallel-item:last-child::after {align-self: flex-start;width: 50%;}#sk-container-id-6 div.sk-parallel-item:only-child::after {width: 0;}#sk-container-id-6 div.sk-dashed-wrapped {border: 1px dashed gray;margin: 0 0.4em 0.5em 0.4em;box-sizing: border-box;padding-bottom: 0.4em;background-color: white;}#sk-container-id-6 div.sk-label label {font-family: monospace;font-weight: bold;display: inline-block;line-height: 1.2em;}#sk-container-id-6 div.sk-label-container {text-align: center;}#sk-container-id-6 div.sk-container {/* jupyter's `normalize.less` sets `[hidden] { display: none; }` but bootstrap.min.css set `[hidden] { display: none !important; }` so we also need the `!important` here to be able to override the default hidden behavior on the sphinx rendered scikit-learn.org. See: https://github.com/scikit-learn/scikit-learn/issues/21755 */display: inline-block !important;position: relative;}#sk-container-id-6 div.sk-text-repr-fallback {display: none;}</style><div id=\"sk-container-id-6\" class=\"sk-top-container\"><div class=\"sk-text-repr-fallback\"><pre>DecisionTreeRegressor()</pre><b>In a Jupyter environment, please rerun this cell to show the HTML representation or trust the notebook. <br />On GitHub, the HTML representation is unable to render, please try loading this page with nbviewer.org.</b></div><div class=\"sk-container\" hidden><div class=\"sk-item\"><div class=\"sk-estimator sk-toggleable\"><input class=\"sk-toggleable__control sk-hidden--visually\" id=\"sk-estimator-id-6\" type=\"checkbox\" checked><label for=\"sk-estimator-id-6\" class=\"sk-toggleable__label sk-toggleable__label-arrow\">DecisionTreeRegressor</label><div class=\"sk-toggleable__content\"><pre>DecisionTreeRegressor()</pre></div></div></div></div></div>"
            ],
            "text/plain": [
              "DecisionTreeRegressor()"
            ]
          },
          "execution_count": 45,
          "metadata": {},
          "output_type": "execute_result"
        }
      ],
      "source": [
        "# Create a Decision Tree Regressor model\n",
        "regressor = DecisionTreeRegressor()\n",
        "regressor.fit(X_train, y_train)"
      ]
    },
    {
      "cell_type": "code",
      "execution_count": null,
      "metadata": {
        "colab": {
          "base_uri": "https://localhost:8080/"
        },
        "id": "FkQPC32Nfl2m",
        "outputId": "f18c2f87-9d33-454f-ac06-a0915da7db9d"
      },
      "outputs": [
        {
          "data": {
            "text/plain": [
              "array([19.00885332, 20.59395864, 17.96429718, 42.42345828, 44.0919902 ,\n",
              "       39.300132  , 22.34798559, 26.25800398, 33.70158688, 35.3011712 ,\n",
              "       28.99108685, 22.62998127, 39.48629052, 38.01770664, 44.63667624,\n",
              "       17.54026944, 39.38286912, 52.82075636, 51.03501352, 36.83870268,\n",
              "       33.79811352, 12.73462172, 40.2309246 , 48.28400428,  6.46728488,\n",
              "       42.29245784, 79.98611076, 34.67374804, 15.81657944, 44.52360218,\n",
              "       43.94237391, 58.78472376, 50.51101176, 45.08483564, 15.04919265,\n",
              "       37.79707432, 49.77327244, 49.97322048, 43.58177796, 79.40005616,\n",
              "       44.52045028, 27.923778  , 37.99702236, 41.05140104, 56.8472962 ,\n",
              "       44.14025352, 79.98611076, 36.4388066 , 60.28088668, 46.24315532,\n",
              "       21.81984697, 54.31554033, 37.72192144,  9.73126426, 33.94772981,\n",
              "       37.42475728, 53.57917996, 13.66403537, 39.35804798, 52.90831981,\n",
              "       29.07313449, 38.56239268, 43.25082948, 30.12320644, 45.2985732 ,\n",
              "       59.59042572, 45.3675208 , 35.34253976, 62.93536928, 47.22221124,\n",
              "       62.05284   , 38.32797084, 29.65436276, 33.56369168, 14.79615496,\n",
              "       10.33593472, 25.02108404, 13.45857152, 33.11691123, 17.54026944,\n",
              "       53.52471136, 26.0621928 , 39.35804798, 39.94134468, 25.89396066,\n",
              "       12.18097249, 33.0603742 , 39.41734292, 26.31040416, 24.8900836 ,\n",
              "       34.48758952, 13.29378676, 28.62980142, 39.1622368 , 18.91232668,\n",
              "       44.63667624, 43.58177796, 55.50971276, 37.18245572, 46.93194184,\n",
              "       61.23581094, 22.53207568, 13.12072828, 17.54026944, 15.69109481,\n",
              "       27.42046052, 35.76312012, 43.57833058, 19.98790924, 23.786922  ,\n",
              "       27.923778  , 65.90701084, 13.66403537, 52.42086028, 60.9496784 ,\n",
              "       28.59946448, 52.61391356, 39.300132  , 30.44726016, 39.300132  ,\n",
              "       73.69808964, 32.9569528 , 22.752708  , 23.69660064, 33.08795324,\n",
              "       40.28509772, 31.53663224, 40.06200298, 47.72208134, 67.69964844,\n",
              "       14.69962832,  6.28043688, 28.9379972 , 55.0201848 , 44.27814872,\n",
              "       32.6266938 , 17.16588397, 54.89607912, 10.73031499, 53.104131  ,\n",
              "       36.3009114 , 41.8367142 , 46.2293658 , 17.22311048, 36.80422888,\n",
              "       30.6472082 , 38.99676256, 29.39236188, 26.96540636, 60.28088668,\n",
              "       50.07664188, 13.20208645, 37.36339392, 13.54130864, 37.231704  ,\n",
              "       46.2293658 , 29.07313449, 29.72331036, 55.6407132 , 51.73276323,\n",
              "       40.14818748,  6.94095489, 11.85209244, 18.91232668, 20.41607384,\n",
              "       29.58541516, 27.62730332, 36.96418731, 48.8466167 , 27.42046052,\n",
              "       56.7438748 , 33.48883428, 10.7875415 , 17.9953236 , 60.2946762 ,\n",
              "       36.83870268, 31.35047372, 37.231704  , 29.93015316, 17.57474324,\n",
              "       30.14389072, 29.55094136, 50.93848688,  4.78220554, 23.63917715,\n",
              "       36.56291228, 69.65776028, 74.69782984, 52.20022796,  8.53571288,\n",
              "       26.77235308, 31.89998609, 27.62730332, 17.20035777, 68.29949256,\n",
              "       14.98920824, 45.70536404, 30.57136584, 66.82401392, 17.9953236 ,\n",
              "       14.69962832])"
            ]
          },
          "execution_count": 46,
          "metadata": {},
          "output_type": "execute_result"
        }
      ],
      "source": [
        "# Make predictions on the test set\n",
        "y_pred = regressor.predict(X_test)\n",
        "y_pred"
      ]
    },
    {
      "cell_type": "code",
      "execution_count": null,
      "metadata": {
        "colab": {
          "base_uri": "https://localhost:8080/"
        },
        "id": "Eys35tO1fsL8",
        "outputId": "19f6ef01-772e-4f14-d77d-0b22622d42fb"
      },
      "outputs": [
        {
          "name": "stdout",
          "output_type": "stream",
          "text": [
            "Mean Absolute Error: 3.804436931871582\n",
            "Mean Squared Error: 35.835321141081984\n",
            "Root Mean Squared Error: 5.98626103181961\n",
            "R-squared (R²): 0.8798795217553588\n"
          ]
        }
      ],
      "source": [
        "# Calculate Mean Absolute Error (MAE)\n",
        "mae6 = mean_absolute_error(y_test, y_pred)\n",
        "\n",
        "# Calculate Mean Squared Error (MSE)\n",
        "mse = mean_squared_error(y_test, y_pred)\n",
        "\n",
        "# Calculate Root Mean Squared Error (RMSE)\n",
        "rmse = np.sqrt(mse)\n",
        "\n",
        "# Calculate R-squared (R²)\n",
        "r_squared = r2_score(y_test, y_pred)\n",
        "\n",
        "print(\"Mean Absolute Error:\", mae6)\n",
        "print(\"Mean Squared Error:\", mse)\n",
        "print(\"Root Mean Squared Error:\", rmse)\n",
        "print(\"R-squared (R²):\", r_squared)"
      ]
    },
    {
      "cell_type": "markdown",
      "metadata": {
        "id": "KDQw39BHTCrl"
      },
      "source": [
        "7. ADA BOOST\n"
      ]
    },
    {
      "cell_type": "code",
      "execution_count": null,
      "metadata": {
        "colab": {
          "base_uri": "https://localhost:8080/"
        },
        "id": "Tg2IoHt3U_Y3",
        "outputId": "b18fadc0-c9ef-4ee8-f9be-94e6a7a9b2a6"
      },
      "outputs": [
        {
          "name": "stdout",
          "output_type": "stream",
          "text": [
            "Mean Absolute Error: 6.761420636730819\n",
            "Mean Squared Error: 71.58141025466138\n",
            "Root Mean Squared Error: 8.460579782418069\n",
            "R-squared (R²): 0.7600581504665656\n"
          ]
        }
      ],
      "source": [
        "from sklearn.ensemble import AdaBoostRegressor\n",
        "# Assuming you have a dataset (X, y), replace this with your actual dataset\n",
        "# For demonstration, let's create a random dataset\n",
        "\n",
        "# Split the data into training and testing sets\n",
        "\n",
        "\n",
        "# Initialize the AdaBoost regressor without specifying the base estimator\n",
        "adaboost_regressor = AdaBoostRegressor(n_estimators=100,learning_rate=0.1)\n",
        "\n",
        "# Train the AdaBoost regressor\n",
        "adaboost_regressor.fit(X_train, y_train)\n",
        "\n",
        "# Make predictions\n",
        "y_pred = adaboost_regressor.predict(X_test)\n",
        "# Calculate Mean Absolute Error (MAE)\n",
        "mae7 = mean_absolute_error(y_test, y_pred)\n",
        "\n",
        "# Calculate Mean Squared Error (MSE)\n",
        "mse = mean_squared_error(y_test, y_pred)\n",
        "\n",
        "# Calculate Root Mean Squared Error (RMSE)\n",
        "rmse = np.sqrt(mse)\n",
        "\n",
        "# Calculate R-squared (R²)\n",
        "r_squared = r2_score(y_test, y_pred)\n",
        "\n",
        "print(\"Mean Absolute Error:\", mae7)\n",
        "print(\"Mean Squared Error:\", mse)\n",
        "print(\"Root Mean Squared Error:\", rmse)\n",
        "print(\"R-squared (R²):\", r_squared)\n"
      ]
    },
    {
      "cell_type": "markdown",
      "metadata": {
        "id": "KoixPF88TTpJ"
      },
      "source": [
        "8. XG BOOST"
      ]
    },
    {
      "cell_type": "code",
      "execution_count": null,
      "metadata": {
        "colab": {
          "base_uri": "https://localhost:8080/"
        },
        "id": "BB8XORsCV897",
        "outputId": "9c79827d-b8d6-4be8-d035-d367f9abaed4"
      },
      "outputs": [
        {
          "name": "stdout",
          "output_type": "stream",
          "text": [
            "Mean Absolute Error: 2.9327385864113493\n",
            "Mean Squared Error: 20.758514502114636\n",
            "Root Mean Squared Error: 4.556151281741491\n",
            "R-squared (R²): 0.9304171803058371\n"
          ]
        }
      ],
      "source": [
        "from xgboost import XGBRegressor\n",
        "# Assuming you have a dataset (X, y), replace this with your actual dataset\n",
        "# Split the data into training and testing sets\n",
        "\n",
        "\n",
        "# Initialize the XGBoost regressor\n",
        "xgb_regressor = XGBRegressor(n_estimators=100, learning_rate=0.1)\n",
        "\n",
        "# Train the XGBoost regressor\n",
        "xgb_regressor.fit(X_train, y_train)\n",
        "\n",
        "# Make predictions\n",
        "y_pred = xgb_regressor.predict(X_test)\n",
        "# Calculate Mean Absolute Error (MAE)\n",
        "mae8 = mean_absolute_error(y_test, y_pred)\n",
        "\n",
        "# Calculate Mean Squared Error (MSE)\n",
        "mse = mean_squared_error(y_test, y_pred)\n",
        "\n",
        "# Calculate Root Mean Squared Error (RMSE)\n",
        "rmse = np.sqrt(mse)\n",
        "\n",
        "# Calculate R-squared (R²)\n",
        "r_squared = r2_score(y_test, y_pred)\n",
        "\n",
        "print(\"Mean Absolute Error:\", mae8)\n",
        "print(\"Mean Squared Error:\", mse)\n",
        "print(\"Root Mean Squared Error:\", rmse)\n",
        "print(\"R-squared (R²):\", r_squared)"
      ]
    },
    {
      "cell_type": "markdown",
      "metadata": {
        "id": "uFJvw2wbXRxR"
      },
      "source": [
        "COMPARING ALL MODELS"
      ]
    },
    {
      "cell_type": "code",
      "execution_count": null,
      "metadata": {
        "colab": {
          "base_uri": "https://localhost:8080/"
        },
        "id": "6chnhYFoN6a5",
        "outputId": "fcb4ed3c-f55a-4217-ac0c-c8acf481a212"
      },
      "outputs": [
        {
          "name": "stdout",
          "output_type": "stream",
          "text": [
            "                       Model        MAE\n",
            "7               XGBRegressor   2.932739\n",
            "1      RandomForestRegressor   3.489032\n",
            "5      DecisionTreeRegressor   3.804437\n",
            "4  GradientBoostingRegressor   4.090659\n",
            "6          AdaBoostRegressor   6.761421\n",
            "2        KNeighborsRegressor   7.233026\n",
            "0           LinearRegression   8.896028\n",
            "3                        SVR  12.311564\n"
          ]
        }
      ],
      "source": [
        "mae_values = {\n",
        "    'Model': ['LinearRegression', 'RandomForestRegressor', 'KNeighborsRegressor','SVR','GradientBoostingRegressor',' DecisionTreeRegressor','AdaBoostRegressor','XGBRegressor'],  # Replace with your model names\n",
        "    'MAE': [mae1,mae2,mae3,mae4,mae5,mae6,mae7,mae8]  # Replace with your actual MAE values\n",
        "}\n",
        "\n",
        "# Create a DataFrame\n",
        "mae_df = pd.DataFrame(mae_values)\n",
        "mae_df_sorted = mae_df.sort_values(by='MAE')\n",
        "\n",
        "# Display the DataFrame\n",
        "print(mae_df_sorted)"
      ]
    },
    {
      "cell_type": "markdown",
      "metadata": {
        "id": "_a_HdwJeVeZv"
      },
      "source": [
        "\n",
        "VARIANCE INFLATION FACTOR"
      ]
    },
    {
      "cell_type": "code",
      "execution_count": null,
      "metadata": {
        "colab": {
          "base_uri": "https://localhost:8080/",
          "height": 300
        },
        "id": "tz7DCFwPVYen",
        "outputId": "bd85a864-399d-4b35-aa72-1d7a402dbaac"
      },
      "outputs": [
        {
          "data": {
            "text/html": [
              "\n",
              "  <div id=\"df-4757a164-d731-43c9-bf16-336c90f79483\" class=\"colab-df-container\">\n",
              "    <div>\n",
              "<style scoped>\n",
              "    .dataframe tbody tr th:only-of-type {\n",
              "        vertical-align: middle;\n",
              "    }\n",
              "\n",
              "    .dataframe tbody tr th {\n",
              "        vertical-align: top;\n",
              "    }\n",
              "\n",
              "    .dataframe thead th {\n",
              "        text-align: right;\n",
              "    }\n",
              "</style>\n",
              "<table border=\"1\" class=\"dataframe\">\n",
              "  <thead>\n",
              "    <tr style=\"text-align: right;\">\n",
              "      <th></th>\n",
              "      <th>variables</th>\n",
              "      <th>VIF</th>\n",
              "    </tr>\n",
              "  </thead>\n",
              "  <tbody>\n",
              "    <tr>\n",
              "      <th>0</th>\n",
              "      <td>Cement</td>\n",
              "      <td>15.155077</td>\n",
              "    </tr>\n",
              "    <tr>\n",
              "      <th>1</th>\n",
              "      <td>BlastFurnaceSlag</td>\n",
              "      <td>3.261879</td>\n",
              "    </tr>\n",
              "    <tr>\n",
              "      <th>2</th>\n",
              "      <td>FlyAsh</td>\n",
              "      <td>4.171453</td>\n",
              "    </tr>\n",
              "    <tr>\n",
              "      <th>3</th>\n",
              "      <td>Water</td>\n",
              "      <td>81.395278</td>\n",
              "    </tr>\n",
              "    <tr>\n",
              "      <th>4</th>\n",
              "      <td>Superplasticizer</td>\n",
              "      <td>5.171809</td>\n",
              "    </tr>\n",
              "    <tr>\n",
              "      <th>5</th>\n",
              "      <td>CoarseAggregate</td>\n",
              "      <td>84.738626</td>\n",
              "    </tr>\n",
              "    <tr>\n",
              "      <th>6</th>\n",
              "      <td>FineAggregate</td>\n",
              "      <td>72.495779</td>\n",
              "    </tr>\n",
              "    <tr>\n",
              "      <th>7</th>\n",
              "      <td>Age</td>\n",
              "      <td>1.696228</td>\n",
              "    </tr>\n",
              "  </tbody>\n",
              "</table>\n",
              "</div>\n",
              "    <div class=\"colab-df-buttons\">\n",
              "\n",
              "  <div class=\"colab-df-container\">\n",
              "    <button class=\"colab-df-convert\" onclick=\"convertToInteractive('df-4757a164-d731-43c9-bf16-336c90f79483')\"\n",
              "            title=\"Convert this dataframe to an interactive table.\"\n",
              "            style=\"display:none;\">\n",
              "\n",
              "  <svg xmlns=\"http://www.w3.org/2000/svg\" height=\"24px\" viewBox=\"0 -960 960 960\">\n",
              "    <path d=\"M120-120v-720h720v720H120Zm60-500h600v-160H180v160Zm220 220h160v-160H400v160Zm0 220h160v-160H400v160ZM180-400h160v-160H180v160Zm440 0h160v-160H620v160ZM180-180h160v-160H180v160Zm440 0h160v-160H620v160Z\"/>\n",
              "  </svg>\n",
              "    </button>\n",
              "\n",
              "  <style>\n",
              "    .colab-df-container {\n",
              "      display:flex;\n",
              "      gap: 12px;\n",
              "    }\n",
              "\n",
              "    .colab-df-convert {\n",
              "      background-color: #E8F0FE;\n",
              "      border: none;\n",
              "      border-radius: 50%;\n",
              "      cursor: pointer;\n",
              "      display: none;\n",
              "      fill: #1967D2;\n",
              "      height: 32px;\n",
              "      padding: 0 0 0 0;\n",
              "      width: 32px;\n",
              "    }\n",
              "\n",
              "    .colab-df-convert:hover {\n",
              "      background-color: #E2EBFA;\n",
              "      box-shadow: 0px 1px 2px rgba(60, 64, 67, 0.3), 0px 1px 3px 1px rgba(60, 64, 67, 0.15);\n",
              "      fill: #174EA6;\n",
              "    }\n",
              "\n",
              "    .colab-df-buttons div {\n",
              "      margin-bottom: 4px;\n",
              "    }\n",
              "\n",
              "    [theme=dark] .colab-df-convert {\n",
              "      background-color: #3B4455;\n",
              "      fill: #D2E3FC;\n",
              "    }\n",
              "\n",
              "    [theme=dark] .colab-df-convert:hover {\n",
              "      background-color: #434B5C;\n",
              "      box-shadow: 0px 1px 3px 1px rgba(0, 0, 0, 0.15);\n",
              "      filter: drop-shadow(0px 1px 2px rgba(0, 0, 0, 0.3));\n",
              "      fill: #FFFFFF;\n",
              "    }\n",
              "  </style>\n",
              "\n",
              "    <script>\n",
              "      const buttonEl =\n",
              "        document.querySelector('#df-4757a164-d731-43c9-bf16-336c90f79483 button.colab-df-convert');\n",
              "      buttonEl.style.display =\n",
              "        google.colab.kernel.accessAllowed ? 'block' : 'none';\n",
              "\n",
              "      async function convertToInteractive(key) {\n",
              "        const element = document.querySelector('#df-4757a164-d731-43c9-bf16-336c90f79483');\n",
              "        const dataTable =\n",
              "          await google.colab.kernel.invokeFunction('convertToInteractive',\n",
              "                                                    [key], {});\n",
              "        if (!dataTable) return;\n",
              "\n",
              "        const docLinkHtml = 'Like what you see? Visit the ' +\n",
              "          '<a target=\"_blank\" href=https://colab.research.google.com/notebooks/data_table.ipynb>data table notebook</a>'\n",
              "          + ' to learn more about interactive tables.';\n",
              "        element.innerHTML = '';\n",
              "        dataTable['output_type'] = 'display_data';\n",
              "        await google.colab.output.renderOutput(dataTable, element);\n",
              "        const docLink = document.createElement('div');\n",
              "        docLink.innerHTML = docLinkHtml;\n",
              "        element.appendChild(docLink);\n",
              "      }\n",
              "    </script>\n",
              "  </div>\n",
              "\n",
              "\n",
              "<div id=\"df-5b70bcb2-9808-4a87-ab73-0b2c23bdea4c\">\n",
              "  <button class=\"colab-df-quickchart\" onclick=\"quickchart('df-5b70bcb2-9808-4a87-ab73-0b2c23bdea4c')\"\n",
              "            title=\"Suggest charts\"\n",
              "            style=\"display:none;\">\n",
              "\n",
              "<svg xmlns=\"http://www.w3.org/2000/svg\" height=\"24px\"viewBox=\"0 0 24 24\"\n",
              "     width=\"24px\">\n",
              "    <g>\n",
              "        <path d=\"M19 3H5c-1.1 0-2 .9-2 2v14c0 1.1.9 2 2 2h14c1.1 0 2-.9 2-2V5c0-1.1-.9-2-2-2zM9 17H7v-7h2v7zm4 0h-2V7h2v10zm4 0h-2v-4h2v4z\"/>\n",
              "    </g>\n",
              "</svg>\n",
              "  </button>\n",
              "\n",
              "<style>\n",
              "  .colab-df-quickchart {\n",
              "      --bg-color: #E8F0FE;\n",
              "      --fill-color: #1967D2;\n",
              "      --hover-bg-color: #E2EBFA;\n",
              "      --hover-fill-color: #174EA6;\n",
              "      --disabled-fill-color: #AAA;\n",
              "      --disabled-bg-color: #DDD;\n",
              "  }\n",
              "\n",
              "  [theme=dark] .colab-df-quickchart {\n",
              "      --bg-color: #3B4455;\n",
              "      --fill-color: #D2E3FC;\n",
              "      --hover-bg-color: #434B5C;\n",
              "      --hover-fill-color: #FFFFFF;\n",
              "      --disabled-bg-color: #3B4455;\n",
              "      --disabled-fill-color: #666;\n",
              "  }\n",
              "\n",
              "  .colab-df-quickchart {\n",
              "    background-color: var(--bg-color);\n",
              "    border: none;\n",
              "    border-radius: 50%;\n",
              "    cursor: pointer;\n",
              "    display: none;\n",
              "    fill: var(--fill-color);\n",
              "    height: 32px;\n",
              "    padding: 0;\n",
              "    width: 32px;\n",
              "  }\n",
              "\n",
              "  .colab-df-quickchart:hover {\n",
              "    background-color: var(--hover-bg-color);\n",
              "    box-shadow: 0 1px 2px rgba(60, 64, 67, 0.3), 0 1px 3px 1px rgba(60, 64, 67, 0.15);\n",
              "    fill: var(--button-hover-fill-color);\n",
              "  }\n",
              "\n",
              "  .colab-df-quickchart-complete:disabled,\n",
              "  .colab-df-quickchart-complete:disabled:hover {\n",
              "    background-color: var(--disabled-bg-color);\n",
              "    fill: var(--disabled-fill-color);\n",
              "    box-shadow: none;\n",
              "  }\n",
              "\n",
              "  .colab-df-spinner {\n",
              "    border: 2px solid var(--fill-color);\n",
              "    border-color: transparent;\n",
              "    border-bottom-color: var(--fill-color);\n",
              "    animation:\n",
              "      spin 1s steps(1) infinite;\n",
              "  }\n",
              "\n",
              "  @keyframes spin {\n",
              "    0% {\n",
              "      border-color: transparent;\n",
              "      border-bottom-color: var(--fill-color);\n",
              "      border-left-color: var(--fill-color);\n",
              "    }\n",
              "    20% {\n",
              "      border-color: transparent;\n",
              "      border-left-color: var(--fill-color);\n",
              "      border-top-color: var(--fill-color);\n",
              "    }\n",
              "    30% {\n",
              "      border-color: transparent;\n",
              "      border-left-color: var(--fill-color);\n",
              "      border-top-color: var(--fill-color);\n",
              "      border-right-color: var(--fill-color);\n",
              "    }\n",
              "    40% {\n",
              "      border-color: transparent;\n",
              "      border-right-color: var(--fill-color);\n",
              "      border-top-color: var(--fill-color);\n",
              "    }\n",
              "    60% {\n",
              "      border-color: transparent;\n",
              "      border-right-color: var(--fill-color);\n",
              "    }\n",
              "    80% {\n",
              "      border-color: transparent;\n",
              "      border-right-color: var(--fill-color);\n",
              "      border-bottom-color: var(--fill-color);\n",
              "    }\n",
              "    90% {\n",
              "      border-color: transparent;\n",
              "      border-bottom-color: var(--fill-color);\n",
              "    }\n",
              "  }\n",
              "</style>\n",
              "\n",
              "  <script>\n",
              "    async function quickchart(key) {\n",
              "      const quickchartButtonEl =\n",
              "        document.querySelector('#' + key + ' button');\n",
              "      quickchartButtonEl.disabled = true;  // To prevent multiple clicks.\n",
              "      quickchartButtonEl.classList.add('colab-df-spinner');\n",
              "      try {\n",
              "        const charts = await google.colab.kernel.invokeFunction(\n",
              "            'suggestCharts', [key], {});\n",
              "      } catch (error) {\n",
              "        console.error('Error during call to suggestCharts:', error);\n",
              "      }\n",
              "      quickchartButtonEl.classList.remove('colab-df-spinner');\n",
              "      quickchartButtonEl.classList.add('colab-df-quickchart-complete');\n",
              "    }\n",
              "    (() => {\n",
              "      let quickchartButtonEl =\n",
              "        document.querySelector('#df-5b70bcb2-9808-4a87-ab73-0b2c23bdea4c button');\n",
              "      quickchartButtonEl.style.display =\n",
              "        google.colab.kernel.accessAllowed ? 'block' : 'none';\n",
              "    })();\n",
              "  </script>\n",
              "</div>\n",
              "    </div>\n",
              "  </div>\n"
            ],
            "text/plain": [
              "          variables        VIF\n",
              "0            Cement  15.155077\n",
              "1  BlastFurnaceSlag   3.261879\n",
              "2            FlyAsh   4.171453\n",
              "3             Water  81.395278\n",
              "4  Superplasticizer   5.171809\n",
              "5   CoarseAggregate  84.738626\n",
              "6     FineAggregate  72.495779\n",
              "7               Age   1.696228"
            ]
          },
          "execution_count": 51,
          "metadata": {},
          "output_type": "execute_result"
        }
      ],
      "source": [
        "# Import library for VIF\n",
        "from statsmodels.stats.outliers_influence import variance_inflation_factor\n",
        "\n",
        "def calc_vif(X):\n",
        "\n",
        "    # Calculating VIF\n",
        "    vif = pd.DataFrame()\n",
        "    vif[\"variables\"] = X.columns\n",
        "    vif[\"VIF\"] = [variance_inflation_factor(X.values, i) for i in range(X.shape[1])]\n",
        "\n",
        "    return(vif)\n",
        "calc_vif(X)"
      ]
    },
    {
      "cell_type": "code",
      "execution_count": null,
      "metadata": {
        "colab": {
          "base_uri": "https://localhost:8080/",
          "height": 452
        },
        "id": "91NlEj6wGgxq",
        "outputId": "49a25388-6c85-4d20-b25f-8808547e669c"
      },
      "outputs": [
        {
          "data": {
            "image/png": "[encoded data removed]",
            "text/plain": [
              "<Figure size 640x480 with 1 Axes>"
            ]
          },
          "metadata": {},
          "output_type": "display_data"
        }
      ],
      "source": [
        "import matplotlib.pyplot as plt\n",
        "\n",
        "# Assuming you have a list of variable names and their corresponding VIF values\n",
        "variable_names = ['Cement', 'BlastFurnaceSlag', 'FlyAsh', 'Water', 'Superplasticizer', 'CoarseAggregate', 'FineAggregate', 'Age']\n",
        "vif_values = [15.16, 3.26, 4.17, 81.40, 5.17, 84.74, 72.50, 1.70]\n",
        "\n",
        "# Define threshold values for categorization\n",
        "high_threshold = 10\n",
        "moderate_threshold = 5\n",
        "\n",
        "# Categorize variables based on VIF values\n",
        "collinearity_levels = ['Very High' if vif > high_threshold else 'Moderate' if vif > moderate_threshold else 'Low' for vif in vif_values]\n",
        "\n",
        "# Create a bar plot\n",
        "fig, ax = plt.subplots()\n",
        "bar_colors = ['red' if level == 'Very High' else 'orange' if level == 'Moderate' else 'green' for level in collinearity_levels]\n",
        "bars = ax.bar(variable_names, vif_values, color=bar_colors)\n",
        "\n",
        "# Add labels and title\n",
        "ax.set_ylabel('VIF Values')\n",
        "ax.set_title('Variable Collinearity Levels')\n",
        "ax.axhline(y=high_threshold, color='red', linestyle='--', label='High Collinearity Threshold')\n",
        "ax.axhline(y=moderate_threshold, color='orange', linestyle='--', label='Moderate Collinearity Threshold')\n",
        "ax.legend()\n",
        "\n",
        "# Annotate bars with collinearity levels\n",
        "for i, (bar, level) in enumerate(zip(bars, collinearity_levels)):\n",
        "    ax.text(bar.get_x() + bar.get_width() / 2, bar.get_height() + 1, level, ha='center', va='bottom')\n",
        "\n",
        "# Show the plot\n",
        "plt.show()\n"
      ]
    },
    {
      "cell_type": "code",
      "execution_count": null,
      "metadata": {
        "id": "h3DeoEgffQ0m"
      },
      "outputs": [],
      "source": [
        "import tensorflow as tf\n",
        "from tensorflow import keras\n",
        "from tensorflow.keras import layers, models\n",
        "from sklearn.model_selection import train_test_split\n",
        "from sklearn.preprocessing import StandardScaler\n",
        "import numpy as np\n",
        "import pandas as pd"
      ]
    },
    {
      "cell_type": "code",
      "execution_count": null,
      "metadata": {
        "id": "nEqBhaisPSsR"
      },
      "outputs": [],
      "source": [
        "X_train, X_test, y_train, y_test = train_test_split(X, y, test_size=0.2)\n",
        "scaler = StandardScaler()\n",
        "X_train = scaler.fit_transform(X_train)\n",
        "X_test = scaler.transform(X_test)"
      ]
    },
    {
      "cell_type": "code",
      "execution_count": null,
      "metadata": {
        "id": "NalMvdl-fUFC"
      },
      "outputs": [],
      "source": [
        "scaler = StandardScaler()\n",
        "X_train = scaler.fit_transform(X_train)\n",
        "X_test = scaler.transform(X_test)"
      ]
    },
    {
      "cell_type": "code",
      "execution_count": null,
      "metadata": {
        "id": "SRCp0btufX-K"
      },
      "outputs": [],
      "source": [
        "def build_model():\n",
        "    model = models.Sequential([\n",
        "        layers.Dense(64, activation='linear', input_shape=(X_train.shape[1],)),\n",
        "        layers.Dense(64, activation='linear'),\n",
        "        layers.Dense(1)  # No activation for regression\n",
        "    ])\n",
        "\n",
        "    model.compile(optimizer='rmsprop', loss='mse', metrics=['mae'])\n",
        "    return model\n",
        "\n",
        "model = build_model()"
      ]
    },
    {
      "cell_type": "code",
      "execution_count": null,
      "metadata": {
        "colab": {
          "base_uri": "https://localhost:8080/"
        },
        "id": "X7atrsRbj9i8",
        "outputId": "6b02bf20-9147-4b1f-ef67-8864810455f1"
      },
      "outputs": [
        {
          "name": "stdout",
          "output_type": "stream",
          "text": [
            "Epoch 1/150\n",
            "21/21 - 9s - loss: 1467.6072 - mae: 34.9657 - val_loss: 1423.4663 - val_mae: 35.0301 - 9s/epoch - 427ms/step\n",
            "Epoch 2/150\n",
            "21/21 - 0s - loss: 1359.4900 - mae: 34.0575 - val_loss: 1312.0419 - val_mae: 33.9490 - 141ms/epoch - 7ms/step\n",
            "Epoch 3/150\n",
            "21/21 - 0s - loss: 1212.3198 - mae: 32.4629 - val_loss: 1163.9847 - val_mae: 32.1322 - 173ms/epoch - 8ms/step\n",
            "Epoch 4/150\n",
            "21/21 - 0s - loss: 1039.1897 - mae: 30.1021 - val_loss: 982.0146 - val_mae: 29.3502 - 137ms/epoch - 7ms/step\n",
            "Epoch 5/150\n",
            "21/21 - 0s - loss: 834.5762 - mae: 26.7836 - val_loss: 755.9459 - val_mae: 25.4450 - 150ms/epoch - 7ms/step\n",
            "Epoch 6/150\n",
            "21/21 - 0s - loss: 616.8534 - mae: 22.6276 - val_loss: 543.5269 - val_mae: 21.0081 - 157ms/epoch - 7ms/step\n",
            "Epoch 7/150\n",
            "21/21 - 0s - loss: 410.0034 - mae: 17.9659 - val_loss: 337.8793 - val_mae: 16.0906 - 156ms/epoch - 7ms/step\n",
            "Epoch 8/150\n",
            "21/21 - 0s - loss: 237.3262 - mae: 13.0158 - val_loss: 188.6854 - val_mae: 11.7550 - 87ms/epoch - 4ms/step\n",
            "Epoch 9/150\n",
            "21/21 - 0s - loss: 140.4123 - mae: 9.5798 - val_loss: 127.9635 - val_mae: 9.2142 - 90ms/epoch - 4ms/step\n",
            "Epoch 10/150\n",
            "21/21 - 0s - loss: 112.6459 - mae: 8.4779 - val_loss: 115.2739 - val_mae: 8.6965 - 85ms/epoch - 4ms/step\n",
            "Epoch 11/150\n",
            "21/21 - 0s - loss: 109.8824 - mae: 8.4001 - val_loss: 126.3063 - val_mae: 8.9986 - 92ms/epoch - 4ms/step\n",
            "Epoch 12/150\n",
            "21/21 - 0s - loss: 108.7414 - mae: 8.3909 - val_loss: 116.9010 - val_mae: 8.6241 - 82ms/epoch - 4ms/step\n",
            "Epoch 13/150\n",
            "21/21 - 0s - loss: 109.3636 - mae: 8.3730 - val_loss: 113.6574 - val_mae: 8.4917 - 91ms/epoch - 4ms/step\n",
            "Epoch 14/150\n",
            "21/21 - 0s - loss: 108.5055 - mae: 8.3758 - val_loss: 114.3684 - val_mae: 8.6381 - 95ms/epoch - 5ms/step\n",
            "Epoch 15/150\n",
            "21/21 - 0s - loss: 108.8412 - mae: 8.4156 - val_loss: 110.9157 - val_mae: 8.2682 - 94ms/epoch - 4ms/step\n",
            "Epoch 16/150\n",
            "21/21 - 0s - loss: 106.9808 - mae: 8.2981 - val_loss: 112.7023 - val_mae: 8.3301 - 103ms/epoch - 5ms/step\n",
            "Epoch 17/150\n",
            "21/21 - 0s - loss: 108.2232 - mae: 8.2534 - val_loss: 119.5241 - val_mae: 8.2882 - 89ms/epoch - 4ms/step\n",
            "Epoch 18/150\n",
            "21/21 - 0s - loss: 108.5477 - mae: 8.3031 - val_loss: 111.7165 - val_mae: 8.3262 - 87ms/epoch - 4ms/step\n",
            "Epoch 19/150\n",
            "21/21 - 0s - loss: 107.6177 - mae: 8.3080 - val_loss: 112.4275 - val_mae: 8.3053 - 93ms/epoch - 4ms/step\n",
            "Epoch 20/150\n",
            "21/21 - 0s - loss: 107.4893 - mae: 8.2877 - val_loss: 108.5935 - val_mae: 8.2229 - 92ms/epoch - 4ms/step\n",
            "Epoch 21/150\n",
            "21/21 - 0s - loss: 106.0396 - mae: 8.2339 - val_loss: 116.0251 - val_mae: 8.5232 - 94ms/epoch - 4ms/step\n",
            "Epoch 22/150\n",
            "21/21 - 0s - loss: 105.9857 - mae: 8.2720 - val_loss: 107.0699 - val_mae: 8.1721 - 98ms/epoch - 5ms/step\n",
            "Epoch 23/150\n",
            "21/21 - 0s - loss: 107.5589 - mae: 8.2531 - val_loss: 107.8380 - val_mae: 8.1050 - 91ms/epoch - 4ms/step\n",
            "Epoch 24/150\n",
            "21/21 - 0s - loss: 107.3553 - mae: 8.2051 - val_loss: 111.1394 - val_mae: 8.4394 - 107ms/epoch - 5ms/step\n",
            "Epoch 25/150\n",
            "21/21 - 0s - loss: 107.0978 - mae: 8.2565 - val_loss: 114.0734 - val_mae: 8.4318 - 84ms/epoch - 4ms/step\n",
            "Epoch 26/150\n",
            "21/21 - 0s - loss: 105.8597 - mae: 8.2296 - val_loss: 119.1715 - val_mae: 8.6629 - 85ms/epoch - 4ms/step\n",
            "Epoch 27/150\n",
            "21/21 - 0s - loss: 106.4158 - mae: 8.2924 - val_loss: 114.7697 - val_mae: 8.4911 - 88ms/epoch - 4ms/step\n",
            "Epoch 28/150\n",
            "21/21 - 0s - loss: 106.0198 - mae: 8.3169 - val_loss: 114.8297 - val_mae: 8.4656 - 102ms/epoch - 5ms/step\n",
            "Epoch 29/150\n",
            "21/21 - 0s - loss: 106.8752 - mae: 8.2555 - val_loss: 108.5469 - val_mae: 8.3651 - 100ms/epoch - 5ms/step\n",
            "Epoch 30/150\n",
            "21/21 - 0s - loss: 106.5802 - mae: 8.2534 - val_loss: 109.6324 - val_mae: 8.2556 - 87ms/epoch - 4ms/step\n",
            "Epoch 31/150\n",
            "21/21 - 0s - loss: 105.7954 - mae: 8.2482 - val_loss: 122.3694 - val_mae: 8.3892 - 84ms/epoch - 4ms/step\n",
            "Epoch 32/150\n",
            "21/21 - 0s - loss: 106.4940 - mae: 8.2094 - val_loss: 110.9082 - val_mae: 8.1407 - 85ms/epoch - 4ms/step\n",
            "Epoch 33/150\n",
            "21/21 - 0s - loss: 107.4913 - mae: 8.2700 - val_loss: 119.9387 - val_mae: 8.4061 - 91ms/epoch - 4ms/step\n",
            "Epoch 34/150\n",
            "21/21 - 0s - loss: 106.8138 - mae: 8.2380 - val_loss: 109.4374 - val_mae: 8.1827 - 85ms/epoch - 4ms/step\n",
            "Epoch 35/150\n",
            "21/21 - 0s - loss: 106.3231 - mae: 8.1864 - val_loss: 110.1238 - val_mae: 8.2568 - 105ms/epoch - 5ms/step\n",
            "Epoch 36/150\n",
            "21/21 - 0s - loss: 106.1307 - mae: 8.1868 - val_loss: 109.3956 - val_mae: 8.2189 - 131ms/epoch - 6ms/step\n",
            "Epoch 37/150\n",
            "21/21 - 0s - loss: 106.9362 - mae: 8.2257 - val_loss: 113.5305 - val_mae: 8.1337 - 123ms/epoch - 6ms/step\n",
            "Epoch 38/150\n",
            "21/21 - 0s - loss: 106.8687 - mae: 8.1861 - val_loss: 110.5949 - val_mae: 8.3102 - 123ms/epoch - 6ms/step\n",
            "Epoch 39/150\n",
            "21/21 - 0s - loss: 105.9252 - mae: 8.2369 - val_loss: 110.7421 - val_mae: 8.4436 - 129ms/epoch - 6ms/step\n",
            "Epoch 40/150\n",
            "21/21 - 0s - loss: 106.1836 - mae: 8.2383 - val_loss: 110.4526 - val_mae: 8.6157 - 121ms/epoch - 6ms/step\n",
            "Epoch 41/150\n",
            "21/21 - 0s - loss: 106.7948 - mae: 8.3464 - val_loss: 103.2196 - val_mae: 8.0784 - 120ms/epoch - 6ms/step\n",
            "Epoch 42/150\n",
            "21/21 - 0s - loss: 106.3835 - mae: 8.2623 - val_loss: 100.8238 - val_mae: 8.0530 - 125ms/epoch - 6ms/step\n",
            "Epoch 43/150\n",
            "21/21 - 0s - loss: 106.3618 - mae: 8.2396 - val_loss: 105.7184 - val_mae: 8.0405 - 138ms/epoch - 7ms/step\n",
            "Epoch 44/150\n",
            "21/21 - 0s - loss: 106.5025 - mae: 8.2505 - val_loss: 104.2784 - val_mae: 8.0910 - 129ms/epoch - 6ms/step\n",
            "Epoch 45/150\n",
            "21/21 - 0s - loss: 106.5781 - mae: 8.2666 - val_loss: 105.9071 - val_mae: 8.0814 - 167ms/epoch - 8ms/step\n",
            "Epoch 46/150\n",
            "21/21 - 0s - loss: 106.0114 - mae: 8.1954 - val_loss: 117.1205 - val_mae: 8.6222 - 118ms/epoch - 6ms/step\n",
            "Epoch 47/150\n",
            "21/21 - 0s - loss: 105.6615 - mae: 8.2140 - val_loss: 107.9625 - val_mae: 8.2955 - 116ms/epoch - 6ms/step\n",
            "Epoch 48/150\n",
            "21/21 - 0s - loss: 106.0690 - mae: 8.2103 - val_loss: 110.6538 - val_mae: 8.1978 - 130ms/epoch - 6ms/step\n",
            "Epoch 49/150\n",
            "21/21 - 0s - loss: 106.1283 - mae: 8.2335 - val_loss: 106.8955 - val_mae: 8.2889 - 130ms/epoch - 6ms/step\n",
            "Epoch 50/150\n",
            "21/21 - 0s - loss: 105.3564 - mae: 8.2211 - val_loss: 103.9506 - val_mae: 8.1624 - 120ms/epoch - 6ms/step\n",
            "Epoch 51/150\n",
            "21/21 - 0s - loss: 105.6414 - mae: 8.2446 - val_loss: 105.0088 - val_mae: 7.9803 - 141ms/epoch - 7ms/step\n",
            "Epoch 52/150\n",
            "21/21 - 0s - loss: 107.3233 - mae: 8.2156 - val_loss: 104.3261 - val_mae: 8.4126 - 121ms/epoch - 6ms/step\n",
            "Epoch 53/150\n",
            "21/21 - 0s - loss: 106.3178 - mae: 8.2946 - val_loss: 105.7893 - val_mae: 8.1967 - 129ms/epoch - 6ms/step\n",
            "Epoch 54/150\n",
            "21/21 - 0s - loss: 105.3433 - mae: 8.1884 - val_loss: 108.1150 - val_mae: 8.2269 - 117ms/epoch - 6ms/step\n",
            "Epoch 55/150\n",
            "21/21 - 0s - loss: 105.6496 - mae: 8.1895 - val_loss: 117.2905 - val_mae: 8.5699 - 122ms/epoch - 6ms/step\n",
            "Epoch 56/150\n",
            "21/21 - 0s - loss: 105.7458 - mae: 8.2326 - val_loss: 115.8398 - val_mae: 8.4671 - 114ms/epoch - 5ms/step\n",
            "Epoch 57/150\n",
            "21/21 - 0s - loss: 106.0641 - mae: 8.3010 - val_loss: 106.9018 - val_mae: 7.9535 - 118ms/epoch - 6ms/step\n",
            "Epoch 58/150\n",
            "21/21 - 0s - loss: 106.0901 - mae: 8.1910 - val_loss: 108.0037 - val_mae: 8.1605 - 127ms/epoch - 6ms/step\n",
            "Epoch 59/150\n",
            "21/21 - 0s - loss: 105.9920 - mae: 8.1869 - val_loss: 108.8371 - val_mae: 8.1634 - 122ms/epoch - 6ms/step\n",
            "Epoch 60/150\n",
            "21/21 - 0s - loss: 105.9970 - mae: 8.2477 - val_loss: 103.0463 - val_mae: 8.0622 - 142ms/epoch - 7ms/step\n",
            "Epoch 61/150\n",
            "21/21 - 0s - loss: 107.7895 - mae: 8.2196 - val_loss: 110.4283 - val_mae: 8.2007 - 129ms/epoch - 6ms/step\n",
            "Epoch 62/150\n",
            "21/21 - 0s - loss: 105.7480 - mae: 8.1748 - val_loss: 107.3704 - val_mae: 8.2706 - 139ms/epoch - 7ms/step\n",
            "Epoch 63/150\n",
            "21/21 - 0s - loss: 104.6749 - mae: 8.1414 - val_loss: 111.7498 - val_mae: 8.3025 - 108ms/epoch - 5ms/step\n",
            "Epoch 64/150\n",
            "21/21 - 0s - loss: 105.2728 - mae: 8.2069 - val_loss: 104.2292 - val_mae: 8.1643 - 102ms/epoch - 5ms/step\n",
            "Epoch 65/150\n",
            "21/21 - 0s - loss: 105.6961 - mae: 8.2071 - val_loss: 124.8818 - val_mae: 8.6339 - 84ms/epoch - 4ms/step\n",
            "Epoch 66/150\n",
            "21/21 - 0s - loss: 106.1384 - mae: 8.1260 - val_loss: 112.8429 - val_mae: 8.2987 - 84ms/epoch - 4ms/step\n",
            "Epoch 67/150\n",
            "21/21 - 0s - loss: 106.3122 - mae: 8.2213 - val_loss: 104.4111 - val_mae: 8.2157 - 92ms/epoch - 4ms/step\n",
            "Epoch 68/150\n",
            "21/21 - 0s - loss: 105.9925 - mae: 8.2253 - val_loss: 110.1346 - val_mae: 8.2916 - 98ms/epoch - 5ms/step\n",
            "Epoch 69/150\n",
            "21/21 - 0s - loss: 106.3600 - mae: 8.2181 - val_loss: 108.4116 - val_mae: 8.1926 - 93ms/epoch - 4ms/step\n",
            "Epoch 70/150\n",
            "21/21 - 0s - loss: 105.3738 - mae: 8.2209 - val_loss: 112.6677 - val_mae: 8.3505 - 95ms/epoch - 5ms/step\n",
            "Epoch 71/150\n",
            "21/21 - 0s - loss: 104.8982 - mae: 8.1776 - val_loss: 109.8196 - val_mae: 8.2830 - 94ms/epoch - 4ms/step\n",
            "Epoch 72/150\n",
            "21/21 - 0s - loss: 106.2700 - mae: 8.2070 - val_loss: 104.7116 - val_mae: 8.1327 - 87ms/epoch - 4ms/step\n",
            "Epoch 73/150\n",
            "21/21 - 0s - loss: 105.8382 - mae: 8.1936 - val_loss: 105.6302 - val_mae: 8.4399 - 87ms/epoch - 4ms/step\n",
            "Epoch 74/150\n",
            "21/21 - 0s - loss: 106.1695 - mae: 8.2719 - val_loss: 106.8772 - val_mae: 8.2767 - 92ms/epoch - 4ms/step\n",
            "Epoch 75/150\n",
            "21/21 - 0s - loss: 106.5506 - mae: 8.2708 - val_loss: 106.9430 - val_mae: 8.2882 - 94ms/epoch - 4ms/step\n",
            "Epoch 76/150\n",
            "21/21 - 0s - loss: 105.0902 - mae: 8.1314 - val_loss: 109.7978 - val_mae: 8.2864 - 87ms/epoch - 4ms/step\n",
            "Epoch 77/150\n",
            "21/21 - 0s - loss: 106.6162 - mae: 8.2428 - val_loss: 109.2027 - val_mae: 8.1888 - 89ms/epoch - 4ms/step\n",
            "Epoch 78/150\n",
            "21/21 - 0s - loss: 106.6766 - mae: 8.2148 - val_loss: 101.4698 - val_mae: 8.0289 - 90ms/epoch - 4ms/step\n",
            "Epoch 79/150\n",
            "21/21 - 0s - loss: 105.4332 - mae: 8.2120 - val_loss: 107.8437 - val_mae: 8.2299 - 82ms/epoch - 4ms/step\n",
            "Epoch 80/150\n",
            "21/21 - 0s - loss: 106.4310 - mae: 8.2684 - val_loss: 101.0398 - val_mae: 7.9803 - 85ms/epoch - 4ms/step\n",
            "Epoch 81/150\n",
            "21/21 - 0s - loss: 106.4277 - mae: 8.1913 - val_loss: 100.7990 - val_mae: 7.9549 - 98ms/epoch - 5ms/step\n",
            "Epoch 82/150\n",
            "21/21 - 0s - loss: 107.2214 - mae: 8.2267 - val_loss: 104.0524 - val_mae: 8.1411 - 95ms/epoch - 5ms/step\n",
            "Epoch 83/150\n",
            "21/21 - 0s - loss: 105.5980 - mae: 8.1878 - val_loss: 110.9082 - val_mae: 8.3059 - 94ms/epoch - 4ms/step\n",
            "Epoch 84/150\n",
            "21/21 - 0s - loss: 104.6497 - mae: 8.1823 - val_loss: 117.6843 - val_mae: 8.6864 - 92ms/epoch - 4ms/step\n",
            "Epoch 85/150\n",
            "21/21 - 0s - loss: 107.0532 - mae: 8.2203 - val_loss: 107.5167 - val_mae: 8.2443 - 89ms/epoch - 4ms/step\n",
            "Epoch 86/150\n",
            "21/21 - 0s - loss: 106.5130 - mae: 8.2659 - val_loss: 119.6260 - val_mae: 8.4752 - 86ms/epoch - 4ms/step\n",
            "Epoch 87/150\n",
            "21/21 - 0s - loss: 105.5853 - mae: 8.2366 - val_loss: 104.7170 - val_mae: 8.2280 - 84ms/epoch - 4ms/step\n",
            "Epoch 88/150\n",
            "21/21 - 0s - loss: 105.3656 - mae: 8.2212 - val_loss: 113.1694 - val_mae: 8.4615 - 84ms/epoch - 4ms/step\n",
            "Epoch 89/150\n",
            "21/21 - 0s - loss: 106.3309 - mae: 8.2623 - val_loss: 115.2793 - val_mae: 8.4782 - 98ms/epoch - 5ms/step\n",
            "Epoch 90/150\n",
            "21/21 - 0s - loss: 106.1294 - mae: 8.2824 - val_loss: 113.3224 - val_mae: 8.3566 - 94ms/epoch - 4ms/step\n",
            "Epoch 91/150\n",
            "21/21 - 0s - loss: 105.8208 - mae: 8.2732 - val_loss: 104.8198 - val_mae: 8.1810 - 81ms/epoch - 4ms/step\n",
            "Epoch 92/150\n",
            "21/21 - 0s - loss: 105.2605 - mae: 8.2222 - val_loss: 101.4175 - val_mae: 8.0931 - 94ms/epoch - 4ms/step\n",
            "Epoch 93/150\n",
            "21/21 - 0s - loss: 106.0377 - mae: 8.2507 - val_loss: 105.3560 - val_mae: 8.1753 - 95ms/epoch - 5ms/step\n",
            "Epoch 94/150\n",
            "21/21 - 0s - loss: 106.2116 - mae: 8.2472 - val_loss: 99.2577 - val_mae: 7.9142 - 83ms/epoch - 4ms/step\n",
            "Epoch 95/150\n",
            "21/21 - 0s - loss: 105.6029 - mae: 8.2202 - val_loss: 115.8904 - val_mae: 8.4886 - 83ms/epoch - 4ms/step\n",
            "Epoch 96/150\n",
            "21/21 - 0s - loss: 106.1517 - mae: 8.1963 - val_loss: 104.9366 - val_mae: 8.2158 - 91ms/epoch - 4ms/step\n",
            "Epoch 97/150\n",
            "21/21 - 0s - loss: 105.5305 - mae: 8.2617 - val_loss: 104.0648 - val_mae: 8.2097 - 90ms/epoch - 4ms/step\n",
            "Epoch 98/150\n",
            "21/21 - 0s - loss: 106.4079 - mae: 8.2359 - val_loss: 110.7087 - val_mae: 8.1176 - 82ms/epoch - 4ms/step\n",
            "Epoch 99/150\n",
            "21/21 - 0s - loss: 105.7209 - mae: 8.1790 - val_loss: 107.2776 - val_mae: 8.1004 - 85ms/epoch - 4ms/step\n",
            "Epoch 100/150\n",
            "21/21 - 0s - loss: 106.3427 - mae: 8.2135 - val_loss: 103.9722 - val_mae: 8.1619 - 102ms/epoch - 5ms/step\n",
            "Epoch 101/150\n",
            "21/21 - 0s - loss: 106.0646 - mae: 8.2318 - val_loss: 107.1477 - val_mae: 8.0857 - 86ms/epoch - 4ms/step\n",
            "Epoch 102/150\n",
            "21/21 - 0s - loss: 105.8956 - mae: 8.2350 - val_loss: 104.0460 - val_mae: 8.0442 - 86ms/epoch - 4ms/step\n",
            "Epoch 103/150\n",
            "21/21 - 0s - loss: 105.8830 - mae: 8.1774 - val_loss: 114.0970 - val_mae: 8.3287 - 84ms/epoch - 4ms/step\n",
            "Epoch 104/150\n",
            "21/21 - 0s - loss: 106.3144 - mae: 8.2051 - val_loss: 105.1218 - val_mae: 8.2470 - 93ms/epoch - 4ms/step\n",
            "Epoch 105/150\n",
            "21/21 - 0s - loss: 104.6124 - mae: 8.2009 - val_loss: 101.6150 - val_mae: 8.1394 - 87ms/epoch - 4ms/step\n",
            "Epoch 106/150\n",
            "21/21 - 0s - loss: 104.8388 - mae: 8.1533 - val_loss: 116.7292 - val_mae: 8.5716 - 85ms/epoch - 4ms/step\n",
            "Epoch 107/150\n",
            "21/21 - 0s - loss: 106.1210 - mae: 8.2463 - val_loss: 109.5866 - val_mae: 8.1563 - 93ms/epoch - 4ms/step\n",
            "Epoch 108/150\n",
            "21/21 - 0s - loss: 106.1355 - mae: 8.1434 - val_loss: 104.5897 - val_mae: 8.0945 - 85ms/epoch - 4ms/step\n",
            "Epoch 109/150\n",
            "21/21 - 0s - loss: 106.1496 - mae: 8.2482 - val_loss: 108.2513 - val_mae: 8.0879 - 92ms/epoch - 4ms/step\n",
            "Epoch 110/150\n",
            "21/21 - 0s - loss: 105.9190 - mae: 8.2244 - val_loss: 107.1807 - val_mae: 8.0781 - 99ms/epoch - 5ms/step\n",
            "Epoch 111/150\n",
            "21/21 - 0s - loss: 106.1039 - mae: 8.2149 - val_loss: 106.8405 - val_mae: 8.1795 - 93ms/epoch - 4ms/step\n",
            "Epoch 112/150\n",
            "21/21 - 0s - loss: 105.2887 - mae: 8.2365 - val_loss: 99.6514 - val_mae: 8.0625 - 95ms/epoch - 5ms/step\n",
            "Epoch 113/150\n",
            "21/21 - 0s - loss: 106.1307 - mae: 8.2119 - val_loss: 103.6789 - val_mae: 8.4727 - 96ms/epoch - 5ms/step\n",
            "Epoch 114/150\n",
            "21/21 - 0s - loss: 106.0431 - mae: 8.2919 - val_loss: 101.0126 - val_mae: 8.1067 - 87ms/epoch - 4ms/step\n",
            "Epoch 115/150\n",
            "21/21 - 0s - loss: 105.6534 - mae: 8.2039 - val_loss: 105.3755 - val_mae: 8.1098 - 91ms/epoch - 4ms/step\n",
            "Epoch 116/150\n",
            "21/21 - 0s - loss: 106.6534 - mae: 8.2531 - val_loss: 108.4503 - val_mae: 8.1074 - 86ms/epoch - 4ms/step\n",
            "Epoch 117/150\n",
            "21/21 - 0s - loss: 106.4048 - mae: 8.2469 - val_loss: 101.4887 - val_mae: 7.9265 - 85ms/epoch - 4ms/step\n",
            "Epoch 118/150\n",
            "21/21 - 0s - loss: 106.1705 - mae: 8.2169 - val_loss: 103.7960 - val_mae: 8.0559 - 102ms/epoch - 5ms/step\n",
            "Epoch 119/150\n",
            "21/21 - 0s - loss: 106.2398 - mae: 8.2200 - val_loss: 105.4994 - val_mae: 8.0719 - 94ms/epoch - 4ms/step\n",
            "Epoch 120/150\n",
            "21/21 - 0s - loss: 105.4864 - mae: 8.1723 - val_loss: 103.2234 - val_mae: 8.0527 - 94ms/epoch - 4ms/step\n",
            "Epoch 121/150\n",
            "21/21 - 0s - loss: 106.4349 - mae: 8.1793 - val_loss: 102.0620 - val_mae: 8.1666 - 102ms/epoch - 5ms/step\n",
            "Epoch 122/150\n",
            "21/21 - 0s - loss: 106.5730 - mae: 8.2512 - val_loss: 101.6448 - val_mae: 8.2155 - 93ms/epoch - 4ms/step\n",
            "Epoch 123/150\n",
            "21/21 - 0s - loss: 105.6787 - mae: 8.2174 - val_loss: 104.2848 - val_mae: 8.0435 - 91ms/epoch - 4ms/step\n",
            "Epoch 124/150\n",
            "21/21 - 0s - loss: 106.0901 - mae: 8.2165 - val_loss: 111.5431 - val_mae: 8.4615 - 99ms/epoch - 5ms/step\n",
            "Epoch 125/150\n",
            "21/21 - 0s - loss: 104.6645 - mae: 8.1957 - val_loss: 102.7090 - val_mae: 8.0873 - 85ms/epoch - 4ms/step\n",
            "Epoch 126/150\n",
            "21/21 - 0s - loss: 106.3200 - mae: 8.2154 - val_loss: 106.1378 - val_mae: 8.2221 - 81ms/epoch - 4ms/step\n",
            "Epoch 127/150\n",
            "21/21 - 0s - loss: 106.3853 - mae: 8.2400 - val_loss: 102.1625 - val_mae: 8.0875 - 87ms/epoch - 4ms/step\n",
            "Epoch 128/150\n",
            "21/21 - 0s - loss: 106.0527 - mae: 8.2242 - val_loss: 107.8943 - val_mae: 8.1063 - 88ms/epoch - 4ms/step\n",
            "Epoch 129/150\n",
            "21/21 - 0s - loss: 106.0503 - mae: 8.2554 - val_loss: 104.5315 - val_mae: 8.1099 - 91ms/epoch - 4ms/step\n",
            "Epoch 130/150\n",
            "21/21 - 0s - loss: 106.6974 - mae: 8.2557 - val_loss: 109.9089 - val_mae: 8.2518 - 83ms/epoch - 4ms/step\n",
            "Epoch 131/150\n",
            "21/21 - 0s - loss: 106.0152 - mae: 8.1747 - val_loss: 104.9511 - val_mae: 8.2065 - 107ms/epoch - 5ms/step\n",
            "Epoch 132/150\n",
            "21/21 - 0s - loss: 105.9171 - mae: 8.1675 - val_loss: 108.7181 - val_mae: 8.3363 - 86ms/epoch - 4ms/step\n",
            "Epoch 133/150\n",
            "21/21 - 0s - loss: 105.8254 - mae: 8.2060 - val_loss: 109.4704 - val_mae: 8.2524 - 80ms/epoch - 4ms/step\n",
            "Epoch 134/150\n",
            "21/21 - 0s - loss: 104.7802 - mae: 8.1700 - val_loss: 103.0532 - val_mae: 8.0112 - 93ms/epoch - 4ms/step\n",
            "Epoch 135/150\n",
            "21/21 - 0s - loss: 104.8291 - mae: 8.2003 - val_loss: 120.4308 - val_mae: 8.6474 - 86ms/epoch - 4ms/step\n",
            "Epoch 136/150\n",
            "21/21 - 0s - loss: 107.5948 - mae: 8.2638 - val_loss: 109.0912 - val_mae: 8.2048 - 91ms/epoch - 4ms/step\n",
            "Epoch 137/150\n",
            "21/21 - 0s - loss: 105.5533 - mae: 8.1717 - val_loss: 115.7428 - val_mae: 8.4400 - 93ms/epoch - 4ms/step\n",
            "Epoch 138/150\n",
            "21/21 - 0s - loss: 106.1793 - mae: 8.2225 - val_loss: 111.4151 - val_mae: 8.3986 - 92ms/epoch - 4ms/step\n",
            "Epoch 139/150\n",
            "21/21 - 0s - loss: 106.1692 - mae: 8.2190 - val_loss: 108.4651 - val_mae: 8.2597 - 95ms/epoch - 5ms/step\n",
            "Epoch 140/150\n",
            "21/21 - 0s - loss: 106.5761 - mae: 8.2143 - val_loss: 105.7131 - val_mae: 8.1052 - 98ms/epoch - 5ms/step\n",
            "Epoch 141/150\n",
            "21/21 - 0s - loss: 106.1963 - mae: 8.2324 - val_loss: 103.6812 - val_mae: 7.9492 - 85ms/epoch - 4ms/step\n",
            "Epoch 142/150\n",
            "21/21 - 0s - loss: 106.0130 - mae: 8.1954 - val_loss: 101.1089 - val_mae: 7.9731 - 109ms/epoch - 5ms/step\n",
            "Epoch 143/150\n",
            "21/21 - 0s - loss: 106.1342 - mae: 8.2114 - val_loss: 109.4663 - val_mae: 8.2007 - 88ms/epoch - 4ms/step\n",
            "Epoch 144/150\n",
            "21/21 - 0s - loss: 104.8887 - mae: 8.2060 - val_loss: 106.5685 - val_mae: 8.0538 - 83ms/epoch - 4ms/step\n",
            "Epoch 145/150\n",
            "21/21 - 0s - loss: 106.0024 - mae: 8.2164 - val_loss: 113.8190 - val_mae: 8.1758 - 99ms/epoch - 5ms/step\n",
            "Epoch 146/150\n",
            "21/21 - 0s - loss: 105.5697 - mae: 8.1674 - val_loss: 103.5668 - val_mae: 8.1669 - 97ms/epoch - 5ms/step\n",
            "Epoch 147/150\n",
            "21/21 - 0s - loss: 106.1936 - mae: 8.2257 - val_loss: 111.8773 - val_mae: 8.3279 - 97ms/epoch - 5ms/step\n",
            "Epoch 148/150\n",
            "21/21 - 0s - loss: 105.0397 - mae: 8.1957 - val_loss: 104.2849 - val_mae: 8.2793 - 85ms/epoch - 4ms/step\n",
            "Epoch 149/150\n",
            "21/21 - 0s - loss: 105.8260 - mae: 8.2210 - val_loss: 114.7012 - val_mae: 8.4182 - 97ms/epoch - 5ms/step\n",
            "Epoch 150/150\n",
            "21/21 - 0s - loss: 106.1912 - mae: 8.2235 - val_loss: 106.4231 - val_mae: 8.1982 - 88ms/epoch - 4ms/step\n"
          ]
        }
      ],
      "source": [
        "history = model.fit(X_train, y_train, epochs=150, validation_split=0.2, verbose=2)"
      ]
    },
    {
      "cell_type": "code",
      "execution_count": null,
      "metadata": {
        "colab": {
          "base_uri": "https://localhost:8080/"
        },
        "id": "HcoWb5lGkAAP",
        "outputId": "8b187f9c-3ae6-4df9-8012-f8be47016044"
      },
      "outputs": [
        {
          "name": "stdout",
          "output_type": "stream",
          "text": [
            "7/7 [==============================] - 0s 3ms/step - loss: 120.9935 - mae: 8.4697\n",
            "Test MSE: 120.99347686767578\n",
            "Test MAE: 8.469736099243164\n"
          ]
        }
      ],
      "source": [
        "test_mse_score, test_mae_score = model.evaluate(X_test, y_test)\n",
        "print(f\"Test MSE: {test_mse_score}\\nTest MAE: {test_mae_score}\")"
      ]
    },
    {
      "cell_type": "code",
      "execution_count": null,
      "metadata": {
        "colab": {
          "base_uri": "https://localhost:8080/"
        },
        "id": "HVYujGHMkCLM",
        "outputId": "42ee30ff-5d86-4e90-b379-5fe5f7eea90e"
      },
      "outputs": [
        {
          "name": "stdout",
          "output_type": "stream",
          "text": [
            "7/7 [==============================] - 0s 2ms/step\n",
            "[59.704327 27.766558 36.898346 19.667847 23.59239  29.005173 11.131764\n",
            " 26.042662 34.502316 36.07598  33.52238  40.620888 33.45471  32.259087\n",
            " 18.490517 32.931503 19.423113 23.559645 39.321194 43.901836 24.437183\n",
            " 31.60943  32.302837 22.789045 42.67379  28.979097 35.275204 48.451126\n",
            " 32.248177 35.81251  23.788374 34.544376 54.15681  48.70696  50.533436\n",
            " 51.90167  24.193598 51.594467 30.008402 28.479937 25.621222 24.794937\n",
            " 22.972462 72.78738  15.513379 29.01804  26.03454  37.520603 22.52027\n",
            " 27.40521  25.363638 50.283054 32.10505  22.93749  22.516073 58.487423\n",
            " 38.664936 29.701273 15.189297 38.401966 24.44093  17.572744 23.12086\n",
            " 33.508728 21.340136 32.010365 20.478998 25.217321 43.774513 30.566954\n",
            " 49.663795 27.935413 25.26217  36.03088  23.022518 67.021645 71.92219\n",
            " 29.949041 26.44837  49.826664 26.640799 52.920822 22.935028 61.405243\n",
            " 42.97877  29.835514 43.016922 55.904533 31.872536 30.282434 31.904366\n",
            " 35.02908  62.789543 34.818386 27.640017 32.63946  35.652767 48.318264\n",
            " 51.25819  45.72777  48.744396 32.589832 18.962881 18.439964 26.960993\n",
            " 27.502707 20.298403 27.02331  20.268436 51.106403 38.34679  30.210314\n",
            " 51.95034  41.177357 13.984185 37.33308  43.59857  24.936357 27.982887\n",
            " 32.809048 29.721224 29.711786 38.090134 28.997866 39.973423 24.674664\n",
            " 31.88156  37.31931  52.13189  35.904766 17.412317 46.826504 53.178326\n",
            " 58.585026 27.107656 52.994274 42.456287 43.490185 53.72658  30.773409\n",
            " 20.865002 35.445812 22.521181 19.419722 29.135153 20.470102 40.790382\n",
            " 25.03039  40.54555  52.278214 31.28861  53.31787  20.17787  49.67893\n",
            " 33.419384 50.077045 48.580193 46.05509  61.62502  33.127605 33.891872\n",
            " 28.32207  31.641453 32.673965 38.239826 42.939938 47.170498 27.775663\n",
            " 32.028477 50.62962  62.616688 17.201807 19.540646 33.28808  30.30237\n",
            " 33.776592 32.425266 38.41464  25.999916 18.86143  58.343334 46.817844\n",
            " 71.057     9.893125 18.908525 25.603912 23.33898  55.130634 21.588507\n",
            " 24.70096  30.028595 48.235    45.611774 37.207645 41.125763 62.813366\n",
            " 35.175972 14.267167 49.949078 19.968779 25.043444]\n"
          ]
        }
      ],
      "source": [
        "predictions = model.predict(X_test)\n",
        "print(predictions.flatten())"
      ]
    },
    {
      "cell_type": "code",
      "execution_count": null,
      "metadata": {
        "colab": {
          "base_uri": "https://localhost:8080/",
          "height": 472
        },
        "id": "PXyiC2sUkGgY",
        "outputId": "067412f3-06ab-4f93-9e35-afd99d1ffa21"
      },
      "outputs": [
        {
          "data": {
            "image/png": "[encoded data removed]",
            "text/plain": [
              "<Figure size 640x480 with 1 Axes>"
            ]
          },
          "metadata": {},
          "output_type": "display_data"
        }
      ],
      "source": [
        "import matplotlib.pyplot as plt\n",
        "\n",
        "plt.plot(history.history['mae'])\n",
        "plt.plot(history.history['val_mae'])\n",
        "plt.title('Model MAE')\n",
        "plt.ylabel('MAE')\n",
        "plt.xlabel('Epoch')\n",
        "plt.legend(['Train', 'Validation'], loc='upper left')\n",
        "plt.show()"
      ]
    },
    {
      "cell_type": "code",
      "execution_count": null,
      "metadata": {
        "colab": {
          "base_uri": "https://localhost:8080/",
          "height": 466
        },
        "id": "yWRuO0WvkI7f",
        "outputId": "679598bc-dd44-4e9b-f10f-171b9a865a5c"
      },
      "outputs": [
        {
          "name": "stdout",
          "output_type": "stream",
          "text": [
            "7/7 [==============================] - 0s 2ms/step\n"
          ]
        },
        {
          "data": {
            "image/png": "[encoded data removed]",
            "text/plain": [
              "<Figure size 640x480 with 1 Axes>"
            ]
          },
          "metadata": {},
          "output_type": "display_data"
        }
      ],
      "source": [
        "# Make predictions\n",
        "predictions = model.predict(X_test).flatten()\n",
        "\n",
        "# Plotting true labels vs predicted labels\n",
        "plt.scatter(y_test, predictions, color = '#88c999')\n",
        "plt.xlabel('True Values [Price]')\n",
        "plt.ylabel('Predictions [Price]')\n",
        "plt.axis('equal')\n",
        "plt.axis('square')\n",
        "plt.xlim([0,plt.xlim()[1]])\n",
        "plt.ylim([0,plt.ylim()[1]])\n",
        "_ = plt.plot([-100, 100], [-100, 100])\n",
        "# plt.legend()\n",
        "plt.show()\n"
      ]
    }
  ],
  "metadata": {
    "accelerator": "GPU",
    "colab": {
      "gpuType": "T4",
      "provenance": []
    },
    "kernelspec": {
      "display_name": "Python 3",
      "name": "python3"
    },
    "language_info": {
      "name": "python"
    }
  },
  "nbformat": 4,
  "nbformat_minor": 0
}
